{
  "nbformat": 4,
  "nbformat_minor": 0,
  "metadata": {
    "colab": {
      "name": "Numpy.ipynb",
      "provenance": [],
      "collapsed_sections": []
    },
    "kernelspec": {
      "display_name": "Python 3",
      "language": "python",
      "name": "python3"
    }
  },
  "cells": [
    {
      "cell_type": "markdown",
      "metadata": {
        "id": "WJbYU72QsPEJ",
        "colab_type": "text"
      },
      "source": [
        "# Numpy"
      ]
    },
    {
      "cell_type": "markdown",
      "metadata": {
        "id": "NHUGamMg5Z5T",
        "colab_type": "text"
      },
      "source": [
        "Numpy is the fundamental package for scientific computing with python.<br>\n",
        "*   It is also called as Numerical Python.<br>\n",
        "*   Easy and efficient.<br>\n",
        "*   NumPy enriches the programming language Python with powerful data structures, implementing multi-dimensional arrays and matrices. These data structures guarantee efficient calculations with matrices and arrays"
      ]
    },
    {
      "cell_type": "code",
      "metadata": {
        "id": "703MFO-gtnKA",
        "colab_type": "code",
        "colab": {}
      },
      "source": [
        "import numpy as np"
      ],
      "execution_count": 0,
      "outputs": []
    },
    {
      "cell_type": "code",
      "metadata": {
        "id": "IrO3l4LVt1kc",
        "colab_type": "code",
        "colab": {
          "base_uri": "https://localhost:8080/",
          "height": 67
        },
        "outputId": "a78d6d9b-1200-4472-95b0-fb493dffaa48"
      },
      "source": [
        "# Creating an array using python.\n",
        "x = np.array([1,2,3])\n",
        "print(x)\n",
        "\n",
        "# Display type of X\n",
        "print(type(x))\n",
        "\n",
        "# Display length of x\n",
        "print(len(x))"
      ],
      "execution_count": 5,
      "outputs": [
        {
          "output_type": "stream",
          "text": [
            "[1 2 3]\n",
            "<class 'numpy.ndarray'>\n",
            "3\n"
          ],
          "name": "stdout"
        }
      ]
    },
    {
      "cell_type": "markdown",
      "metadata": {
        "id": "gZpk419HBPhG",
        "colab_type": "text"
      },
      "source": [
        "**Create a list and convert it to a numpy array.**"
      ]
    },
    {
      "cell_type": "code",
      "metadata": {
        "id": "sG26YfmABPhG",
        "colab_type": "code",
        "outputId": "7868f2e1-ca12-4d2f-be4e-7437071802b7",
        "colab": {
          "base_uri": "https://localhost:8080/",
          "height": 34
        }
      },
      "source": [
        "mylist = [1, 2, 3]\n",
        "x = np.array(mylist)\n",
        "print(x)"
      ],
      "execution_count": 7,
      "outputs": [
        {
          "output_type": "stream",
          "text": [
            "[1 2 3]\n"
          ],
          "name": "stdout"
        }
      ]
    },
    {
      "cell_type": "code",
      "metadata": {
        "id": "qzsFIhLJBPhJ",
        "colab_type": "code",
        "outputId": "f221757b-9313-48ea-f6cc-3dd68884fd3d",
        "colab": {
          "base_uri": "https://localhost:8080/",
          "height": 34
        }
      },
      "source": [
        "# Or Just pass a list.\n",
        "y = np.array([4, 5, 6])\n",
        "y"
      ],
      "execution_count": 8,
      "outputs": [
        {
          "output_type": "execute_result",
          "data": {
            "text/plain": [
              "array([4, 5, 6])"
            ]
          },
          "metadata": {
            "tags": []
          },
          "execution_count": 8
        }
      ]
    },
    {
      "cell_type": "markdown",
      "metadata": {
        "id": "F-bUfy6TBPhM",
        "colab_type": "text"
      },
      "source": [
        " **Creating a Multidimensional array.**"
      ]
    },
    {
      "cell_type": "code",
      "metadata": {
        "id": "X35BxRmRBPhM",
        "colab_type": "code",
        "outputId": "bebea6c4-f6ef-49f0-b87b-cc26dc0d98ca",
        "colab": {
          "base_uri": "https://localhost:8080/",
          "height": 50
        }
      },
      "source": [
        "m = np.array([[7, 8, 9], [10, 11, 12]])\n",
        "m"
      ],
      "execution_count": 10,
      "outputs": [
        {
          "output_type": "execute_result",
          "data": {
            "text/plain": [
              "array([[ 7,  8,  9],\n",
              "       [10, 11, 12]])"
            ]
          },
          "metadata": {
            "tags": []
          },
          "execution_count": 10
        }
      ]
    },
    {
      "cell_type": "markdown",
      "metadata": {
        "id": "XJUiyHggvQXP",
        "colab_type": "text"
      },
      "source": [
        "## Functions "
      ]
    },
    {
      "cell_type": "markdown",
      "metadata": {
        "id": "9R2o3DihBPhO",
        "colab_type": "text"
      },
      "source": [
        "**1. Use the shape method to find the dimensions of the array. (rows, columns)**"
      ]
    },
    {
      "cell_type": "code",
      "metadata": {
        "id": "11Unx_OABPhP",
        "colab_type": "code",
        "outputId": "b323d376-e68a-44d6-ad11-1f56730f658e",
        "colab": {
          "base_uri": "https://localhost:8080/",
          "height": 34
        }
      },
      "source": [
        "print(np.shape(m))"
      ],
      "execution_count": 11,
      "outputs": [
        {
          "output_type": "stream",
          "text": [
            "(2, 3)\n"
          ],
          "name": "stdout"
        }
      ]
    },
    {
      "cell_type": "code",
      "metadata": {
        "id": "K_sCwQNp5zBN",
        "colab_type": "code",
        "outputId": "7e0ceb19-5d7b-47a5-b0f4-e599e104b6a1",
        "colab": {
          "base_uri": "https://localhost:8080/",
          "height": 67
        }
      },
      "source": [
        "x= np.array([[1,2,3], [4,5,6], [8,9,10]])\n",
        "x"
      ],
      "execution_count": 12,
      "outputs": [
        {
          "output_type": "execute_result",
          "data": {
            "text/plain": [
              "array([[ 1,  2,  3],\n",
              "       [ 4,  5,  6],\n",
              "       [ 8,  9, 10]])"
            ]
          },
          "metadata": {
            "tags": []
          },
          "execution_count": 12
        }
      ]
    },
    {
      "cell_type": "code",
      "metadata": {
        "id": "x-51GAYE6Qo0",
        "colab_type": "code",
        "outputId": "22482d9b-87e0-4f36-8a16-09ace748b10f",
        "colab": {
          "base_uri": "https://localhost:8080/",
          "height": 34
        }
      },
      "source": [
        "x.shape"
      ],
      "execution_count": 13,
      "outputs": [
        {
          "output_type": "execute_result",
          "data": {
            "text/plain": [
              "(3, 3)"
            ]
          },
          "metadata": {
            "tags": []
          },
          "execution_count": 13
        }
      ]
    },
    {
      "cell_type": "markdown",
      "metadata": {
        "id": "BF1UrP7eBPhQ",
        "colab_type": "text"
      },
      "source": [
        "\n",
        "**2. `arange` returns evenly spaced values within a given interval.**\n",
        "np.arange(start,stop,step)"
      ]
    },
    {
      "cell_type": "code",
      "metadata": {
        "id": "3egcVZXpBPhR",
        "colab_type": "code",
        "outputId": "6e128f0d-65df-4242-8766-799f71ffe934",
        "colab": {
          "base_uri": "https://localhost:8080/",
          "height": 34
        }
      },
      "source": [
        "n = np.arange(0, 12, 2) # start at 0 count up by 2, stop before 30\n",
        "n"
      ],
      "execution_count": 14,
      "outputs": [
        {
          "output_type": "execute_result",
          "data": {
            "text/plain": [
              "array([ 0,  2,  4,  6,  8, 10])"
            ]
          },
          "metadata": {
            "tags": []
          },
          "execution_count": 14
        }
      ]
    },
    {
      "cell_type": "code",
      "metadata": {
        "id": "xeAHwUnS6zAg",
        "colab_type": "code",
        "outputId": "735b95e1-bea4-4e32-96a2-9e9237091c51",
        "colab": {
          "base_uri": "https://localhost:8080/",
          "height": 34
        }
      },
      "source": [
        " k=np.arange(3,21,3)\n",
        " k"
      ],
      "execution_count": 15,
      "outputs": [
        {
          "output_type": "execute_result",
          "data": {
            "text/plain": [
              "array([ 3,  6,  9, 12, 15, 18])"
            ]
          },
          "metadata": {
            "tags": []
          },
          "execution_count": 15
        }
      ]
    },
    {
      "cell_type": "markdown",
      "metadata": {
        "id": "rOeM1MMYBPhT",
        "colab_type": "text"
      },
      "source": [
        "**3.`reshape` returns an array with the same data with a new shape.**"
      ]
    },
    {
      "cell_type": "code",
      "metadata": {
        "id": "MMApMON81MvO",
        "colab_type": "code",
        "outputId": "2baed33f-3c5f-487e-ca15-cc7a8c92183f",
        "colab": {
          "base_uri": "https://localhost:8080/",
          "height": 67
        }
      },
      "source": [
        "p = np. array([1,2,3,4,5,6,7,8,9])\n",
        "p=p.reshape(3,3)\n",
        "p\n",
        "              "
      ],
      "execution_count": 17,
      "outputs": [
        {
          "output_type": "execute_result",
          "data": {
            "text/plain": [
              "array([[1, 2, 3],\n",
              "       [4, 5, 6],\n",
              "       [7, 8, 9]])"
            ]
          },
          "metadata": {
            "tags": []
          },
          "execution_count": 17
        }
      ]
    },
    {
      "cell_type": "code",
      "metadata": {
        "id": "qPmotVjpBPhU",
        "colab_type": "code",
        "outputId": "f764d4f1-1cac-4c1b-8e10-fa028062a9f7",
        "colab": {
          "base_uri": "https://localhost:8080/",
          "height": 50
        }
      },
      "source": [
        "n = n.reshape(2,3) # reshape array to be 3x5\n",
        "n"
      ],
      "execution_count": 19,
      "outputs": [
        {
          "output_type": "execute_result",
          "data": {
            "text/plain": [
              "array([[ 0,  2,  4],\n",
              "       [ 6,  8, 10]])"
            ]
          },
          "metadata": {
            "tags": []
          },
          "execution_count": 19
        }
      ]
    },
    {
      "cell_type": "code",
      "metadata": {
        "id": "eM1q5-4O7WWY",
        "colab_type": "code",
        "outputId": "713d47ef-dc75-43e1-8f87-6c47583e5f13",
        "colab": {
          "base_uri": "https://localhost:8080/",
          "height": 50
        }
      },
      "source": [
        "t= k.reshape(2,3)\n",
        "t"
      ],
      "execution_count": 20,
      "outputs": [
        {
          "output_type": "execute_result",
          "data": {
            "text/plain": [
              "array([[ 3,  6,  9],\n",
              "       [12, 15, 18]])"
            ]
          },
          "metadata": {
            "tags": []
          },
          "execution_count": 20
        }
      ]
    },
    {
      "cell_type": "markdown",
      "metadata": {
        "id": "9phQn2sUBPhV",
        "colab_type": "text"
      },
      "source": [
        "**4. `linspace` returns evenly spaced numbers over a specified interval.**"
      ]
    },
    {
      "cell_type": "code",
      "metadata": {
        "id": "_kREdaBIBPhZ",
        "colab_type": "code",
        "outputId": "471ea8f1-1b07-4fbf-c37e-509efbe06e7a",
        "colab": {
          "base_uri": "https://localhost:8080/",
          "height": 34
        }
      },
      "source": [
        "arr = np.linspace(0, 4, 9) # return 9 evenly spaced values from 0 to 4\n",
        "print(arr)"
      ],
      "execution_count": 22,
      "outputs": [
        {
          "output_type": "stream",
          "text": [
            "[0.  0.5 1.  1.5 2.  2.5 3.  3.5 4. ]\n"
          ],
          "name": "stdout"
        }
      ]
    },
    {
      "cell_type": "code",
      "metadata": {
        "id": "DzmtWkWA-446",
        "colab_type": "code",
        "outputId": "9a3a8e60-85fb-4a19-de19-572ba822a142",
        "colab": {
          "base_uri": "https://localhost:8080/",
          "height": 67
        }
      },
      "source": [
        "a= np.linspace(0,8,15)\n",
        "a"
      ],
      "execution_count": 26,
      "outputs": [
        {
          "output_type": "execute_result",
          "data": {
            "text/plain": [
              "array([0.        , 0.57142857, 1.14285714, 1.71428571, 2.28571429,\n",
              "       2.85714286, 3.42857143, 4.        , 4.57142857, 5.14285714,\n",
              "       5.71428571, 6.28571429, 6.85714286, 7.42857143, 8.        ])"
            ]
          },
          "metadata": {
            "tags": []
          },
          "execution_count": 26
        }
      ]
    },
    {
      "cell_type": "markdown",
      "metadata": {
        "id": "RyCX_gYXBPhc",
        "colab_type": "text"
      },
      "source": [
        "**5. `resize` changes the shape and size of array in-place.**"
      ]
    },
    {
      "cell_type": "code",
      "metadata": {
        "id": "jGlEIKxOBPhd",
        "colab_type": "code",
        "outputId": "5e59b3d1-3f93-47b0-a05c-6a67b95ee8e5",
        "colab": {
          "base_uri": "https://localhost:8080/",
          "height": 67
        }
      },
      "source": [
        "arr.resize(3, 3)\n",
        "arr"
      ],
      "execution_count": 28,
      "outputs": [
        {
          "output_type": "execute_result",
          "data": {
            "text/plain": [
              "array([[0. , 0.5, 1. ],\n",
              "       [1.5, 2. , 2.5],\n",
              "       [3. , 3.5, 4. ]])"
            ]
          },
          "metadata": {
            "tags": []
          },
          "execution_count": 28
        }
      ]
    },
    {
      "cell_type": "code",
      "metadata": {
        "id": "ZlXZJGor_nhM",
        "colab_type": "code",
        "outputId": "58099535-45d8-42c8-bfea-a650e08a3b9b",
        "colab": {
          "base_uri": "https://localhost:8080/",
          "height": 101
        }
      },
      "source": [
        "a.resize(5,3)\n",
        "a"
      ],
      "execution_count": 30,
      "outputs": [
        {
          "output_type": "execute_result",
          "data": {
            "text/plain": [
              "array([[0.        , 0.57142857, 1.14285714],\n",
              "       [1.71428571, 2.28571429, 2.85714286],\n",
              "       [3.42857143, 4.        , 4.57142857],\n",
              "       [5.14285714, 5.71428571, 6.28571429],\n",
              "       [6.85714286, 7.42857143, 8.        ]])"
            ]
          },
          "metadata": {
            "tags": []
          },
          "execution_count": 30
        }
      ]
    },
    {
      "cell_type": "markdown",
      "metadata": {
        "id": "HKgcy981BPhf",
        "colab_type": "text"
      },
      "source": [
        "**6. `ones` returns a new array of given shape and type, filled with ones.**"
      ]
    },
    {
      "cell_type": "code",
      "metadata": {
        "id": "RV5zYsHqBPhf",
        "colab_type": "code",
        "outputId": "aba712bd-6abe-4fa5-895a-9c81b0890a62",
        "colab": {
          "base_uri": "https://localhost:8080/",
          "height": 67
        }
      },
      "source": [
        "arr = np.ones((3, 2))\n",
        "arr"
      ],
      "execution_count": 33,
      "outputs": [
        {
          "output_type": "execute_result",
          "data": {
            "text/plain": [
              "array([[1., 1.],\n",
              "       [1., 1.],\n",
              "       [1., 1.]])"
            ]
          },
          "metadata": {
            "tags": []
          },
          "execution_count": 33
        }
      ]
    },
    {
      "cell_type": "code",
      "metadata": {
        "id": "gAf7u-y4Afe9",
        "colab_type": "code",
        "outputId": "12d7c9ff-1bad-4b42-bc13-83fb44a76978",
        "colab": {
          "base_uri": "https://localhost:8080/",
          "height": 50
        }
      },
      "source": [
        "np.ones((2,3))"
      ],
      "execution_count": 34,
      "outputs": [
        {
          "output_type": "execute_result",
          "data": {
            "text/plain": [
              "array([[1., 1., 1.],\n",
              "       [1., 1., 1.]])"
            ]
          },
          "metadata": {
            "tags": []
          },
          "execution_count": 34
        }
      ]
    },
    {
      "cell_type": "markdown",
      "metadata": {
        "id": "WvhHLC6oBPhi",
        "colab_type": "text"
      },
      "source": [
        "**7.`zeros` returns a new array of given shape and type, filled with zeros.**"
      ]
    },
    {
      "cell_type": "code",
      "metadata": {
        "id": "24Ttgqp-BPhj",
        "colab_type": "code",
        "outputId": "8fc7f3ce-abd7-48a6-f1e9-603d2179c3e6",
        "colab": {
          "base_uri": "https://localhost:8080/",
          "height": 51
        }
      },
      "source": [
        "np.zeros((2, 3))"
      ],
      "execution_count": 0,
      "outputs": [
        {
          "output_type": "execute_result",
          "data": {
            "text/plain": [
              "array([[0., 0., 0.],\n",
              "       [0., 0., 0.]])"
            ]
          },
          "metadata": {
            "tags": []
          },
          "execution_count": 43
        }
      ]
    },
    {
      "cell_type": "code",
      "metadata": {
        "id": "GaSzKO8lBN5X",
        "colab_type": "code",
        "outputId": "351eb6b8-7ce0-40c4-f5e8-6ba4e52dc1fc",
        "colab": {
          "base_uri": "https://localhost:8080/",
          "height": 84
        }
      },
      "source": [
        "np.zeros((4,4))"
      ],
      "execution_count": 35,
      "outputs": [
        {
          "output_type": "execute_result",
          "data": {
            "text/plain": [
              "array([[0., 0., 0., 0.],\n",
              "       [0., 0., 0., 0.],\n",
              "       [0., 0., 0., 0.],\n",
              "       [0., 0., 0., 0.]])"
            ]
          },
          "metadata": {
            "tags": []
          },
          "execution_count": 35
        }
      ]
    },
    {
      "cell_type": "markdown",
      "metadata": {
        "id": "nuVtbzKSBPhk",
        "colab_type": "text"
      },
      "source": [
        "**8. `eye` returns a 2-D array with ones on the diagonal and zeros elsewhere.**"
      ]
    },
    {
      "cell_type": "code",
      "metadata": {
        "id": "ZGU2owZwBPhm",
        "colab_type": "code",
        "outputId": "75f9d5d1-0a3d-4f7c-9b8f-a59d1279c501",
        "colab": {
          "base_uri": "https://localhost:8080/",
          "height": 68
        }
      },
      "source": [
        "np.eye(3)"
      ],
      "execution_count": 0,
      "outputs": [
        {
          "output_type": "execute_result",
          "data": {
            "text/plain": [
              "array([[1., 0., 0.],\n",
              "       [0., 1., 0.],\n",
              "       [0., 0., 1.]])"
            ]
          },
          "metadata": {
            "tags": []
          },
          "execution_count": 45
        }
      ]
    },
    {
      "cell_type": "markdown",
      "metadata": {
        "id": "uEuCg32WBPho",
        "colab_type": "text"
      },
      "source": [
        "**9. `diag` extracts a diagonal or constructs a diagonal array.**"
      ]
    },
    {
      "cell_type": "code",
      "metadata": {
        "id": "1Eti8mnnBPhp",
        "colab_type": "code",
        "outputId": "f7dac9fa-c738-4953-99d8-826e05382fcb",
        "colab": {
          "base_uri": "https://localhost:8080/",
          "height": 34
        }
      },
      "source": [
        "np.diag([[1,2,3], [4,5,6]])"
      ],
      "execution_count": 36,
      "outputs": [
        {
          "output_type": "execute_result",
          "data": {
            "text/plain": [
              "array([1, 5])"
            ]
          },
          "metadata": {
            "tags": []
          },
          "execution_count": 36
        }
      ]
    },
    {
      "cell_type": "markdown",
      "metadata": {
        "id": "XYWbZJrkBPhr",
        "colab_type": "text"
      },
      "source": [
        "**10. Create an array using repeating list (or see `np.tile`)**"
      ]
    },
    {
      "cell_type": "code",
      "metadata": {
        "id": "eDFnN5RsBPhr",
        "colab_type": "code",
        "outputId": "504a173d-8947-4745-ec6c-ad893597e40c",
        "colab": {
          "base_uri": "https://localhost:8080/",
          "height": 34
        }
      },
      "source": [
        "np.array([1, 2, 3] * 3)"
      ],
      "execution_count": 0,
      "outputs": [
        {
          "output_type": "execute_result",
          "data": {
            "text/plain": [
              "array([1, 2, 3, 1, 2, 3, 1, 2, 3])"
            ]
          },
          "metadata": {
            "tags": []
          },
          "execution_count": 48
        }
      ]
    },
    {
      "cell_type": "markdown",
      "metadata": {
        "id": "JwDSobVaBPhs",
        "colab_type": "text"
      },
      "source": [
        "**11. Repeat elements of an array using `repeat`.**"
      ]
    },
    {
      "cell_type": "code",
      "metadata": {
        "id": "vdlLcELNBPhs",
        "colab_type": "code",
        "outputId": "552195e7-43d2-44cd-c035-33649b9b2f71",
        "colab": {
          "base_uri": "https://localhost:8080/",
          "height": 34
        }
      },
      "source": [
        "np.repeat([1, 2, 3], 3)"
      ],
      "execution_count": 37,
      "outputs": [
        {
          "output_type": "execute_result",
          "data": {
            "text/plain": [
              "array([1, 1, 1, 2, 2, 2, 3, 3, 3])"
            ]
          },
          "metadata": {
            "tags": []
          },
          "execution_count": 37
        }
      ]
    },
    {
      "cell_type": "markdown",
      "metadata": {
        "id": "3IqnvLS7BPhu",
        "colab_type": "text"
      },
      "source": [
        "## Combining Arrays"
      ]
    },
    {
      "cell_type": "code",
      "metadata": {
        "id": "LbcIkI_aBPhu",
        "colab_type": "code",
        "outputId": "f0078e75-eb71-4f31-eb59-8ccbfe69a215",
        "colab": {
          "base_uri": "https://localhost:8080/",
          "height": 50
        }
      },
      "source": [
        "p = np.ones([2, 3], int)\n",
        "p"
      ],
      "execution_count": 38,
      "outputs": [
        {
          "output_type": "execute_result",
          "data": {
            "text/plain": [
              "array([[1, 1, 1],\n",
              "       [1, 1, 1]])"
            ]
          },
          "metadata": {
            "tags": []
          },
          "execution_count": 38
        }
      ]
    },
    {
      "cell_type": "markdown",
      "metadata": {
        "id": "pOoKgxi8BPhw",
        "colab_type": "text"
      },
      "source": [
        "**1. Use `vstack` to stack arrays in sequence vertically (row wise).**"
      ]
    },
    {
      "cell_type": "code",
      "metadata": {
        "id": "-CDk8KyaBPhx",
        "colab_type": "code",
        "outputId": "bb9999b1-505d-41f0-aa4d-cf125cd43ec7",
        "colab": {
          "base_uri": "https://localhost:8080/",
          "height": 84
        }
      },
      "source": [
        "np.vstack([p, 2*p])"
      ],
      "execution_count": 39,
      "outputs": [
        {
          "output_type": "execute_result",
          "data": {
            "text/plain": [
              "array([[1, 1, 1],\n",
              "       [1, 1, 1],\n",
              "       [2, 2, 2],\n",
              "       [2, 2, 2]])"
            ]
          },
          "metadata": {
            "tags": []
          },
          "execution_count": 39
        }
      ]
    },
    {
      "cell_type": "markdown",
      "metadata": {
        "id": "3wEZ8OzwBPhy",
        "colab_type": "text"
      },
      "source": [
        "**2. Use `hstack` to stack arrays in sequence horizontally (column wise).**"
      ]
    },
    {
      "cell_type": "code",
      "metadata": {
        "id": "8Uy6YM74BPh0",
        "colab_type": "code",
        "outputId": "1420b03b-3f47-4a10-adb4-2ef28da3f373",
        "colab": {
          "base_uri": "https://localhost:8080/",
          "height": 50
        }
      },
      "source": [
        "np.hstack([p, 2*p])"
      ],
      "execution_count": 40,
      "outputs": [
        {
          "output_type": "execute_result",
          "data": {
            "text/plain": [
              "array([[1, 1, 1, 2, 2, 2],\n",
              "       [1, 1, 1, 2, 2, 2]])"
            ]
          },
          "metadata": {
            "tags": []
          },
          "execution_count": 40
        }
      ]
    },
    {
      "cell_type": "markdown",
      "metadata": {
        "id": "VswKVT3DyR2P",
        "colab_type": "text"
      },
      "source": [
        "## Operations"
      ]
    },
    {
      "cell_type": "markdown",
      "metadata": {
        "id": "t7yC6Hd5ycfC",
        "colab_type": "text"
      },
      "source": [
        "**Basic math operations on numpy array/matrix/vectors**"
      ]
    },
    {
      "cell_type": "markdown",
      "metadata": {
        "id": "yUC5FgdYBPh4",
        "colab_type": "text"
      },
      "source": [
        "Use `+`, `-`, `*`, `/` and `**` to perform element wise addition, subtraction, multiplication, division and power."
      ]
    },
    {
      "cell_type": "code",
      "metadata": {
        "id": "_SOLwN3ZypLD",
        "colab_type": "code",
        "colab": {
          "base_uri": "https://localhost:8080/",
          "height": 84
        },
        "outputId": "db39607c-2f16-4aa9-8d95-3ee142d0cbca"
      },
      "source": [
        "x = np.array([[1,2,3],[4,5,6]])\n",
        "y = np.array([[2,2,4],[1,3,5]])\n",
        "print(x)\n",
        "print(y)"
      ],
      "execution_count": 47,
      "outputs": [
        {
          "output_type": "stream",
          "text": [
            "[[1 2 3]\n",
            " [4 5 6]]\n",
            "[[2 2 4]\n",
            " [1 3 5]]\n"
          ],
          "name": "stdout"
        }
      ]
    },
    {
      "cell_type": "code",
      "metadata": {
        "id": "vYInC4XDBPh4",
        "colab_type": "code",
        "colab": {
          "base_uri": "https://localhost:8080/",
          "height": 84
        },
        "outputId": "d68242bd-4285-40fc-b07f-4f1ab8babc43"
      },
      "source": [
        "print(x + y) # elementwise addition     [1 2 3] + [4 5 6] = [5  7  9]\n",
        "print(x - y) # elementwise subtraction  [1 2 3] - [4 5 6] = [-3 -3 -3]"
      ],
      "execution_count": 44,
      "outputs": [
        {
          "output_type": "stream",
          "text": [
            "[[ 1  4  7]\n",
            " [ 5  8 11]]\n",
            "[[ 1  0 -1]\n",
            " [ 3  2  1]]\n"
          ],
          "name": "stdout"
        }
      ]
    },
    {
      "cell_type": "code",
      "metadata": {
        "id": "3FmtNXAzBPh5",
        "colab_type": "code",
        "colab": {
          "base_uri": "https://localhost:8080/",
          "height": 84
        },
        "outputId": "848e6cad-8305-4a68-d170-4a4629938244"
      },
      "source": [
        "print(x * y) # elementwise multiplication  [1 2 3] * [4 5 6] = [4  10  18]\n",
        "print(x / y) # elementwise divison         [1 2 3] / [4 5 6] = [0.25  0.4  0.5]"
      ],
      "execution_count": 48,
      "outputs": [
        {
          "output_type": "stream",
          "text": [
            "[[ 2  4 12]\n",
            " [ 4 15 30]]\n",
            "[[0.5        1.         0.75      ]\n",
            " [4.         1.66666667 1.2       ]]\n"
          ],
          "name": "stdout"
        }
      ]
    },
    {
      "cell_type": "code",
      "metadata": {
        "id": "R8OH4v7gBPh6",
        "colab_type": "code",
        "colab": {
          "base_uri": "https://localhost:8080/",
          "height": 50
        },
        "outputId": "7cac2e5e-b1e9-43c9-86aa-4892175c61e3"
      },
      "source": [
        "print(x**2) # elementwise power  [1 2 3] ^2 =  [1 4 9]"
      ],
      "execution_count": 49,
      "outputs": [
        {
          "output_type": "stream",
          "text": [
            "[[ 1  4  9]\n",
            " [16 25 36]]\n"
          ],
          "name": "stdout"
        }
      ]
    },
    {
      "cell_type": "markdown",
      "metadata": {
        "id": "V53Xxxjgzki4",
        "colab_type": "text"
      },
      "source": [
        "##  Numpy Math Functions"
      ]
    },
    {
      "cell_type": "code",
      "metadata": {
        "id": "tv6wGRrj0Sdh",
        "colab_type": "code",
        "colab": {
          "base_uri": "https://localhost:8080/",
          "height": 218
        },
        "outputId": "f42c30c2-eb87-4ccf-cceb-a3fd8cd3d331"
      },
      "source": [
        "# Element wise operations.\n",
        "x = np.array([[0,2,4], [1,3,5]])\n",
        "y = np.array([[2,4,8], [1,6,10]])\n",
        "print(\"Addtion\")\n",
        "print(np.add(x,y))\n",
        "\n",
        "print('Subtarction')\n",
        "print(np.subtract(x,y))\n",
        "\n",
        "print('Multiplication')\n",
        "print(np.multiply(x,y))\n",
        "\n",
        "print('Division')\n",
        "print(np.divide(x,y))\n"
      ],
      "execution_count": 55,
      "outputs": [
        {
          "output_type": "stream",
          "text": [
            "Addtion\n",
            "[[ 2  6 12]\n",
            " [ 2  9 15]]\n",
            "Subtarction\n",
            "[[-2 -2 -4]\n",
            " [ 0 -3 -5]]\n",
            "Multiplication\n",
            "[[ 0  8 32]\n",
            " [ 1 18 50]]\n",
            "Division\n",
            "[[0.  0.5 0.5]\n",
            " [1.  0.5 0.5]]\n"
          ],
          "name": "stdout"
        }
      ]
    },
    {
      "cell_type": "markdown",
      "metadata": {
        "id": "w7B7yrV718xc",
        "colab_type": "text"
      },
      "source": [
        "**Matrix multiplication**"
      ]
    },
    {
      "cell_type": "markdown",
      "metadata": {
        "id": "yPJX5RQkBPh_",
        "colab_type": "text"
      },
      "source": [
        "<br>\n",
        "**Dot Product:**  \n",
        "\n",
        "$ \\begin{bmatrix}x_1 \\ x_2 \\ x_3\\end{bmatrix}\n",
        "\\cdot\n",
        "\\begin{bmatrix}y_1 \\\\ y_2 \\\\ y_3\\end{bmatrix}\n",
        "= x_1 y_1 + x_2 y_2 + x_3 y_3$"
      ]
    },
    {
      "cell_type": "code",
      "metadata": {
        "id": "fqQ7yA5L2_3m",
        "colab_type": "code",
        "colab": {}
      },
      "source": [
        "x = np.array([[2,4],[1,3]])\n",
        "y = np.array([[2,3],[1,2]])"
      ],
      "execution_count": 0,
      "outputs": []
    },
    {
      "cell_type": "code",
      "metadata": {
        "id": "gFKx46G0BPiA",
        "colab_type": "code",
        "colab": {
          "base_uri": "https://localhost:8080/",
          "height": 50
        },
        "outputId": "f2290134-5010-4b99-f474-f32de484051f"
      },
      "source": [
        "print(np.dot(x,y)) # dot product  1*4 + 2*5 + 3*6"
      ],
      "execution_count": 63,
      "outputs": [
        {
          "output_type": "stream",
          "text": [
            "[[ 8 14]\n",
            " [ 5  9]]\n"
          ],
          "name": "stdout"
        }
      ]
    },
    {
      "cell_type": "code",
      "metadata": {
        "id": "M4mc50-tBPiC",
        "colab_type": "code",
        "colab": {}
      },
      "source": [
        "z = np.array([y, y**2])\n",
        "print(len(z)) # number of rows of array"
      ],
      "execution_count": 0,
      "outputs": []
    },
    {
      "cell_type": "markdown",
      "metadata": {
        "id": "s7wU8xxJBPiD",
        "colab_type": "text"
      },
      "source": [
        "\n",
        "**Let's look at transposing arrays. Transposing permutes the dimensions of the array.**"
      ]
    },
    {
      "cell_type": "code",
      "metadata": {
        "id": "SXqqx9nMBPiF",
        "colab_type": "code",
        "colab": {
          "base_uri": "https://localhost:8080/",
          "height": 101
        },
        "outputId": "a892fb7c-ce95-4705-b0ed-cc0e03e51e14"
      },
      "source": [
        "z = np.array([y, y**2])\n",
        "z"
      ],
      "execution_count": 64,
      "outputs": [
        {
          "output_type": "execute_result",
          "data": {
            "text/plain": [
              "array([[[2, 3],\n",
              "        [1, 2]],\n",
              "\n",
              "       [[4, 9],\n",
              "        [1, 4]]])"
            ]
          },
          "metadata": {
            "tags": []
          },
          "execution_count": 64
        }
      ]
    },
    {
      "cell_type": "markdown",
      "metadata": {
        "id": "wyYpgcE1BPiG",
        "colab_type": "text"
      },
      "source": [
        "<br>\n",
        "The shape of array `z` is `(2,3)` before transposing."
      ]
    },
    {
      "cell_type": "code",
      "metadata": {
        "id": "hJiW9H75BPiH",
        "colab_type": "code",
        "colab": {
          "base_uri": "https://localhost:8080/",
          "height": 34
        },
        "outputId": "e9c5f10c-9db1-4cfb-c11e-7c0924656056"
      },
      "source": [
        "z.shape"
      ],
      "execution_count": 65,
      "outputs": [
        {
          "output_type": "execute_result",
          "data": {
            "text/plain": [
              "(2, 2, 2)"
            ]
          },
          "metadata": {
            "tags": []
          },
          "execution_count": 65
        }
      ]
    },
    {
      "cell_type": "markdown",
      "metadata": {
        "id": "l__eKxJoBPiK",
        "colab_type": "text"
      },
      "source": [
        "<br>\n",
        "Use `.T` to get the transpose."
      ]
    },
    {
      "cell_type": "code",
      "metadata": {
        "id": "sAHhrWulBPiL",
        "colab_type": "code",
        "colab": {
          "base_uri": "https://localhost:8080/",
          "height": 101
        },
        "outputId": "c7658629-6bd8-4b17-fa3c-a82edd404735"
      },
      "source": [
        "z.T"
      ],
      "execution_count": 67,
      "outputs": [
        {
          "output_type": "execute_result",
          "data": {
            "text/plain": [
              "array([[[2, 4],\n",
              "        [1, 1]],\n",
              "\n",
              "       [[3, 9],\n",
              "        [2, 4]]])"
            ]
          },
          "metadata": {
            "tags": []
          },
          "execution_count": 67
        }
      ]
    },
    {
      "cell_type": "markdown",
      "metadata": {
        "id": "U-4auGEFBPiN",
        "colab_type": "text"
      },
      "source": [
        "<br>\n",
        "The number of rows has swapped with the number of columns."
      ]
    },
    {
      "cell_type": "code",
      "metadata": {
        "id": "b-eWzGCABPiO",
        "colab_type": "code",
        "colab": {
          "base_uri": "https://localhost:8080/",
          "height": 34
        },
        "outputId": "94bfddc4-bfb5-4444-f9bc-c91670e0453b"
      },
      "source": [
        "z.T.shape"
      ],
      "execution_count": 66,
      "outputs": [
        {
          "output_type": "execute_result",
          "data": {
            "text/plain": [
              "(2, 2, 2)"
            ]
          },
          "metadata": {
            "tags": []
          },
          "execution_count": 66
        }
      ]
    },
    {
      "cell_type": "markdown",
      "metadata": {
        "id": "bx-ZP6MRBPiQ",
        "colab_type": "text"
      },
      "source": [
        "<br>\n",
        "Use `.dtype` to see the data type of the elements in the array."
      ]
    },
    {
      "cell_type": "code",
      "metadata": {
        "id": "Vm_g5rbtBPiR",
        "colab_type": "code",
        "colab": {
          "base_uri": "https://localhost:8080/",
          "height": 34
        },
        "outputId": "89907f1b-dee3-4457-ed03-3b1a3a795c72"
      },
      "source": [
        "z.dtype"
      ],
      "execution_count": 68,
      "outputs": [
        {
          "output_type": "execute_result",
          "data": {
            "text/plain": [
              "dtype('int64')"
            ]
          },
          "metadata": {
            "tags": []
          },
          "execution_count": 68
        }
      ]
    },
    {
      "cell_type": "markdown",
      "metadata": {
        "id": "LTwETYyUBPiS",
        "colab_type": "text"
      },
      "source": [
        "**Use `.astype` to cast to a specific type.**"
      ]
    },
    {
      "cell_type": "code",
      "metadata": {
        "id": "wjC6qc_RBPiT",
        "colab_type": "code",
        "colab": {}
      },
      "source": [
        "z = z.astype('f')\n",
        "z.dtype"
      ],
      "execution_count": 0,
      "outputs": []
    },
    {
      "cell_type": "markdown",
      "metadata": {
        "id": "RL4YCApkBPih",
        "colab_type": "text"
      },
      "source": [
        "**Numpy has many built in math functions that can be performed on arrays.**"
      ]
    },
    {
      "cell_type": "code",
      "metadata": {
        "id": "Mrazb9ZaBPii",
        "colab_type": "code",
        "colab": {}
      },
      "source": [
        "a = np.array([-4, -2, 1, 3, 5])"
      ],
      "execution_count": 0,
      "outputs": []
    },
    {
      "cell_type": "code",
      "metadata": {
        "id": "1FEWFwrlBPij",
        "colab_type": "code",
        "colab": {
          "base_uri": "https://localhost:8080/",
          "height": 34
        },
        "outputId": "f9a08181-43dc-4afc-a306-373c9032667b"
      },
      "source": [
        "np.sum(a)   # Print sum of all the elements of the array."
      ],
      "execution_count": 111,
      "outputs": [
        {
          "output_type": "execute_result",
          "data": {
            "text/plain": [
              "3"
            ]
          },
          "metadata": {
            "tags": []
          },
          "execution_count": 111
        }
      ]
    },
    {
      "cell_type": "code",
      "metadata": {
        "id": "_Cr3Z2aoBPik",
        "colab_type": "code",
        "colab": {
          "base_uri": "https://localhost:8080/",
          "height": 50
        },
        "outputId": "6b43467f-da6f-4f2c-b914-ebeb16889596"
      },
      "source": [
        "print(a.max())\n",
        "print(np.max(a))# Print the maximum element of the array."
      ],
      "execution_count": 114,
      "outputs": [
        {
          "output_type": "stream",
          "text": [
            "5\n",
            "5\n"
          ],
          "name": "stdout"
        }
      ]
    },
    {
      "cell_type": "code",
      "metadata": {
        "id": "IliBTMixBPim",
        "colab_type": "code",
        "colab": {
          "base_uri": "https://localhost:8080/",
          "height": 34
        },
        "outputId": "9d2726e7-796a-4e25-a9c5-043e1cce1b64"
      },
      "source": [
        "a.min()  # Print the minimum elements of the array."
      ],
      "execution_count": 72,
      "outputs": [
        {
          "output_type": "execute_result",
          "data": {
            "text/plain": [
              "-4"
            ]
          },
          "metadata": {
            "tags": []
          },
          "execution_count": 72
        }
      ]
    },
    {
      "cell_type": "markdown",
      "metadata": {
        "id": "E-ZaFbl07RYq",
        "colab_type": "text"
      },
      "source": [
        "### Statistics, logarithm, exponetial functions"
      ]
    },
    {
      "cell_type": "code",
      "metadata": {
        "id": "05pFgDbp7c0y",
        "colab_type": "code",
        "colab": {}
      },
      "source": [
        "x = np.array([1,2,3,4,5,6,7,8])"
      ],
      "execution_count": 0,
      "outputs": []
    },
    {
      "cell_type": "code",
      "metadata": {
        "id": "hYg86hflBPip",
        "colab_type": "code",
        "colab": {
          "base_uri": "https://localhost:8080/",
          "height": 34
        },
        "outputId": "3bacbf4d-5b99-4ce7-d470-46ea4fa57603"
      },
      "source": [
        "np.mean(x) # Print the average of an elements of the array."
      ],
      "execution_count": 109,
      "outputs": [
        {
          "output_type": "execute_result",
          "data": {
            "text/plain": [
              "4.5"
            ]
          },
          "metadata": {
            "tags": []
          },
          "execution_count": 109
        }
      ]
    },
    {
      "cell_type": "code",
      "metadata": {
        "id": "nHaSZAay7xkp",
        "colab_type": "code",
        "colab": {
          "base_uri": "https://localhost:8080/",
          "height": 34
        },
        "outputId": "13389c12-3be5-447c-90c2-7abf044a3a8d"
      },
      "source": [
        "np.median(x)"
      ],
      "execution_count": 116,
      "outputs": [
        {
          "output_type": "execute_result",
          "data": {
            "text/plain": [
              "4.5"
            ]
          },
          "metadata": {
            "tags": []
          },
          "execution_count": 116
        }
      ]
    },
    {
      "cell_type": "code",
      "metadata": {
        "id": "FIR1IZD88YJw",
        "colab_type": "code",
        "colab": {
          "base_uri": "https://localhost:8080/",
          "height": 162
        },
        "outputId": "522efb31-20a8-49fc-f547-7fe9209e21a5"
      },
      "source": [
        "np.mode(x)"
      ],
      "execution_count": 115,
      "outputs": [
        {
          "output_type": "error",
          "ename": "AttributeError",
          "evalue": "ignored",
          "traceback": [
            "\u001b[0;31m---------------------------------------------------------------------------\u001b[0m",
            "\u001b[0;31mAttributeError\u001b[0m                            Traceback (most recent call last)",
            "\u001b[0;32m<ipython-input-115-84689bebdc43>\u001b[0m in \u001b[0;36m<module>\u001b[0;34m()\u001b[0m\n\u001b[0;32m----> 1\u001b[0;31m \u001b[0mnp\u001b[0m\u001b[0;34m.\u001b[0m\u001b[0mmode\u001b[0m\u001b[0;34m(\u001b[0m\u001b[0mx\u001b[0m\u001b[0;34m)\u001b[0m\u001b[0;34m\u001b[0m\u001b[0;34m\u001b[0m\u001b[0m\n\u001b[0m",
            "\u001b[0;31mAttributeError\u001b[0m: module 'numpy' has no attribute 'mode'"
          ]
        }
      ]
    },
    {
      "cell_type": "code",
      "metadata": {
        "id": "eT3YIJqKBPiw",
        "colab_type": "code",
        "colab": {
          "base_uri": "https://localhost:8080/",
          "height": 34
        },
        "outputId": "490fb89a-8b33-4751-a0f2-5404067a8b97"
      },
      "source": [
        "np.std(x)"
      ],
      "execution_count": 117,
      "outputs": [
        {
          "output_type": "execute_result",
          "data": {
            "text/plain": [
              "2.29128784747792"
            ]
          },
          "metadata": {
            "tags": []
          },
          "execution_count": 117
        }
      ]
    },
    {
      "cell_type": "code",
      "metadata": {
        "id": "Te8Ubf4x8fPx",
        "colab_type": "code",
        "colab": {
          "base_uri": "https://localhost:8080/",
          "height": 50
        },
        "outputId": "df3f923c-54b5-4943-f091-d1de086ec7d0"
      },
      "source": [
        "np.log(x)"
      ],
      "execution_count": 118,
      "outputs": [
        {
          "output_type": "execute_result",
          "data": {
            "text/plain": [
              "array([0.        , 0.69314718, 1.09861229, 1.38629436, 1.60943791,\n",
              "       1.79175947, 1.94591015, 2.07944154])"
            ]
          },
          "metadata": {
            "tags": []
          },
          "execution_count": 118
        }
      ]
    },
    {
      "cell_type": "code",
      "metadata": {
        "id": "jUfldg728ivw",
        "colab_type": "code",
        "colab": {
          "base_uri": "https://localhost:8080/",
          "height": 50
        },
        "outputId": "b54f6b12-6bac-463e-ccf2-f973f42f7e55"
      },
      "source": [
        "np.exp(x)"
      ],
      "execution_count": 119,
      "outputs": [
        {
          "output_type": "execute_result",
          "data": {
            "text/plain": [
              "array([2.71828183e+00, 7.38905610e+00, 2.00855369e+01, 5.45981500e+01,\n",
              "       1.48413159e+02, 4.03428793e+02, 1.09663316e+03, 2.98095799e+03])"
            ]
          },
          "metadata": {
            "tags": []
          },
          "execution_count": 119
        }
      ]
    },
    {
      "cell_type": "markdown",
      "metadata": {
        "id": "jz8IF5bjBPi4",
        "colab_type": "text"
      },
      "source": [
        "<br>\n",
        "`argmax` and `argmin` return the index of the maximum and minimum values in the array."
      ]
    },
    {
      "cell_type": "code",
      "metadata": {
        "id": "6nNYnCOtBPi5",
        "colab_type": "code",
        "colab": {
          "base_uri": "https://localhost:8080/",
          "height": 34
        },
        "outputId": "0a1f5a1f-bc85-4123-cb5a-f77cd53f5511"
      },
      "source": [
        "a.argmax()"
      ],
      "execution_count": 77,
      "outputs": [
        {
          "output_type": "execute_result",
          "data": {
            "text/plain": [
              "4"
            ]
          },
          "metadata": {
            "tags": []
          },
          "execution_count": 77
        }
      ]
    },
    {
      "cell_type": "code",
      "metadata": {
        "id": "it3ndPPCBPi6",
        "colab_type": "code",
        "colab": {
          "base_uri": "https://localhost:8080/",
          "height": 34
        },
        "outputId": "ab63aa65-f845-4260-8da9-bc8aee655bc8"
      },
      "source": [
        "a.argmin()"
      ],
      "execution_count": 76,
      "outputs": [
        {
          "output_type": "execute_result",
          "data": {
            "text/plain": [
              "0"
            ]
          },
          "metadata": {
            "tags": []
          },
          "execution_count": 76
        }
      ]
    },
    {
      "cell_type": "markdown",
      "metadata": {
        "id": "MASHYgD-BPi9",
        "colab_type": "text"
      },
      "source": [
        "## Indexing / Slicing"
      ]
    },
    {
      "cell_type": "code",
      "metadata": {
        "id": "9M3nRmmUN2FY",
        "colab_type": "code",
        "outputId": "204386cc-cef2-42f0-a8b1-eaca523d21e0",
        "colab": {
          "base_uri": "https://localhost:8080/",
          "height": 50
        }
      },
      "source": [
        "k= np.arange(10)\n",
        "k.resize(2,5)\n",
        "k"
      ],
      "execution_count": 79,
      "outputs": [
        {
          "output_type": "execute_result",
          "data": {
            "text/plain": [
              "array([[0, 1, 2, 3, 4],\n",
              "       [5, 6, 7, 8, 9]])"
            ]
          },
          "metadata": {
            "tags": []
          },
          "execution_count": 79
        }
      ]
    },
    {
      "cell_type": "code",
      "metadata": {
        "id": "wE-WTyImBPi-",
        "colab_type": "code",
        "outputId": "872e9794-d084-44b4-970c-213cc485cad1",
        "colab": {
          "base_uri": "https://localhost:8080/",
          "height": 34
        }
      },
      "source": [
        "s = np.arange(13)**2\n",
        "s"
      ],
      "execution_count": 80,
      "outputs": [
        {
          "output_type": "execute_result",
          "data": {
            "text/plain": [
              "array([  0,   1,   4,   9,  16,  25,  36,  49,  64,  81, 100, 121, 144])"
            ]
          },
          "metadata": {
            "tags": []
          },
          "execution_count": 80
        }
      ]
    },
    {
      "cell_type": "code",
      "metadata": {
        "id": "aIxdIIbVBPi_",
        "colab_type": "code",
        "outputId": "b041e631-1998-44f0-f643-db97f48e6d4e",
        "colab": {
          "base_uri": "https://localhost:8080/",
          "height": 34
        }
      },
      "source": [
        "# Use bracket notation to get the value at a specific index. Remember that indexing starts at 0.\n",
        "s[0], s[4], s[-1]"
      ],
      "execution_count": 82,
      "outputs": [
        {
          "output_type": "execute_result",
          "data": {
            "text/plain": [
              "(0, 16, 144)"
            ]
          },
          "metadata": {
            "tags": []
          },
          "execution_count": 82
        }
      ]
    },
    {
      "cell_type": "markdown",
      "metadata": {
        "id": "dxWfKRHkBPjB",
        "colab_type": "text"
      },
      "source": [
        "**Use `:` to indicate a range. `array[start:stop]`**\n",
        "\n",
        "\n",
        "Leaving `start` or `stop` empty will default to the beginning/end of the array."
      ]
    },
    {
      "cell_type": "code",
      "metadata": {
        "id": "U06_r4NOBPjC",
        "colab_type": "code",
        "outputId": "2f2354b7-4cfc-46a2-f36d-a24d85b79080",
        "colab": {
          "base_uri": "https://localhost:8080/",
          "height": 34
        }
      },
      "source": [
        "s[1:5]"
      ],
      "execution_count": 0,
      "outputs": [
        {
          "output_type": "execute_result",
          "data": {
            "text/plain": [
              "array([ 1,  4,  9, 16])"
            ]
          },
          "metadata": {
            "tags": []
          },
          "execution_count": 79
        }
      ]
    },
    {
      "cell_type": "markdown",
      "metadata": {
        "id": "ZhMCtrT6BPjE",
        "colab_type": "text"
      },
      "source": [
        "<br>\n",
        "Use negatives to count from the back."
      ]
    },
    {
      "cell_type": "code",
      "metadata": {
        "id": "2qyYoP02BPjF",
        "colab_type": "code",
        "outputId": "0e4c4288-4138-4428-e32f-fbd911da5328",
        "colab": {
          "base_uri": "https://localhost:8080/",
          "height": 34
        }
      },
      "source": [
        "s[-4:]"
      ],
      "execution_count": 83,
      "outputs": [
        {
          "output_type": "execute_result",
          "data": {
            "text/plain": [
              "array([ 81, 100, 121, 144])"
            ]
          },
          "metadata": {
            "tags": []
          },
          "execution_count": 83
        }
      ]
    },
    {
      "cell_type": "markdown",
      "metadata": {
        "id": "mgatOFryBPjH",
        "colab_type": "text"
      },
      "source": [
        "**A second `:` can be used to indicate step-size. `array[start:stop:stepsize]`**\n",
        "\n",
        "Here we are starting 5th element from the end, and counting backwards by 2 until the beginning of the array is reached."
      ]
    },
    {
      "cell_type": "code",
      "metadata": {
        "id": "NHGCUIDTBPjI",
        "colab_type": "code",
        "outputId": "2e6eb50f-58e1-408d-e4ec-4f543b7fd088",
        "colab": {
          "base_uri": "https://localhost:8080/",
          "height": 34
        }
      },
      "source": [
        "s[-5::-2]"
      ],
      "execution_count": 0,
      "outputs": [
        {
          "output_type": "execute_result",
          "data": {
            "text/plain": [
              "array([64, 36, 16,  4,  0])"
            ]
          },
          "metadata": {
            "tags": []
          },
          "execution_count": 81
        }
      ]
    },
    {
      "cell_type": "markdown",
      "metadata": {
        "id": "9-XXpacxBPjJ",
        "colab_type": "text"
      },
      "source": [
        "<br>\n",
        "Let's look at a multidimensional array."
      ]
    },
    {
      "cell_type": "code",
      "metadata": {
        "id": "XL2htbQ1BPjK",
        "colab_type": "code",
        "outputId": "7efee59f-14be-4935-9edd-76596ab56868",
        "colab": {
          "base_uri": "https://localhost:8080/",
          "height": 118
        }
      },
      "source": [
        "r = np.arange(36)\n",
        "r.resize((6, 6))\n",
        "r"
      ],
      "execution_count": 84,
      "outputs": [
        {
          "output_type": "execute_result",
          "data": {
            "text/plain": [
              "array([[ 0,  1,  2,  3,  4,  5],\n",
              "       [ 6,  7,  8,  9, 10, 11],\n",
              "       [12, 13, 14, 15, 16, 17],\n",
              "       [18, 19, 20, 21, 22, 23],\n",
              "       [24, 25, 26, 27, 28, 29],\n",
              "       [30, 31, 32, 33, 34, 35]])"
            ]
          },
          "metadata": {
            "tags": []
          },
          "execution_count": 84
        }
      ]
    },
    {
      "cell_type": "code",
      "metadata": {
        "id": "KYBKWOPgBPjM",
        "colab_type": "code",
        "outputId": "0ebe7c8a-d423-4181-bf96-9b903532a812",
        "colab": {
          "base_uri": "https://localhost:8080/",
          "height": 34
        }
      },
      "source": [
        "# Use bracket notation to slice: `array[row, column]`\n",
        "\n",
        "r[2, 2]"
      ],
      "execution_count": 87,
      "outputs": [
        {
          "output_type": "execute_result",
          "data": {
            "text/plain": [
              "14"
            ]
          },
          "metadata": {
            "tags": []
          },
          "execution_count": 87
        }
      ]
    },
    {
      "cell_type": "code",
      "metadata": {
        "id": "wOeq4kECBPjP",
        "colab_type": "code",
        "outputId": "3c4eca70-4ae7-4484-9358-ea9c503fd8b8",
        "colab": {
          "base_uri": "https://localhost:8080/",
          "height": 34
        }
      },
      "source": [
        "# use : to select a range of rows or columns\n",
        "r[3, 3:6]"
      ],
      "execution_count": 89,
      "outputs": [
        {
          "output_type": "execute_result",
          "data": {
            "text/plain": [
              "array([21, 22, 23])"
            ]
          },
          "metadata": {
            "tags": []
          },
          "execution_count": 89
        }
      ]
    },
    {
      "cell_type": "code",
      "metadata": {
        "id": "HuIb7F5hBPjS",
        "colab_type": "code",
        "outputId": "69971797-12ca-4f74-d495-61501e40f1da",
        "colab": {
          "base_uri": "https://localhost:8080/",
          "height": 50
        }
      },
      "source": [
        "# Here we are selecting all the rows up to (and not including) row 2, and all the columns up to (and not including) the last column.\n",
        "r[:2, :-1]"
      ],
      "execution_count": 90,
      "outputs": [
        {
          "output_type": "execute_result",
          "data": {
            "text/plain": [
              "array([[ 0,  1,  2,  3,  4],\n",
              "       [ 6,  7,  8,  9, 10]])"
            ]
          },
          "metadata": {
            "tags": []
          },
          "execution_count": 90
        }
      ]
    },
    {
      "cell_type": "code",
      "metadata": {
        "id": "6VUmfxEUBPjT",
        "colab_type": "code",
        "outputId": "9c04bcf3-6b2d-4a4e-fd00-6402494d5e13",
        "colab": {
          "base_uri": "https://localhost:8080/",
          "height": 34
        }
      },
      "source": [
        "# This is a slice of the last row, and only every other element.\n",
        "r[-1, ::2]"
      ],
      "execution_count": 91,
      "outputs": [
        {
          "output_type": "execute_result",
          "data": {
            "text/plain": [
              "array([30, 32, 34])"
            ]
          },
          "metadata": {
            "tags": []
          },
          "execution_count": 91
        }
      ]
    },
    {
      "cell_type": "markdown",
      "metadata": {
        "id": "sSLchTUgBPjV",
        "colab_type": "text"
      },
      "source": [
        "**We can also perform conditional indexing.** <br>Here we are selecting values from the array that are greater than 30. (Also see `np.where`)"
      ]
    },
    {
      "cell_type": "code",
      "metadata": {
        "id": "IlNEthMWBPjV",
        "colab_type": "code",
        "outputId": "c2a10458-3ae9-4e1e-c044-7f4623e41f8f",
        "colab": {
          "base_uri": "https://localhost:8080/",
          "height": 34
        }
      },
      "source": [
        "r[r > 30]"
      ],
      "execution_count": 92,
      "outputs": [
        {
          "output_type": "execute_result",
          "data": {
            "text/plain": [
              "array([31, 32, 33, 34, 35])"
            ]
          },
          "metadata": {
            "tags": []
          },
          "execution_count": 92
        }
      ]
    },
    {
      "cell_type": "markdown",
      "metadata": {
        "id": "4Uw56iOgBPjX",
        "colab_type": "text"
      },
      "source": [
        "<br>\n",
        "Here we are assigning all values in the array that are greater than 30 to the value of 30."
      ]
    },
    {
      "cell_type": "code",
      "metadata": {
        "id": "J5h0NUEWBPjX",
        "colab_type": "code",
        "outputId": "37c4cebb-3880-4271-84e3-011be0361bc8",
        "colab": {
          "base_uri": "https://localhost:8080/",
          "height": 118
        }
      },
      "source": [
        "r[r > 30] = 30\n",
        "r"
      ],
      "execution_count": 93,
      "outputs": [
        {
          "output_type": "execute_result",
          "data": {
            "text/plain": [
              "array([[ 0,  1,  2,  3,  4,  5],\n",
              "       [ 6,  7,  8,  9, 10, 11],\n",
              "       [12, 13, 14, 15, 16, 17],\n",
              "       [18, 19, 20, 21, 22, 23],\n",
              "       [24, 25, 26, 27, 28, 29],\n",
              "       [30, 30, 30, 30, 30, 30]])"
            ]
          },
          "metadata": {
            "tags": []
          },
          "execution_count": 93
        }
      ]
    },
    {
      "cell_type": "markdown",
      "metadata": {
        "id": "CyasC5zNBPja",
        "colab_type": "text"
      },
      "source": [
        "## Copying Data"
      ]
    },
    {
      "cell_type": "markdown",
      "metadata": {
        "id": "Ljs0kSxIBPja",
        "colab_type": "text"
      },
      "source": [
        "**Be careful with copying and modifying arrays in NumPy!**\n",
        "\n",
        "\n",
        "`r2` is a slice of `r`"
      ]
    },
    {
      "cell_type": "code",
      "metadata": {
        "id": "ywEAgYitBPjc",
        "colab_type": "code",
        "outputId": "21529d1e-03fe-4a4f-88be-44db3d283a4a",
        "colab": {
          "base_uri": "https://localhost:8080/",
          "height": 67
        }
      },
      "source": [
        "r2 = r[:3,:3]\n",
        "r2"
      ],
      "execution_count": 94,
      "outputs": [
        {
          "output_type": "execute_result",
          "data": {
            "text/plain": [
              "array([[ 0,  1,  2],\n",
              "       [ 6,  7,  8],\n",
              "       [12, 13, 14]])"
            ]
          },
          "metadata": {
            "tags": []
          },
          "execution_count": 94
        }
      ]
    },
    {
      "cell_type": "markdown",
      "metadata": {
        "id": "xYJ7BhLlBPje",
        "colab_type": "text"
      },
      "source": [
        "<br>\n",
        "Set this slice's values to zero ([:] selects the entire array)"
      ]
    },
    {
      "cell_type": "code",
      "metadata": {
        "id": "aTJx2UjtBPje",
        "colab_type": "code",
        "outputId": "918319cd-3be1-47b4-e091-2d203181a062",
        "colab": {
          "base_uri": "https://localhost:8080/",
          "height": 67
        }
      },
      "source": [
        "r2[:] = 0\n",
        "r2"
      ],
      "execution_count": 95,
      "outputs": [
        {
          "output_type": "execute_result",
          "data": {
            "text/plain": [
              "array([[0, 0, 0],\n",
              "       [0, 0, 0],\n",
              "       [0, 0, 0]])"
            ]
          },
          "metadata": {
            "tags": []
          },
          "execution_count": 95
        }
      ]
    },
    {
      "cell_type": "markdown",
      "metadata": {
        "id": "kj34E8-DBPjf",
        "colab_type": "text"
      },
      "source": [
        "<br>\n",
        "`r` has also been changed!"
      ]
    },
    {
      "cell_type": "code",
      "metadata": {
        "id": "6-6FBzfbBPjg",
        "colab_type": "code",
        "outputId": "54b96752-5ee5-42f4-9a55-b9954d4bf566",
        "colab": {
          "base_uri": "https://localhost:8080/",
          "height": 118
        }
      },
      "source": [
        "r"
      ],
      "execution_count": 96,
      "outputs": [
        {
          "output_type": "execute_result",
          "data": {
            "text/plain": [
              "array([[ 0,  0,  0,  3,  4,  5],\n",
              "       [ 0,  0,  0,  9, 10, 11],\n",
              "       [ 0,  0,  0, 15, 16, 17],\n",
              "       [18, 19, 20, 21, 22, 23],\n",
              "       [24, 25, 26, 27, 28, 29],\n",
              "       [30, 30, 30, 30, 30, 30]])"
            ]
          },
          "metadata": {
            "tags": []
          },
          "execution_count": 96
        }
      ]
    },
    {
      "cell_type": "markdown",
      "metadata": {
        "id": "xuqLcU1WBPjh",
        "colab_type": "text"
      },
      "source": [
        "**To avoid this, use `r.copy` to create a copy that will not affect the original array**"
      ]
    },
    {
      "cell_type": "code",
      "metadata": {
        "id": "jG1uHMhxBPji",
        "colab_type": "code",
        "outputId": "c6e6219f-9492-4d2b-aaf1-7f28d858d57e",
        "colab": {
          "base_uri": "https://localhost:8080/",
          "height": 118
        }
      },
      "source": [
        "r_copy = r.copy()\n",
        "r_copy"
      ],
      "execution_count": 97,
      "outputs": [
        {
          "output_type": "execute_result",
          "data": {
            "text/plain": [
              "array([[ 0,  0,  0,  3,  4,  5],\n",
              "       [ 0,  0,  0,  9, 10, 11],\n",
              "       [ 0,  0,  0, 15, 16, 17],\n",
              "       [18, 19, 20, 21, 22, 23],\n",
              "       [24, 25, 26, 27, 28, 29],\n",
              "       [30, 30, 30, 30, 30, 30]])"
            ]
          },
          "metadata": {
            "tags": []
          },
          "execution_count": 97
        }
      ]
    },
    {
      "cell_type": "markdown",
      "metadata": {
        "id": "5Zq2JmDQBPjk",
        "colab_type": "text"
      },
      "source": [
        "**Now when r_copy is modified, r will not be changed.**"
      ]
    },
    {
      "cell_type": "code",
      "metadata": {
        "id": "68gi_UdUBPjk",
        "colab_type": "code",
        "outputId": "8e96418b-71b9-4109-93f7-8902b63b086f",
        "colab": {
          "base_uri": "https://localhost:8080/",
          "height": 218
        }
      },
      "source": [
        "r_copy[:] = 10\n",
        "print(r_copy, '/n')\n",
        "print(r)"
      ],
      "execution_count": 98,
      "outputs": [
        {
          "output_type": "stream",
          "text": [
            "[[10 10 10 10 10 10]\n",
            " [10 10 10 10 10 10]\n",
            " [10 10 10 10 10 10]\n",
            " [10 10 10 10 10 10]\n",
            " [10 10 10 10 10 10]\n",
            " [10 10 10 10 10 10]] /n\n",
            "[[ 0  0  0  3  4  5]\n",
            " [ 0  0  0  9 10 11]\n",
            " [ 0  0  0 15 16 17]\n",
            " [18 19 20 21 22 23]\n",
            " [24 25 26 27 28 29]\n",
            " [30 30 30 30 30 30]]\n"
          ],
          "name": "stdout"
        }
      ]
    },
    {
      "cell_type": "markdown",
      "metadata": {
        "id": "awUYd91RBPjl",
        "colab_type": "text"
      },
      "source": [
        "## Iterating Over Arrays"
      ]
    },
    {
      "cell_type": "markdown",
      "metadata": {
        "id": "iGhbtX4cBPjl",
        "colab_type": "text"
      },
      "source": [
        "Let's create a new 4 by 3 array of random numbers 0-9."
      ]
    },
    {
      "cell_type": "code",
      "metadata": {
        "id": "JBbZG47GBPjl",
        "colab_type": "code",
        "outputId": "bed27192-90e5-4b83-d740-202fd4e6e383",
        "colab": {
          "base_uri": "https://localhost:8080/",
          "height": 84
        }
      },
      "source": [
        "test = np.random.randint(0, 10, (4,3))\n",
        "test"
      ],
      "execution_count": 99,
      "outputs": [
        {
          "output_type": "execute_result",
          "data": {
            "text/plain": [
              "array([[1, 1, 4],\n",
              "       [1, 7, 9],\n",
              "       [3, 5, 7],\n",
              "       [1, 8, 4]])"
            ]
          },
          "metadata": {
            "tags": []
          },
          "execution_count": 99
        }
      ]
    },
    {
      "cell_type": "markdown",
      "metadata": {
        "id": "B68KDfFqBPjo",
        "colab_type": "text"
      },
      "source": [
        "**Iterate by row:**"
      ]
    },
    {
      "cell_type": "code",
      "metadata": {
        "id": "DPtZs_57BPjp",
        "colab_type": "code",
        "outputId": "1b84165b-f963-467c-b587-7ef8d570f8cd",
        "colab": {
          "base_uri": "https://localhost:8080/",
          "height": 84
        }
      },
      "source": [
        "for row in test:\n",
        "    print(row)"
      ],
      "execution_count": 100,
      "outputs": [
        {
          "output_type": "stream",
          "text": [
            "[1 1 4]\n",
            "[1 7 9]\n",
            "[3 5 7]\n",
            "[1 8 4]\n"
          ],
          "name": "stdout"
        }
      ]
    },
    {
      "cell_type": "markdown",
      "metadata": {
        "id": "mb_rYd_lBPjr",
        "colab_type": "text"
      },
      "source": [
        "* **Iterate by index:**"
      ]
    },
    {
      "cell_type": "code",
      "metadata": {
        "id": "uPjaSKlCBPjr",
        "colab_type": "code",
        "outputId": "9b84cabd-c5a9-4135-94ac-edbe006591fb",
        "colab": {
          "base_uri": "https://localhost:8080/",
          "height": 84
        }
      },
      "source": [
        "for i in range(len(test)):\n",
        "    print(test[i])"
      ],
      "execution_count": 101,
      "outputs": [
        {
          "output_type": "stream",
          "text": [
            "[1 1 4]\n",
            "[1 7 9]\n",
            "[3 5 7]\n",
            "[1 8 4]\n"
          ],
          "name": "stdout"
        }
      ]
    },
    {
      "cell_type": "markdown",
      "metadata": {
        "id": "iopQ48IlBPjt",
        "colab_type": "text"
      },
      "source": [
        "**Iterate by row and index:**"
      ]
    },
    {
      "cell_type": "code",
      "metadata": {
        "id": "PJWNnqzsBPjt",
        "colab_type": "code",
        "outputId": "ecf2366b-5023-4040-d6e8-d73f634ea1ee",
        "colab": {
          "base_uri": "https://localhost:8080/",
          "height": 84
        }
      },
      "source": [
        "for i, row in enumerate(test):\n",
        "    print('row', i, 'is', row)"
      ],
      "execution_count": 102,
      "outputs": [
        {
          "output_type": "stream",
          "text": [
            "row 0 is [1 1 4]\n",
            "row 1 is [1 7 9]\n",
            "row 2 is [3 5 7]\n",
            "row 3 is [1 8 4]\n"
          ],
          "name": "stdout"
        }
      ]
    },
    {
      "cell_type": "markdown",
      "metadata": {
        "id": "_h4ODFwFBPju",
        "colab_type": "text"
      },
      "source": [
        " **Use `zip` to iterate over multiple iterables.**"
      ]
    },
    {
      "cell_type": "code",
      "metadata": {
        "id": "2jJYkYdvBPjv",
        "colab_type": "code",
        "outputId": "618c85e7-2d57-4dc0-be4e-60b82dadd4bb",
        "colab": {
          "base_uri": "https://localhost:8080/",
          "height": 84
        }
      },
      "source": [
        "test2 = test**2\n",
        "test2"
      ],
      "execution_count": 103,
      "outputs": [
        {
          "output_type": "execute_result",
          "data": {
            "text/plain": [
              "array([[ 1,  1, 16],\n",
              "       [ 1, 49, 81],\n",
              "       [ 9, 25, 49],\n",
              "       [ 1, 64, 16]])"
            ]
          },
          "metadata": {
            "tags": []
          },
          "execution_count": 103
        }
      ]
    },
    {
      "cell_type": "code",
      "metadata": {
        "id": "TNgwWWedBPjy",
        "colab_type": "code",
        "outputId": "6f4e8778-2c24-44ac-8bf1-d193d3b68088",
        "colab": {
          "base_uri": "https://localhost:8080/",
          "height": 84
        }
      },
      "source": [
        "for i, j in zip(test, test2):\n",
        "    print(i,'+',j,'=',i+j)"
      ],
      "execution_count": 104,
      "outputs": [
        {
          "output_type": "stream",
          "text": [
            "[1 1 4] + [ 1  1 16] = [ 2  2 20]\n",
            "[1 7 9] + [ 1 49 81] = [ 2 56 90]\n",
            "[3 5 7] + [ 9 25 49] = [12 30 56]\n",
            "[1 8 4] + [ 1 64 16] = [ 2 72 20]\n"
          ],
          "name": "stdout"
        }
      ]
    }
  ]
}