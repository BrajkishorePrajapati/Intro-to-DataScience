{
  "nbformat": 4,
  "nbformat_minor": 0,
  "metadata": {
    "colab": {
      "name": "Python Datastructure.ipynb",
      "provenance": [],
      "collapsed_sections": []
    },
    "kernelspec": {
      "name": "python3",
      "display_name": "Python 3"
    }
  },
  "cells": [
    {
      "cell_type": "markdown",
      "metadata": {
        "id": "Os9v35TJLLKB",
        "colab_type": "text"
      },
      "source": [
        "# Python Tuple\n",
        "\n",
        "1. Tuple is an ordered sequence of elements which can include any different  type of elements.\n",
        "\n",
        "2. It is immutable cannot change element values.\n",
        "3. Represented by parenthesis ()\n",
        "\n",
        "\n",
        "\n",
        "\n"
      ]
    },
    {
      "cell_type": "code",
      "metadata": {
        "id": "Izj_EzMXLOxo",
        "colab_type": "code",
        "outputId": "309e24b4-15aa-4703-f3c6-dcec94bd9294",
        "colab": {
          "base_uri": "https://localhost:8080/",
          "height": 34
        }
      },
      "source": [
        "tuple = (1,'Braj',2)\n",
        "print(tuple)"
      ],
      "execution_count": 0,
      "outputs": [
        {
          "output_type": "stream",
          "text": [
            "(1, 'Braj', 2)\n"
          ],
          "name": "stdout"
        }
      ]
    },
    {
      "cell_type": "markdown",
      "metadata": {
        "id": "0JqOVaPfG1eu",
        "colab_type": "text"
      },
      "source": [
        " **Indexing**\n",
        "We can use indexing operator[] to access an element of a tuple where the index starts from 0."
      ]
    },
    {
      "cell_type": "code",
      "metadata": {
        "id": "2Xj16i3VG0m1",
        "colab_type": "code",
        "colab": {
          "base_uri": "https://localhost:8080/",
          "height": 35
        },
        "outputId": "e589a17a-29e0-4d04-fa1b-b6e7b1ca0455"
      },
      "source": [
        "tuple = (1,3,4,6)\n",
        "tuple[1]"
      ],
      "execution_count": 1,
      "outputs": [
        {
          "output_type": "execute_result",
          "data": {
            "text/plain": [
              "3"
            ]
          },
          "metadata": {
            "tags": []
          },
          "execution_count": 1
        }
      ]
    },
    {
      "cell_type": "code",
      "metadata": {
        "id": "khE9QrFjHfMi",
        "colab_type": "code",
        "colab": {
          "base_uri": "https://localhost:8080/",
          "height": 35
        },
        "outputId": "d2b57645-67d6-45ab-8948-a0351a69fafc"
      },
      "source": [
        "tuple[0]"
      ],
      "execution_count": 2,
      "outputs": [
        {
          "output_type": "execute_result",
          "data": {
            "text/plain": [
              "1"
            ]
          },
          "metadata": {
            "tags": []
          },
          "execution_count": 2
        }
      ]
    },
    {
      "cell_type": "markdown",
      "metadata": {
        "id": "0I6VlAaWHmHR",
        "colab_type": "text"
      },
      "source": [
        "**Negative index** - The index -1 refers to the last element of the tuple and -2 second last element."
      ]
    },
    {
      "cell_type": "code",
      "metadata": {
        "id": "6gQyfj5DH05T",
        "colab_type": "code",
        "colab": {
          "base_uri": "https://localhost:8080/",
          "height": 35
        },
        "outputId": "3605e4f3-8227-44fd-b25f-6cfa75313263"
      },
      "source": [
        "tuple[-1]"
      ],
      "execution_count": 3,
      "outputs": [
        {
          "output_type": "execute_result",
          "data": {
            "text/plain": [
              "6"
            ]
          },
          "metadata": {
            "tags": []
          },
          "execution_count": 3
        }
      ]
    },
    {
      "cell_type": "markdown",
      "metadata": {
        "id": "Kd1gfuAyNV-q",
        "colab_type": "text"
      },
      "source": [
        "**Slicing** - We can access a renge of items in a tuple by using a slicing operator colon \":\"."
      ]
    },
    {
      "cell_type": "code",
      "metadata": {
        "id": "j36k2gGWMuZR",
        "colab_type": "code",
        "outputId": "b28e1a2e-857f-40db-f935-b2d6b2a239ac",
        "colab": {
          "base_uri": "https://localhost:8080/",
          "height": 34
        }
      },
      "source": [
        "my_tuple = ('r','j', 'i', 't', 'n', 'a', 'v', 'i', 'g', 'a', 't', 'o', 'r', 's')\n",
        "my_tuple[0:4]"
      ],
      "execution_count": 0,
      "outputs": [
        {
          "output_type": "execute_result",
          "data": {
            "text/plain": [
              "('r', 'j', 'i', 't')"
            ]
          },
          "metadata": {
            "tags": []
          },
          "execution_count": 8
        }
      ]
    },
    {
      "cell_type": "code",
      "metadata": {
        "id": "_q_98Zj3NbuY",
        "colab_type": "code",
        "outputId": "ad244427-a435-4cbf-e892-d62f7fe280a6",
        "colab": {
          "base_uri": "https://localhost:8080/",
          "height": 34
        }
      },
      "source": [
        "my_tuple[4:-1]"
      ],
      "execution_count": 0,
      "outputs": [
        {
          "output_type": "execute_result",
          "data": {
            "text/plain": [
              "('n', 'a', 'v', 'i', 'g', 'a', 't', 'o', 'r')"
            ]
          },
          "metadata": {
            "tags": []
          },
          "execution_count": 9
        }
      ]
    },
    {
      "cell_type": "code",
      "metadata": {
        "id": "WKRScN2vfV0p",
        "colab_type": "code",
        "outputId": "897f6b20-0521-407e-dcd9-65b5c09d804f",
        "colab": {
          "base_uri": "https://localhost:8080/",
          "height": 34
        }
      },
      "source": [
        "init_tuple_a = 'a', 'b'\n",
        "init_tuple_b = ('a', 'b')\n",
        "\n",
        "print (init_tuple_a == init_tuple_b)"
      ],
      "execution_count": 0,
      "outputs": [
        {
          "output_type": "stream",
          "text": [
            "True\n"
          ],
          "name": "stdout"
        }
      ]
    },
    {
      "cell_type": "markdown",
      "metadata": {
        "id": "DooJ7QzwL9WM",
        "colab_type": "text"
      },
      "source": [
        "**Swapping tuples**"
      ]
    },
    {
      "cell_type": "code",
      "metadata": {
        "id": "jpfXIM4mLk8w",
        "colab_type": "code",
        "outputId": "c9616104-a4fd-4e87-b9f7-c84854557ff6",
        "colab": {
          "base_uri": "https://localhost:8080/",
          "height": 84
        }
      },
      "source": [
        "x= (1,2,3,4)\n",
        "y=('b','r','a', 'j')\n",
        "print(x)\n",
        "print(y)\n",
        "(x,y) = (y,x)\n",
        "print(x)\n",
        "print(y)"
      ],
      "execution_count": 0,
      "outputs": [
        {
          "output_type": "stream",
          "text": [
            "(1, 2, 3, 4)\n",
            "('b', 'r', 'a', 'j')\n",
            "('b', 'r', 'a', 'j')\n",
            "(1, 2, 3, 4)\n"
          ],
          "name": "stdout"
        }
      ]
    },
    {
      "cell_type": "markdown",
      "metadata": {
        "id": "kq5Ql_9mFqtV",
        "colab_type": "text"
      },
      "source": [
        "# Python List\n",
        "* List is a collection which is ordered and changeable. Allows duplicate members.\n",
        "*  Represented by [ ]\n",
        "*  List is mutable.\n",
        "\n",
        "\n",
        " List indexing starts from 0"
      ]
    },
    {
      "cell_type": "markdown",
      "metadata": {
        "id": "B1ThrE7rLLIj",
        "colab_type": "text"
      },
      "source": [
        ""
      ]
    },
    {
      "cell_type": "code",
      "metadata": {
        "id": "b264rpg5FggS",
        "colab_type": "code",
        "outputId": "97b75489-2093-49b3-d507-fca479d396b8",
        "colab": {
          "base_uri": "https://localhost:8080/",
          "height": 34
        }
      },
      "source": [
        "list = [1,2,3,4,5]\n",
        "print(list)"
      ],
      "execution_count": 0,
      "outputs": [
        {
          "output_type": "stream",
          "text": [
            "[1, 2, 3, 4, 5]\n"
          ],
          "name": "stdout"
        }
      ]
    },
    {
      "cell_type": "code",
      "metadata": {
        "id": "gISOUJrpGDsA",
        "colab_type": "code",
        "outputId": "9f43624a-3025-4d40-b4d5-7696223489b8",
        "colab": {
          "base_uri": "https://localhost:8080/",
          "height": 34
        }
      },
      "source": [
        "# List are mutable\n",
        "list[1] = 8\n",
        "print(list)"
      ],
      "execution_count": 0,
      "outputs": [
        {
          "output_type": "stream",
          "text": [
            "[1, 8, 3, 4, 5]\n"
          ],
          "name": "stdout"
        }
      ]
    },
    {
      "cell_type": "markdown",
      "metadata": {
        "id": "7S7YXB8SGpBL",
        "colab_type": "text"
      },
      "source": [
        "**Iterating over a list**"
      ]
    },
    {
      "cell_type": "code",
      "metadata": {
        "id": "v3GaOlguG9_D",
        "colab_type": "code",
        "outputId": "231e3fe5-c248-4781-e56c-254167d601d3",
        "colab": {
          "base_uri": "https://localhost:8080/",
          "height": 34
        }
      },
      "source": [
        "sum = 0\n",
        "list = [1,2,3,4,5,6]\n",
        "for i in list:\n",
        "  sum += i\n",
        "print(sum)"
      ],
      "execution_count": 0,
      "outputs": [
        {
          "output_type": "stream",
          "text": [
            "21\n"
          ],
          "name": "stdout"
        }
      ]
    },
    {
      "cell_type": "code",
      "metadata": {
        "id": "M8LLnlNkHXrq",
        "colab_type": "code",
        "outputId": "12e182c2-447b-4d89-9167-cdd11f1355b5",
        "colab": {
          "base_uri": "https://localhost:8080/",
          "height": 34
        }
      },
      "source": [
        "sum = 0\n",
        "list = [1,2,3,4,5,6]\n",
        "for i in range(len(list)):\n",
        "  sum += i\n",
        "print(sum)"
      ],
      "execution_count": 0,
      "outputs": [
        {
          "output_type": "stream",
          "text": [
            "15\n"
          ],
          "name": "stdout"
        }
      ]
    },
    {
      "cell_type": "code",
      "metadata": {
        "id": "fUbY8chnHntc",
        "colab_type": "code",
        "outputId": "b3eacda0-2007-4abe-dfa5-c8be7b3a2d43",
        "colab": {
          "base_uri": "https://localhost:8080/",
          "height": 34
        }
      },
      "source": [
        "sum = 0\n",
        "list = [1,2,3,4,5,6]\n",
        "for i in range(len(list)):\n",
        "  sum += list[i]\n",
        "print(sum)"
      ],
      "execution_count": 0,
      "outputs": [
        {
          "output_type": "stream",
          "text": [
            "21\n"
          ],
          "name": "stdout"
        }
      ]
    },
    {
      "cell_type": "markdown",
      "metadata": {
        "id": "e3ydFO1gH_bT",
        "colab_type": "text"
      },
      "source": [
        "# List Operations"
      ]
    },
    {
      "cell_type": "markdown",
      "metadata": {
        "id": "8ImyhGRwIK8J",
        "colab_type": "text"
      },
      "source": [
        "**1. Adding element at the end of the list**"
      ]
    },
    {
      "cell_type": "code",
      "metadata": {
        "id": "cQBBDHzCIDAC",
        "colab_type": "code",
        "outputId": "2d21c640-643c-47ed-8021-cd443fdff425",
        "colab": {
          "base_uri": "https://localhost:8080/",
          "height": 34
        }
      },
      "source": [
        "L1 = [1,2,3,4]\n",
        "L1.append('r')\n",
        "print(L1)"
      ],
      "execution_count": 0,
      "outputs": [
        {
          "output_type": "stream",
          "text": [
            "[1, 2, 3, 4, 'r']\n"
          ],
          "name": "stdout"
        }
      ]
    },
    {
      "cell_type": "markdown",
      "metadata": {
        "id": "BB84hNNsJqEi",
        "colab_type": "text"
      },
      "source": [
        "**2. Adding two list** "
      ]
    },
    {
      "cell_type": "code",
      "metadata": {
        "id": "W9Fj1dD_Jwfo",
        "colab_type": "code",
        "outputId": "c00cc0d9-614f-496a-f390-0cd2e0c6c317",
        "colab": {
          "base_uri": "https://localhost:8080/",
          "height": 34
        }
      },
      "source": [
        "L1 = ['R', 'J', 'I', 'T']\n",
        "L2 = ['N', 'A', 'V', 'I', 'G', 'A', 'T', 'O', 'R']\n",
        "L3 = L1 + L2\n",
        "print(L3)"
      ],
      "execution_count": 0,
      "outputs": [
        {
          "output_type": "stream",
          "text": [
            "['R', 'J', 'I', 'T', 'N', 'A', 'V', 'I', 'G', 'A', 'T', 'O', 'R']\n"
          ],
          "name": "stdout"
        }
      ]
    },
    {
      "cell_type": "markdown",
      "metadata": {
        "id": "2NHU6rnkKftS",
        "colab_type": "text"
      },
      "source": [
        "**3. Extending List**"
      ]
    },
    {
      "cell_type": "code",
      "metadata": {
        "id": "KqcuTUb1Jwe6",
        "colab_type": "code",
        "outputId": "7a2a7ea9-3304-4426-ca8d-a8b66d0f7540",
        "colab": {
          "base_uri": "https://localhost:8080/",
          "height": 34
        }
      },
      "source": [
        "L1 = ['R', 'J', 'I', 'T']\n",
        "L2 = ['N', 'A', 'V', 'I', 'G', 'A', 'T', 'O', 'R']\n",
        "L1.extend(L2)\n",
        "print(L1)"
      ],
      "execution_count": 0,
      "outputs": [
        {
          "output_type": "stream",
          "text": [
            "['R', 'J', 'I', 'T', 'N', 'A', 'V', 'I', 'G', 'A', 'T', 'O', 'R']\n"
          ],
          "name": "stdout"
        }
      ]
    },
    {
      "cell_type": "markdown",
      "metadata": {
        "id": "Q4wWNXmXLKhQ",
        "colab_type": "text"
      },
      "source": [
        "**4. Removing an element at the end of the list**"
      ]
    },
    {
      "cell_type": "code",
      "metadata": {
        "id": "46GtDKxsJweI",
        "colab_type": "code",
        "outputId": "3c77211b-22be-4d49-99d0-fc02b82088d8",
        "colab": {
          "base_uri": "https://localhost:8080/",
          "height": 35
        }
      },
      "source": [
        "list = [1,2,3,4,5,6,7,8,9]\n",
        "list.pop()\n",
        "print(list)"
      ],
      "execution_count": 0,
      "outputs": [
        {
          "output_type": "stream",
          "text": [
            "[1, 2, 3, 4, 5, 6, 7, 8]\n"
          ],
          "name": "stdout"
        }
      ]
    },
    {
      "cell_type": "markdown",
      "metadata": {
        "id": "BsQEnzUaLpCg",
        "colab_type": "text"
      },
      "source": [
        "**5. Removing an element at the specified position of the list**"
      ]
    },
    {
      "cell_type": "code",
      "metadata": {
        "id": "zl8IdCFuLhox",
        "colab_type": "code",
        "outputId": "4f97c97b-1d26-4e95-cdfb-dc7d5366aa4e",
        "colab": {
          "base_uri": "https://localhost:8080/",
          "height": 35
        }
      },
      "source": [
        "list.pop(2)\n",
        "print(list)"
      ],
      "execution_count": 0,
      "outputs": [
        {
          "output_type": "stream",
          "text": [
            "[1, 2, 4, 5, 6, 7, 8]\n"
          ],
          "name": "stdout"
        }
      ]
    },
    {
      "cell_type": "code",
      "metadata": {
        "id": "vOtqBUhXL7kp",
        "colab_type": "code",
        "outputId": "6cb681cf-31a3-461a-e96d-edbbdf1faa76",
        "colab": {
          "base_uri": "https://localhost:8080/",
          "height": 35
        }
      },
      "source": [
        "del(list[3])\n",
        "print(list)"
      ],
      "execution_count": 0,
      "outputs": [
        {
          "output_type": "stream",
          "text": [
            "[1, 2, 4, 6, 7, 8]\n"
          ],
          "name": "stdout"
        }
      ]
    },
    {
      "cell_type": "markdown",
      "metadata": {
        "id": "0OY0wdO4L3GY",
        "colab_type": "text"
      },
      "source": [
        " **6. Remove an specific element**"
      ]
    },
    {
      "cell_type": "code",
      "metadata": {
        "id": "goqmndeTMUK5",
        "colab_type": "code",
        "outputId": "c99eaa1f-4e94-413a-f130-a234464fa62b",
        "colab": {
          "base_uri": "https://localhost:8080/",
          "height": 34
        }
      },
      "source": [
        "list.remove(7)\n",
        "print(list)"
      ],
      "execution_count": 0,
      "outputs": [
        {
          "output_type": "stream",
          "text": [
            "[1, 2, 4, 8]\n"
          ],
          "name": "stdout"
        }
      ]
    },
    {
      "cell_type": "markdown",
      "metadata": {
        "id": "w4DfsWxYN2_v",
        "colab_type": "text"
      },
      "source": [
        "**7. split operation**\n",
        "To split a  string we use .split() function"
      ]
    },
    {
      "cell_type": "code",
      "metadata": {
        "id": "sz_EjSxlOg6A",
        "colab_type": "code",
        "outputId": "73e8275e-446c-4485-d260-5d2f9e08b7d0",
        "colab": {
          "base_uri": "https://localhost:8080/",
          "height": 34
        }
      },
      "source": [
        "s = 'Rjit<Navigators'\n",
        "s.split('<')\n"
      ],
      "execution_count": 0,
      "outputs": [
        {
          "output_type": "execute_result",
          "data": {
            "text/plain": [
              "['Rjit', 'Navigators']"
            ]
          },
          "metadata": {
            "tags": []
          },
          "execution_count": 29
        }
      ]
    },
    {
      "cell_type": "markdown",
      "metadata": {
        "id": "Teegu2c0PC6u",
        "colab_type": "text"
      },
      "source": [
        "**`8. Join operation`**\n",
        "Use .join() to convert a list to string"
      ]
    },
    {
      "cell_type": "code",
      "metadata": {
        "id": "AszDaL2YPIjX",
        "colab_type": "code",
        "outputId": "c72d3001-8663-4b9a-dee4-361e1033b72a",
        "colab": {
          "base_uri": "https://localhost:8080/",
          "height": 34
        }
      },
      "source": [
        "list= ['N', 'A', 'V', 'I', 'G', 'A', 'T', 'O', 'R']\n",
        "''.join(list)"
      ],
      "execution_count": 0,
      "outputs": [
        {
          "output_type": "execute_result",
          "data": {
            "text/plain": [
              "'NAVIGATOR'"
            ]
          },
          "metadata": {
            "tags": []
          },
          "execution_count": 30
        }
      ]
    },
    {
      "cell_type": "markdown",
      "metadata": {
        "id": "PFtUktB9P8uW",
        "colab_type": "text"
      },
      "source": [
        ""
      ]
    },
    {
      "cell_type": "code",
      "metadata": {
        "id": "B5QE0b-4PqOm",
        "colab_type": "code",
        "outputId": "88dd760b-c3cb-4835-ed41-4bc1548a7b8d",
        "colab": {
          "base_uri": "https://localhost:8080/",
          "height": 34
        }
      },
      "source": [
        "'_'.join(list)"
      ],
      "execution_count": 0,
      "outputs": [
        {
          "output_type": "execute_result",
          "data": {
            "text/plain": [
              "'N_A_V_I_G_A_T_O_R'"
            ]
          },
          "metadata": {
            "tags": []
          },
          "execution_count": 32
        }
      ]
    },
    {
      "cell_type": "markdown",
      "metadata": {
        "id": "CD2cSE0uP8s-",
        "colab_type": "text"
      },
      "source": [
        "**9. Insertion operation**"
      ]
    },
    {
      "cell_type": "code",
      "metadata": {
        "id": "nmyKL2mzQJJ8",
        "colab_type": "code",
        "outputId": "cbd1d211-e4dd-447a-e9cb-9f3490b857c8",
        "colab": {
          "base_uri": "https://localhost:8080/",
          "height": 50
        }
      },
      "source": [
        "List = ['Apple', 'Banana', 'Mango']\n",
        "List.insert(1,'Grapes')\n",
        "print(List)"
      ],
      "execution_count": 0,
      "outputs": [
        {
          "output_type": "stream",
          "text": [
            "['Apple', 'Grapes', 'Banana', 'Mango']\n",
            "None\n"
          ],
          "name": "stdout"
        }
      ]
    },
    {
      "cell_type": "markdown",
      "metadata": {
        "id": "CyjDDKxXRbWd",
        "colab_type": "text"
      },
      "source": [
        "**10. Clear operartion**"
      ]
    },
    {
      "cell_type": "code",
      "metadata": {
        "id": "8XPD82N0RgsD",
        "colab_type": "code",
        "outputId": "3d781008-55b3-43e8-fb6f-d0bf32cfe577",
        "colab": {
          "base_uri": "https://localhost:8080/",
          "height": 34
        }
      },
      "source": [
        "List.clear()\n",
        "print(List)"
      ],
      "execution_count": 0,
      "outputs": [
        {
          "output_type": "stream",
          "text": [
            "[]\n"
          ],
          "name": "stdout"
        }
      ]
    },
    {
      "cell_type": "markdown",
      "metadata": {
        "id": "y_fQYIIHRsAF",
        "colab_type": "text"
      },
      "source": [
        "# Python Dictionary\n",
        "\n",
        "> A dictionary is a collection which is unordered, changeable and indexed. In Python dictionaries are written with curly brackets, and they have keys and values.\n",
        "A python dictionary stores two pairs of data.\n",
        "* Key\n",
        "* Value\n",
        "\n"
      ]
    },
    {
      "cell_type": "code",
      "metadata": {
        "id": "efVQuv7SRwme",
        "colab_type": "code",
        "outputId": "2c3a80a8-3243-4d59-9faf-df6257b9d0ac",
        "colab": {
          "base_uri": "https://localhost:8080/",
          "height": 35
        }
      },
      "source": [
        "thisdict =\t{\"brand\": \"Ford\", \"model\": \"Mustang\", \"year\": 1964}\n",
        "print(thisdict)\n"
      ],
      "execution_count": 0,
      "outputs": [
        {
          "output_type": "stream",
          "text": [
            "{'brand': 'Ford', 'model': 'Mustang', 'year': 1964}\n"
          ],
          "name": "stdout"
        }
      ]
    },
    {
      "cell_type": "code",
      "metadata": {
        "id": "kWVLnhu46xSs",
        "colab_type": "code",
        "outputId": "57e4a175-d067-4f62-a766-041e6548e104",
        "colab": {
          "base_uri": "https://localhost:8080/",
          "height": 35
        }
      },
      "source": [
        "list = [10, 20,30,40,50]\n",
        "print(list[::-1])"
      ],
      "execution_count": 0,
      "outputs": [
        {
          "output_type": "stream",
          "text": [
            "[50, 40, 30, 20, 10]\n"
          ],
          "name": "stdout"
        }
      ]
    },
    {
      "cell_type": "code",
      "metadata": {
        "id": "E6hISmhahMDG",
        "colab_type": "code",
        "outputId": "6c85f67b-0025-48f5-eb53-15fa0a993332",
        "colab": {
          "base_uri": "https://localhost:8080/",
          "height": 34
        }
      },
      "source": [
        "thisdict.keys()   # Return all the keys"
      ],
      "execution_count": 0,
      "outputs": [
        {
          "output_type": "execute_result",
          "data": {
            "text/plain": [
              "dict_keys(['brand', 'model', 'year'])"
            ]
          },
          "metadata": {
            "tags": []
          },
          "execution_count": 3
        }
      ]
    },
    {
      "cell_type": "code",
      "metadata": {
        "id": "7SjJmTCvhWD6",
        "colab_type": "code",
        "outputId": "639d53c4-a559-4726-dc39-332a3af162d7",
        "colab": {
          "base_uri": "https://localhost:8080/",
          "height": 34
        }
      },
      "source": [
        "thisdict.values()# Return the values"
      ],
      "execution_count": 0,
      "outputs": [
        {
          "output_type": "execute_result",
          "data": {
            "text/plain": [
              "dict_values(['Ford', 'Mustang', 1964])"
            ]
          },
          "metadata": {
            "tags": []
          },
          "execution_count": 4
        }
      ]
    },
    {
      "cell_type": "code",
      "metadata": {
        "id": "Wz7DjJGGhb58",
        "colab_type": "code",
        "outputId": "d50db257-d461-41ce-e8cb-7e7281bebf09",
        "colab": {
          "base_uri": "https://localhost:8080/",
          "height": 34
        }
      },
      "source": [
        "thisdict.items() # return the keys and values associated with it"
      ],
      "execution_count": 0,
      "outputs": [
        {
          "output_type": "execute_result",
          "data": {
            "text/plain": [
              "dict_items([('brand', 'Ford'), ('model', 'Mustang'), ('year', 1964)])"
            ]
          },
          "metadata": {
            "tags": []
          },
          "execution_count": 6
        }
      ]
    },
    {
      "cell_type": "markdown",
      "metadata": {
        "id": "VLyy_3dYhlT6",
        "colab_type": "text"
      },
      "source": [
        "## Dictionary operations"
      ]
    },
    {
      "cell_type": "markdown",
      "metadata": {
        "id": "g6w8IsBnhrwR",
        "colab_type": "text"
      },
      "source": [
        "**1. Accessing an entry**"
      ]
    },
    {
      "cell_type": "code",
      "metadata": {
        "id": "3gHlptzZhqi7",
        "colab_type": "code",
        "outputId": "a3ac6c99-39d2-458a-c010-0932fc4c8cbe",
        "colab": {
          "base_uri": "https://localhost:8080/",
          "height": 34
        }
      },
      "source": [
        "thisdict['brand']"
      ],
      "execution_count": 0,
      "outputs": [
        {
          "output_type": "execute_result",
          "data": {
            "text/plain": [
              "'Ford'"
            ]
          },
          "metadata": {
            "tags": []
          },
          "execution_count": 41
        }
      ]
    },
    {
      "cell_type": "code",
      "metadata": {
        "id": "JwV7FvfXiCtm",
        "colab_type": "code",
        "outputId": "dfdcb567-6210-468d-ff67-392b7d2642d7",
        "colab": {
          "base_uri": "https://localhost:8080/",
          "height": 34
        }
      },
      "source": [
        "thisdict['model']"
      ],
      "execution_count": 0,
      "outputs": [
        {
          "output_type": "execute_result",
          "data": {
            "text/plain": [
              "'Mustang'"
            ]
          },
          "metadata": {
            "tags": []
          },
          "execution_count": 42
        }
      ]
    },
    {
      "cell_type": "markdown",
      "metadata": {
        "id": "6J85JANCiLRK",
        "colab_type": "text"
      },
      "source": [
        "**2. Adding an entry**"
      ]
    },
    {
      "cell_type": "code",
      "metadata": {
        "id": "9KbEt66FiPUS",
        "colab_type": "code",
        "outputId": "13bd6057-48a3-45b5-eb41-b247a168aee4",
        "colab": {
          "base_uri": "https://localhost:8080/",
          "height": 34
        }
      },
      "source": [
        "my_dict = {'Name': 'Brajkisore', 'Branch':'IT', 'Sem':'5th', 'Year': '3rd'}\n",
        "print(my_dict)"
      ],
      "execution_count": 0,
      "outputs": [
        {
          "output_type": "stream",
          "text": [
            "{'Name': 'Brajkisore', 'Branch': 'IT', 'Sem': '5th', 'Year': '3rd'}\n"
          ],
          "name": "stdout"
        }
      ]
    },
    {
      "cell_type": "code",
      "metadata": {
        "id": "QmWsQZvSiqWe",
        "colab_type": "code",
        "outputId": "ce8d3cd8-43ff-4e24-9d5b-f6c172856397",
        "colab": {
          "base_uri": "https://localhost:8080/",
          "height": 34
        }
      },
      "source": [
        "my_dict['Roll no'] = '0902IT171017'\n",
        "print(my_dict)"
      ],
      "execution_count": 0,
      "outputs": [
        {
          "output_type": "stream",
          "text": [
            "{'Name': 'Brajkisore', 'Branch': 'IT', 'Sem': '5th', 'Year': '3rd', 'Roll no': '0902IT171017'}\n"
          ],
          "name": "stdout"
        }
      ]
    },
    {
      "cell_type": "markdown",
      "metadata": {
        "id": "u1SYNTA7i-m_",
        "colab_type": "text"
      },
      "source": [
        "**3. Changing Values**"
      ]
    },
    {
      "cell_type": "code",
      "metadata": {
        "id": "-nNXOXSfjNe3",
        "colab_type": "code",
        "outputId": "759eacdc-a1c5-478a-a964-b2bfb5f3262a",
        "colab": {
          "base_uri": "https://localhost:8080/",
          "height": 34
        }
      },
      "source": [
        "my_dict['Year'] = '4th'\n",
        "print(my_dict)"
      ],
      "execution_count": 0,
      "outputs": [
        {
          "output_type": "stream",
          "text": [
            "{'Name': 'Brajkisore', 'Branch': 'IT', 'Sem': '5th', 'Year': '4th', 'Roll no': '0902IT171017'}\n"
          ],
          "name": "stdout"
        }
      ]
    },
    {
      "cell_type": "markdown",
      "metadata": {
        "id": "aEkUUk5QjbAY",
        "colab_type": "text"
      },
      "source": [
        "**4. Deleting an entry**\n"
      ]
    },
    {
      "cell_type": "code",
      "metadata": {
        "id": "x4_cYCHQjgZs",
        "colab_type": "code",
        "outputId": "449cdedd-1465-4bc1-e82f-8e987742248c",
        "colab": {
          "base_uri": "https://localhost:8080/",
          "height": 50
        }
      },
      "source": [
        "dict = {1:'Brajkishore', 2:'Adarsh', 3:'Aarif', 4:'Rajan'}\n",
        "print(dict)\n",
        "del(dict[2])\n",
        "print(dict)"
      ],
      "execution_count": 0,
      "outputs": [
        {
          "output_type": "stream",
          "text": [
            "{1: 'Brajkishore', 2: 'Adarsh', 3: 'Aarif', 4: 'Rajan'}\n",
            "{1: 'Brajkishore', 3: 'Aarif', 4: 'Rajan'}\n"
          ],
          "name": "stdout"
        }
      ]
    },
    {
      "cell_type": "code",
      "metadata": {
        "id": "muNCbwNFAK4_",
        "colab_type": "code",
        "outputId": "2f7a3bef-780e-4bd2-a403-c56892232118",
        "colab": {
          "base_uri": "https://localhost:8080/",
          "height": 34
        }
      },
      "source": [
        "# pop() method is used to delete an entry of the specifeid key name.\n",
        "dict = {1:'Brajkishore', 2:'Adarsh', 3:'Aarif', 4:'Rajan'}\n",
        "dict.pop(2)\n",
        "print(dict)"
      ],
      "execution_count": 0,
      "outputs": [
        {
          "output_type": "stream",
          "text": [
            "{1: 'Brajkishore', 3: 'Aarif', 4: 'Rajan'}\n"
          ],
          "name": "stdout"
        }
      ]
    },
    {
      "cell_type": "code",
      "metadata": {
        "id": "JY8O771NBF2o",
        "colab_type": "code",
        "outputId": "58886824-e583-45b8-adb1-02a6ec1eef16",
        "colab": {
          "base_uri": "https://localhost:8080/",
          "height": 50
        }
      },
      "source": [
        "thisdict =\t{\"brand\": \"Ford\", \"model\": \"Mustang\", \"year\": 1964}\n",
        "print(thisdict)\n",
        "del(thisdict['model'])\n",
        "print(thisdict)"
      ],
      "execution_count": 0,
      "outputs": [
        {
          "output_type": "stream",
          "text": [
            "{'brand': 'Ford', 'model': 'Mustang', 'year': 1964}\n",
            "{'brand': 'Ford', 'year': 1964}\n"
          ],
          "name": "stdout"
        }
      ]
    },
    {
      "cell_type": "markdown",
      "metadata": {
        "id": "Q8GihMrZJyZT",
        "colab_type": "text"
      },
      "source": [
        "**5. Iterating through a dictionary**"
      ]
    },
    {
      "cell_type": "code",
      "metadata": {
        "id": "SIQzwrVWJ-6B",
        "colab_type": "code",
        "outputId": "00ca2d32-b3fc-4012-fec4-03550c5d0264",
        "colab": {
          "base_uri": "https://localhost:8080/",
          "height": 151
        }
      },
      "source": [
        "my_dict = {'Name': 'Brajkishore', 'Branch':'Information Technology','Year':'3rd','Sem':'5th'}\n",
        "for x in my_dict:\n",
        "  print(x)\n",
        "  print(my_dict[x])"
      ],
      "execution_count": 0,
      "outputs": [
        {
          "output_type": "stream",
          "text": [
            "Name\n",
            "Brajkishore\n",
            "Branch\n",
            "Information Technology\n",
            "Year\n",
            "3rd\n",
            "Sem\n",
            "5th\n"
          ],
          "name": "stdout"
        }
      ]
    },
    {
      "cell_type": "code",
      "metadata": {
        "id": "r-8WTr2AK3cB",
        "colab_type": "code",
        "outputId": "a09750b3-229e-443d-f519-7b972348d5b4",
        "colab": {
          "base_uri": "https://localhost:8080/",
          "height": 84
        }
      },
      "source": [
        "for x in my_dict.keys():\n",
        "  print(x)"
      ],
      "execution_count": 0,
      "outputs": [
        {
          "output_type": "stream",
          "text": [
            "Name\n",
            "Branch\n",
            "Year\n",
            "Sem\n"
          ],
          "name": "stdout"
        }
      ]
    },
    {
      "cell_type": "code",
      "metadata": {
        "id": "hu77VQnCKrDd",
        "colab_type": "code",
        "outputId": "b5915d29-4a9c-4615-88cd-0b1c69e0141f",
        "colab": {
          "base_uri": "https://localhost:8080/",
          "height": 84
        }
      },
      "source": [
        "for x in my_dict.values():\n",
        "  print(x)"
      ],
      "execution_count": 0,
      "outputs": [
        {
          "output_type": "stream",
          "text": [
            "Brajkishore\n",
            "Information Technology\n",
            "3rd\n",
            "5th\n"
          ],
          "name": "stdout"
        }
      ]
    },
    {
      "cell_type": "code",
      "metadata": {
        "id": "BzuR8TZMK-77",
        "colab_type": "code",
        "outputId": "b1825676-c61c-4cb9-d967-e23d77b6c4e5",
        "colab": {
          "base_uri": "https://localhost:8080/",
          "height": 84
        }
      },
      "source": [
        "for x,y in my_dict.items():\n",
        "  print(x,y)"
      ],
      "execution_count": 0,
      "outputs": [
        {
          "output_type": "stream",
          "text": [
            "Name Brajkishore\n",
            "Branch Information Technology\n",
            "Year 3rd\n",
            "Sem 5th\n"
          ],
          "name": "stdout"
        }
      ]
    }
  ]
}