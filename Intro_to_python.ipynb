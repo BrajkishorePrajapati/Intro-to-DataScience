{
  "nbformat": 4,
  "nbformat_minor": 0,
  "metadata": {
    "colab": {
      "name": "Intro_to_python.ipynb",
      "provenance": [],
      "collapsed_sections": [
        "XVB-L2HF3K2i",
        "FJZ1BCDW2dW7"
      ]
    },
    "kernelspec": {
      "name": "python3",
      "display_name": "Python 3"
    }
  },
  "cells": [
    {
      "cell_type": "markdown",
      "metadata": {
        "id": "dW9OQsmopAh8",
        "colab_type": "text"
      },
      "source": [
        "# Introduction to PYthon"
      ]
    },
    {
      "cell_type": "code",
      "metadata": {
        "id": "sqmwSt7_JYih",
        "colab_type": "code",
        "outputId": "4a1c2849-540e-4b94-a451-8347139e4467",
        "colab": {
          "base_uri": "https://localhost:8080/",
          "height": 34
        }
      },
      "source": [
        "print('Rjit Navigators')"
      ],
      "execution_count": 0,
      "outputs": [
        {
          "output_type": "stream",
          "text": [
            "Rjit Navigators\n"
          ],
          "name": "stdout"
        }
      ]
    },
    {
      "cell_type": "markdown",
      "metadata": {
        "id": "UQ86qt2SlvOY",
        "colab_type": "text"
      },
      "source": [
        "## Python Variables"
      ]
    },
    {
      "cell_type": "code",
      "metadata": {
        "id": "oHEv-LGKCgWo",
        "colab_type": "code",
        "outputId": "4b8e7a77-ef47-4ef7-bb9a-6053153c3903",
        "colab": {
          "base_uri": "https://localhost:8080/",
          "height": 34
        }
      },
      "source": [
        "number = 8\n",
        "print(number)"
      ],
      "execution_count": 0,
      "outputs": [
        {
          "output_type": "stream",
          "text": [
            "8\n"
          ],
          "name": "stdout"
        }
      ]
    },
    {
      "cell_type": "code",
      "metadata": {
        "id": "hq9o5ER5l7Fl",
        "colab_type": "code",
        "outputId": "1c4741ed-2046-41c1-b53b-642c28440c75",
        "colab": {
          "base_uri": "https://localhost:8080/",
          "height": 34
        }
      },
      "source": [
        "#Assigning a value to a Variable in Python\n",
        "website = \"Rustamji Institute of Technology\"\n",
        "print(website)"
      ],
      "execution_count": 0,
      "outputs": [
        {
          "output_type": "stream",
          "text": [
            "Rustamji Institute of Technology\n"
          ],
          "name": "stdout"
        }
      ]
    },
    {
      "cell_type": "code",
      "metadata": {
        "id": "RAy_S-TcmfTd",
        "colab_type": "code",
        "outputId": "69d31c8f-01f4-4734-8207-9067a72014bc",
        "colab": {
          "base_uri": "https://localhost:8080/",
          "height": 50
        }
      },
      "source": [
        "#  Changing the value of a variable\n",
        "website = \"Rustamji Institute of Technology\"\n",
        "print(website)\n",
        "\n",
        "# assigning a new variable to website\n",
        "website = \"Department of Information Technology\"\n",
        "\n",
        "print(website)"
      ],
      "execution_count": 0,
      "outputs": [
        {
          "output_type": "stream",
          "text": [
            "Rustamji Institute of Technology\n",
            "Department of Information Technology\n"
          ],
          "name": "stdout"
        }
      ]
    },
    {
      "cell_type": "markdown",
      "metadata": {
        "id": "GWo9c7mRnzB3",
        "colab_type": "text"
      },
      "source": [
        "## Constants"
      ]
    },
    {
      "cell_type": "code",
      "metadata": {
        "id": "SMOskBSOn123",
        "colab_type": "code",
        "outputId": "ec8c5e43-edc8-48c1-b3d0-8c1a3690cfe1",
        "colab": {
          "base_uri": "https://localhost:8080/",
          "height": 50
        }
      },
      "source": [
        "PI=3.14\n",
        "GRAVITY = 9.8\n",
        "print(PI)\n",
        "print(GRAVITY)"
      ],
      "execution_count": 0,
      "outputs": [
        {
          "output_type": "stream",
          "text": [
            "3.14\n",
            "9.8\n"
          ],
          "name": "stdout"
        }
      ]
    },
    {
      "cell_type": "code",
      "metadata": {
        "id": "Vcciq_RhJsCc",
        "colab_type": "code",
        "outputId": "4b443bd8-de31-4e9a-c9eb-4eabf8907585",
        "colab": {
          "base_uri": "https://localhost:8080/",
          "height": 136
        }
      },
      "source": [
        "i = 3.2\n",
        "j = 2\n",
        "print(i+j)\n",
        "print(i-j)\n",
        "print(i*j)\n",
        "print(i/j)\n",
        "print(i//j)\n",
        "print(i%j)\n",
        "print(i**j)"
      ],
      "execution_count": 0,
      "outputs": [
        {
          "output_type": "stream",
          "text": [
            "5.2\n",
            "1.2000000000000002\n",
            "6.4\n",
            "1.6\n",
            "1.0\n",
            "1.2000000000000002\n",
            "10.240000000000002\n"
          ],
          "name": "stdout"
        }
      ]
    },
    {
      "cell_type": "code",
      "metadata": {
        "id": "hvJ9ocZMDOqW",
        "colab_type": "code",
        "colab": {}
      },
      "source": [
        ""
      ],
      "execution_count": 0,
      "outputs": []
    },
    {
      "cell_type": "code",
      "metadata": {
        "id": "bOkH-vHEK-pq",
        "colab_type": "code",
        "outputId": "3368bebe-3010-43f5-95ff-90a0f12b51df",
        "colab": {
          "base_uri": "https://localhost:8080/",
          "height": 67
        }
      },
      "source": [
        "x =34\n",
        "y =72.89\n",
        "z =2+3j\n",
        "print(type(x))\n",
        "print(type(y))\n",
        "print(type(z))"
      ],
      "execution_count": 0,
      "outputs": [
        {
          "output_type": "stream",
          "text": [
            "<class 'int'>\n",
            "<class 'float'>\n",
            "<class 'complex'>\n"
          ],
          "name": "stdout"
        }
      ]
    },
    {
      "cell_type": "code",
      "metadata": {
        "id": "QnCYWp9-L76V",
        "colab_type": "code",
        "outputId": "a04ba0a7-4e86-4569-b640-6f296c7a1892",
        "colab": {
          "base_uri": "https://localhost:8080/",
          "height": 51
        }
      },
      "source": [
        "x = 'Rustamji'\n",
        "y = 'Institute'\n",
        "print(x)\n",
        "print(y)"
      ],
      "execution_count": 0,
      "outputs": [
        {
          "output_type": "stream",
          "text": [
            "Rustamji\n",
            "Institute\n"
          ],
          "name": "stdout"
        }
      ]
    },
    {
      "cell_type": "code",
      "metadata": {
        "id": "FDFH4cqHOVJK",
        "colab_type": "code",
        "outputId": "a2bacdb8-343c-4f52-8690-e7797e36f490",
        "colab": {
          "base_uri": "https://localhost:8080/",
          "height": 50
        }
      },
      "source": [
        "x= int(2.4)\n",
        "y= int('4')\n",
        "print(x)\n",
        "print(y)"
      ],
      "execution_count": 0,
      "outputs": [
        {
          "output_type": "stream",
          "text": [
            "2\n",
            "4\n"
          ],
          "name": "stdout"
        }
      ]
    },
    {
      "cell_type": "code",
      "metadata": {
        "id": "Zqs-F2DOO35n",
        "colab_type": "code",
        "outputId": "735929c8-2737-4d81-9ca3-7046c88b61a9",
        "colab": {
          "base_uri": "https://localhost:8080/",
          "height": 50
        }
      },
      "source": [
        "a = float(23)\n",
        "b = float('12')\n",
        "print(a)\n",
        "print(b)"
      ],
      "execution_count": 0,
      "outputs": [
        {
          "output_type": "stream",
          "text": [
            "23.0\n",
            "12.0\n"
          ],
          "name": "stdout"
        }
      ]
    },
    {
      "cell_type": "code",
      "metadata": {
        "id": "lYiwGuM9PaAl",
        "colab_type": "code",
        "outputId": "bcf0f6e6-2e5d-4215-9b89-0522392d940d",
        "colab": {
          "base_uri": "https://localhost:8080/",
          "height": 50
        }
      },
      "source": [
        "Rustam = str(14)\n",
        "Salty = str(19.0)\n",
        "print(Rustam)\n",
        "print(Salty)"
      ],
      "execution_count": 0,
      "outputs": [
        {
          "output_type": "stream",
          "text": [
            "14\n",
            "19.0\n"
          ],
          "name": "stdout"
        }
      ]
    },
    {
      "cell_type": "markdown",
      "metadata": {
        "id": "AgGoNT4tSu2r",
        "colab_type": "text"
      },
      "source": [
        "# Type Conversion\n",
        "### Implicit Type Conversion"
      ]
    },
    {
      "cell_type": "code",
      "metadata": {
        "id": "C7TZdDbKtyGw",
        "colab_type": "code",
        "outputId": "e66b5470-eb90-4855-c32d-02a91a3708b1",
        "colab": {
          "base_uri": "https://localhost:8080/",
          "height": 84
        }
      },
      "source": [
        "num_int = 123\n",
        "num_flo = 1.23\n",
        "\n",
        "num_new = num_int + num_flo\n",
        "\n",
        "print(\"datatype of num_int:\",type(num_int))\n",
        "print(\"datatype of num_flo:\",type(num_flo))\n",
        "\n",
        "print(\"Value of num_new:\",num_new)\n",
        "print(\"datatype of num_new:\",type(num_new))"
      ],
      "execution_count": 0,
      "outputs": [
        {
          "output_type": "stream",
          "text": [
            "datatype of num_int: <class 'int'>\n",
            "datatype of num_flo: <class 'float'>\n",
            "Value of num_new: 124.23\n",
            "datatype of num_new: <class 'float'>\n"
          ],
          "name": "stdout"
        }
      ]
    },
    {
      "cell_type": "markdown",
      "metadata": {
        "id": "6cdPTn6It7Sf",
        "colab_type": "text"
      },
      "source": [
        "### Explicit Type Conversion"
      ]
    },
    {
      "cell_type": "code",
      "metadata": {
        "id": "zCpuv1B6t3cv",
        "colab_type": "code",
        "colab": {}
      },
      "source": [
        "a = float(23)\n",
        "b = float('12')\n",
        "print(a)\n",
        "print(b)"
      ],
      "execution_count": 0,
      "outputs": []
    },
    {
      "cell_type": "code",
      "metadata": {
        "id": "Jskxa6fyt3a2",
        "colab_type": "code",
        "colab": {}
      },
      "source": [
        "num_int = 123\n",
        "num_str = \"456\"\n",
        "\n",
        "print(\"Data type of num_int:\",type(num_int))\n",
        "print(\"Data type of num_str before Type Casting:\",type(num_str))\n",
        "\n",
        "num_str = int(num_str)\n",
        "print(\"Data type of num_str after Type Casting:\",type(num_str))\n",
        "\n",
        "num_sum = num_int + num_str\n",
        "\n",
        "print(\"Sum of num_int and num_str:\",num_sum)\n",
        "print(\"Data type of the sum:\",type(num_sum))"
      ],
      "execution_count": 0,
      "outputs": []
    },
    {
      "cell_type": "markdown",
      "metadata": {
        "id": "h3bIWy2J2dZ7",
        "colab_type": "text"
      },
      "source": [
        "### Python *output*\n",
        "print(*objects, sep=' ', end='\\n', file=sys.stdout, flush=False)\n"
      ]
    },
    {
      "cell_type": "code",
      "metadata": {
        "id": "rY954Z9s2hQV",
        "colab_type": "code",
        "outputId": "511648a9-08ae-4284-e37c-d98f3507e3d4",
        "colab": {
          "base_uri": "https://localhost:8080/",
          "height": 67
        }
      },
      "source": [
        "print(1,2,3,4)\n",
        "# Output: 1 2 3 4\n",
        "\n",
        "print(1,2,3,4,sep='*')\n",
        "# Output: 1*2*3*4\n",
        "\n",
        "print(1,2,3,4,sep='#',end='&')\n",
        "# Output: 1#2#3#4&"
      ],
      "execution_count": 0,
      "outputs": [
        {
          "output_type": "stream",
          "text": [
            "1 2 3 4\n",
            "1*2*3*4\n",
            "1#2#3#4&"
          ],
          "name": "stdout"
        }
      ]
    },
    {
      "cell_type": "markdown",
      "metadata": {
        "id": "XVB-L2HF3K2i",
        "colab_type": "text"
      },
      "source": [
        "## Output Formatting"
      ]
    },
    {
      "cell_type": "code",
      "metadata": {
        "id": "UkthP6-n3XtS",
        "colab_type": "code",
        "outputId": "2318526d-53fc-4781-becf-784d6fbcfcbf",
        "colab": {
          "base_uri": "https://localhost:8080/",
          "height": 34
        }
      },
      "source": [
        "x = 5; y = 10\n",
        "print('The value of x is {} and y is {}'.format(x,y))"
      ],
      "execution_count": 0,
      "outputs": [
        {
          "output_type": "stream",
          "text": [
            "The value of x is 5 and y is 10\n"
          ],
          "name": "stdout"
        }
      ]
    },
    {
      "cell_type": "code",
      "metadata": {
        "id": "z7zH6fEH3Qrx",
        "colab_type": "code",
        "outputId": "665cbb3c-95c2-4000-bcbb-e32dd4313b01",
        "colab": {
          "base_uri": "https://localhost:8080/",
          "height": 50
        }
      },
      "source": [
        "print('I love {0} and {1}'.format('bread','butter'))\n",
        "# Output: I love bread and butter\n",
        "\n",
        "print('I love {1} and {0}'.format('bread','butter'))\n",
        "# Output: I love butter and bread"
      ],
      "execution_count": 0,
      "outputs": [
        {
          "output_type": "stream",
          "text": [
            "I love bread and butter\n",
            "I love butter and bread\n"
          ],
          "name": "stdout"
        }
      ]
    },
    {
      "cell_type": "markdown",
      "metadata": {
        "id": "FJZ1BCDW2dW7",
        "colab_type": "text"
      },
      "source": [
        "## Input"
      ]
    },
    {
      "cell_type": "code",
      "metadata": {
        "id": "2zWQqcX24vvu",
        "colab_type": "code",
        "outputId": "00324501-119b-4372-9e01-9885865348f9",
        "colab": {
          "base_uri": "https://localhost:8080/",
          "height": 50
        }
      },
      "source": [
        "num = input('Enter a number: ')\n",
        "print(num)\n"
      ],
      "execution_count": 0,
      "outputs": [
        {
          "output_type": "stream",
          "text": [
            "Enter a number: 5\n",
            "5\n"
          ],
          "name": "stdout"
        }
      ]
    },
    {
      "cell_type": "code",
      "metadata": {
        "id": "Rd6Ahb4Y4vtX",
        "colab_type": "code",
        "colab": {}
      },
      "source": [
        ""
      ],
      "execution_count": 0,
      "outputs": []
    },
    {
      "cell_type": "markdown",
      "metadata": {
        "id": "PCl-khAVRhD1",
        "colab_type": "text"
      },
      "source": [
        "# **`**STRING OPERATIONS**`**\n"
      ]
    },
    {
      "cell_type": "code",
      "metadata": {
        "id": "CSP-yswMR5sL",
        "colab_type": "code",
        "colab": {}
      },
      "source": [
        "str = 'Rjit Navigators'\n",
        "print(str[0])\n",
        "print(str[4])"
      ],
      "execution_count": 0,
      "outputs": []
    },
    {
      "cell_type": "markdown",
      "metadata": {
        "id": "RlvObwj-SxHf",
        "colab_type": "text"
      },
      "source": [
        "**len() method returns the length of a string**\n",
        "The lower() method returns the string in lower case**:**\n",
        "The upper() method returns the string in upper case: **bold text**"
      ]
    },
    {
      "cell_type": "code",
      "metadata": {
        "id": "9zJW4fqiTFNE",
        "colab_type": "code",
        "outputId": "e3a97f9b-3f7f-441d-ab84-1aafd171efb9",
        "colab": {
          "base_uri": "https://localhost:8080/",
          "height": 67
        }
      },
      "source": [
        "str1 = 'Rjit Navigators'\n",
        "print(len(str1))\n",
        "print(str1.lower())\n",
        "print(str1.upper())\n"
      ],
      "execution_count": 0,
      "outputs": [
        {
          "output_type": "stream",
          "text": [
            "15\n",
            "rjit navigators\n",
            "RJIT NAVIGATORS\n"
          ],
          "name": "stdout"
        }
      ]
    },
    {
      "cell_type": "markdown",
      "metadata": {
        "id": "pvJnJlwSUjdA",
        "colab_type": "text"
      },
      "source": [
        "**replace() method replaces the string with another string**"
      ]
    },
    {
      "cell_type": "markdown",
      "metadata": {
        "id": "o_LckEU9U5wt",
        "colab_type": "text"
      },
      "source": [
        ""
      ]
    },
    {
      "cell_type": "code",
      "metadata": {
        "id": "yXokMRL2U9HQ",
        "colab_type": "code",
        "outputId": "073dd32c-c859-47e9-93b6-8a3233adf3b2",
        "colab": {
          "base_uri": "https://localhost:8080/",
          "height": 34
        }
      },
      "source": [
        "print(str1.replace('R', 'P'))"
      ],
      "execution_count": 0,
      "outputs": [
        {
          "output_type": "stream",
          "text": [
            "Pjit Navigators\n"
          ],
          "name": "stdout"
        }
      ]
    },
    {
      "cell_type": "markdown",
      "metadata": {
        "id": "1hDDRt4CVZzC",
        "colab_type": "text"
      },
      "source": [
        "**The split() method splits the string into substrings if it finds instances of the separator:**"
      ]
    },
    {
      "cell_type": "code",
      "metadata": {
        "id": "PhvDj0PmVc6H",
        "colab_type": "code",
        "outputId": "bd427134-7b2e-4bee-91dc-597a9740aee0",
        "colab": {
          "base_uri": "https://localhost:8080/",
          "height": 35
        }
      },
      "source": [
        "str2 = 'Rjit < Navigators'\n",
        "print(str2.split('<'))"
      ],
      "execution_count": 0,
      "outputs": [
        {
          "output_type": "stream",
          "text": [
            "['Rjit ', ' Navigators']\n"
          ],
          "name": "stdout"
        }
      ]
    },
    {
      "cell_type": "markdown",
      "metadata": {
        "id": "eO2ZY0ZbpPSv",
        "colab_type": "text"
      },
      "source": [
        "# Control Flow"
      ]
    },
    {
      "cell_type": "markdown",
      "metadata": {
        "id": "dbkrcnxJtj2R",
        "colab_type": "text"
      },
      "source": [
        "## IF - ELSE Statements"
      ]
    },
    {
      "cell_type": "code",
      "metadata": {
        "id": "XTzfduuit4oE",
        "colab_type": "code",
        "outputId": "33ebef6e-5969-4698-f23a-dc66acbfd99b",
        "colab": {
          "base_uri": "https://localhost:8080/",
          "height": 35
        }
      },
      "source": [
        "a = 200\n",
        "b = 33\n",
        "if b > a:\n",
        "  print(\"\")\n",
        "elif a == b:\n",
        "  print(\"a and b are equal\")\n",
        "else:\n",
        "  print(\"a is greater than b\")"
      ],
      "execution_count": 0,
      "outputs": [
        {
          "output_type": "stream",
          "text": [
            "a is greater than b\n"
          ],
          "name": "stdout"
        }
      ]
    },
    {
      "cell_type": "code",
      "metadata": {
        "id": "k7j7LvbUvbbd",
        "colab_type": "code",
        "outputId": "caa3f42a-a3be-48cf-9d92-d6ec6be2b758",
        "colab": {
          "base_uri": "https://localhost:8080/",
          "height": 34
        }
      },
      "source": [
        "a = 33\n",
        "b = 200\n",
        "if b > a:\n",
        "  print(\"b is greater than a\")\n"
      ],
      "execution_count": 0,
      "outputs": [
        {
          "output_type": "stream",
          "text": [
            "b is greater than a\n"
          ],
          "name": "stdout"
        }
      ]
    },
    {
      "cell_type": "code",
      "metadata": {
        "id": "2W5E8vdNwBPc",
        "colab_type": "code",
        "outputId": "4a5d58c2-49d0-4e62-8a51-f793aaf28622",
        "colab": {
          "base_uri": "https://localhost:8080/",
          "height": 35
        }
      },
      "source": [
        "#If statement without indentation\n",
        "a = 33\n",
        "b = 200\n",
        "if b > a:\n",
        "   print(\"b is greater than a\") # you will get an error\n",
        "else\n"
      ],
      "execution_count": 0,
      "outputs": [
        {
          "output_type": "stream",
          "text": [
            "b is greater than a\n"
          ],
          "name": "stdout"
        }
      ]
    },
    {
      "cell_type": "markdown",
      "metadata": {
        "id": "r7fyJNv2Qa4i",
        "colab_type": "text"
      },
      "source": [
        "## *Question 1*"
      ]
    },
    {
      "cell_type": "code",
      "metadata": {
        "id": "zrTPjwFGQeDx",
        "colab_type": "code",
        "colab": {}
      },
      "source": [
        "temp = 120\n",
        "if temp > 85:\n",
        "   print(\"Hot\")\n",
        "elif temp > 100:\n",
        "   print(\"REALLY HOT!\")\n",
        "elif temp > 60:\n",
        "   print(\"Comfortable\") \n",
        "else:\n",
        "   print(\"Cold\")"
      ],
      "execution_count": 0,
      "outputs": []
    },
    {
      "cell_type": "code",
      "metadata": {
        "id": "_zgsv5YoRtkv",
        "colab_type": "code",
        "colab": {}
      },
      "source": [
        "num = 5\n",
        "if num > 2:\n",
        "    print(num)\n",
        "    num -= 1\n",
        "print(num)"
      ],
      "execution_count": 0,
      "outputs": []
    },
    {
      "cell_type": "code",
      "metadata": {
        "id": "tP9LxAu-Rtjj",
        "colab_type": "code",
        "colab": {}
      },
      "source": [
        ""
      ],
      "execution_count": 0,
      "outputs": []
    },
    {
      "cell_type": "code",
      "metadata": {
        "id": "as0qDCA9Rth4",
        "colab_type": "code",
        "colab": {}
      },
      "source": [
        ""
      ],
      "execution_count": 0,
      "outputs": []
    },
    {
      "cell_type": "markdown",
      "metadata": {
        "id": "BsEnhD43w7zd",
        "colab_type": "text"
      },
      "source": [
        "# While Loop"
      ]
    },
    {
      "cell_type": "code",
      "metadata": {
        "id": "dT5o5CArx-AE",
        "colab_type": "code",
        "outputId": "7223b2f5-1f19-4cf7-9ff2-6f153ec58d12",
        "colab": {
          "base_uri": "https://localhost:8080/",
          "height": 101
        }
      },
      "source": [
        "i = 1\n",
        "while i < 6:\n",
        "  print(i)\n",
        "  i += 1"
      ],
      "execution_count": 0,
      "outputs": [
        {
          "output_type": "stream",
          "text": [
            "1\n",
            "2\n",
            "3\n",
            "4\n",
            "5\n"
          ],
          "name": "stdout"
        }
      ]
    },
    {
      "cell_type": "code",
      "metadata": {
        "id": "WdN3FUzixA46",
        "colab_type": "code",
        "outputId": "77a16175-becd-44b7-cb0d-1939c2b46a3b",
        "colab": {
          "base_uri": "https://localhost:8080/",
          "height": 118
        }
      },
      "source": [
        "n = 10\n",
        "while True:\n",
        "  if n<7:\n",
        "    print('Breaking out of loop')\n",
        "    break\n",
        "  print(n)\n",
        "  n-= 1\n",
        "print('Outside of loop')"
      ],
      "execution_count": 0,
      "outputs": [
        {
          "output_type": "stream",
          "text": [
            "10\n",
            "9\n",
            "8\n",
            "7\n",
            "Breaking out of loop\n",
            "Outside of loop\n"
          ],
          "name": "stdout"
        }
      ]
    },
    {
      "cell_type": "markdown",
      "metadata": {
        "id": "U5PZ_1TbSwMQ",
        "colab_type": "text"
      },
      "source": [
        "## Question 2"
      ]
    },
    {
      "cell_type": "code",
      "metadata": {
        "id": "Wlwovgv7S0Ne",
        "colab_type": "code",
        "colab": {}
      },
      "source": [
        "num = 2\n",
        "while num <= 10:\n",
        "    print(num)\n",
        "    num += 2\n",
        "print(\"Goodbye!\")"
      ],
      "execution_count": 0,
      "outputs": []
    },
    {
      "cell_type": "markdown",
      "metadata": {
        "id": "cHMhaShizKdg",
        "colab_type": "text"
      },
      "source": [
        "## For loop"
      ]
    },
    {
      "cell_type": "code",
      "metadata": {
        "id": "O81PhYsIzOEL",
        "colab_type": "code",
        "outputId": "86c6cdd7-adb3-4543-8cf1-df9b4d1211c1",
        "colab": {
          "base_uri": "https://localhost:8080/",
          "height": 101
        }
      },
      "source": [
        "for n in range(5):\n",
        "  print(n)"
      ],
      "execution_count": 0,
      "outputs": [
        {
          "output_type": "stream",
          "text": [
            "0\n",
            "1\n",
            "2\n",
            "3\n",
            "4\n"
          ],
          "name": "stdout"
        }
      ]
    },
    {
      "cell_type": "code",
      "metadata": {
        "id": "HCY2Nc7_2bNx",
        "colab_type": "code",
        "colab": {}
      },
      "source": [
        "for n in range(5,8):\n",
        "  print(n)"
      ],
      "execution_count": 0,
      "outputs": []
    },
    {
      "cell_type": "markdown",
      "metadata": {
        "id": "RjJFcKeTKiLg",
        "colab_type": "text"
      },
      "source": [
        "### *Syntax for loop*\n"
      ]
    },
    {
      "cell_type": "code",
      "metadata": {
        "id": "J5Auf3X9zYKK",
        "colab_type": "code",
        "outputId": "00f6aec3-2b3c-44fa-db42-e006d0676ed3",
        "colab": {
          "base_uri": "https://localhost:8080/",
          "height": 34
        }
      },
      "source": [
        "sum = 0\n",
        "for i in range(5,11,2):\n",
        "  sum +=i\n",
        "print(sum)"
      ],
      "execution_count": 0,
      "outputs": [
        {
          "output_type": "stream",
          "text": [
            "21\n"
          ],
          "name": "stdout"
        }
      ]
    },
    {
      "cell_type": "markdown",
      "metadata": {
        "id": "TitnoV_e0UWG",
        "colab_type": "text"
      },
      "source": [
        "## Strings and loop"
      ]
    },
    {
      "cell_type": "code",
      "metadata": {
        "id": "vwD663vj0YA7",
        "colab_type": "code",
        "outputId": "43f77886-4535-469c-97ec-aa7dae27d2b5",
        "colab": {
          "base_uri": "https://localhost:8080/",
          "height": 84
        }
      },
      "source": [
        "string = 'Rjit Navigators'\n",
        "for char in string:\n",
        "  if char == 'i' or char == 'a':\n",
        "    print('there is an i or e')"
      ],
      "execution_count": 0,
      "outputs": [
        {
          "output_type": "stream",
          "text": [
            "there is an i or e\n",
            "there is an i or e\n",
            "there is an i or e\n",
            "there is an i or e\n"
          ],
          "name": "stdout"
        }
      ]
    },
    {
      "cell_type": "code",
      "metadata": {
        "id": "toEsb0oD8xVZ",
        "colab_type": "code",
        "outputId": "b40e7ece-0c87-459f-ac68-1fca18f417f1",
        "colab": {
          "base_uri": "https://localhost:8080/",
          "height": 286
        }
      },
      "source": [
        "for x in 'Rjit Navigators':\n",
        "  print(x)"
      ],
      "execution_count": 0,
      "outputs": [
        {
          "output_type": "stream",
          "text": [
            "R\n",
            "j\n",
            "i\n",
            "t\n",
            " \n",
            "N\n",
            "a\n",
            "v\n",
            "i\n",
            "g\n",
            "a\n",
            "t\n",
            "o\n",
            "r\n",
            "s\n",
            "1\n"
          ],
          "name": "stdout"
        }
      ]
    },
    {
      "cell_type": "markdown",
      "metadata": {
        "id": "XJ0U2V9tyFSq",
        "colab_type": "text"
      },
      "source": [
        "### Break statement"
      ]
    },
    {
      "cell_type": "code",
      "metadata": {
        "id": "J3-dckkjyI0k",
        "colab_type": "code",
        "outputId": "5348845d-2dba-4945-db02-a641aec73878",
        "colab": {
          "base_uri": "https://localhost:8080/",
          "height": 84
        }
      },
      "source": [
        "for val in \"Navigators\":\n",
        "    if val == \"i\":\n",
        "        break\n",
        "    print(val)\n",
        "\n",
        "print(\"The end\")"
      ],
      "execution_count": 0,
      "outputs": [
        {
          "output_type": "stream",
          "text": [
            "N\n",
            "a\n",
            "v\n",
            "The end\n"
          ],
          "name": "stdout"
        }
      ]
    },
    {
      "cell_type": "markdown",
      "metadata": {
        "id": "Rq0BdRc7z7gq",
        "colab_type": "text"
      },
      "source": [
        "### Continue Statement"
      ]
    },
    {
      "cell_type": "code",
      "metadata": {
        "id": "ruFUG-Jb0FiI",
        "colab_type": "code",
        "outputId": "4454c795-58b9-4a58-8b6e-07e895bb8d2d",
        "colab": {
          "base_uri": "https://localhost:8080/",
          "height": 185
        }
      },
      "source": [
        "for val in \"Navigators\":\n",
        "    if val == \"i\":\n",
        "        continue\n",
        "    print(val)\n",
        "\n",
        "print(\"The end\")"
      ],
      "execution_count": 0,
      "outputs": [
        {
          "output_type": "stream",
          "text": [
            "N\n",
            "a\n",
            "v\n",
            "g\n",
            "a\n",
            "t\n",
            "o\n",
            "r\n",
            "s\n",
            "The end\n"
          ],
          "name": "stdout"
        }
      ]
    },
    {
      "cell_type": "markdown",
      "metadata": {
        "id": "Ri56y106UitQ",
        "colab_type": "text"
      },
      "source": [
        "## Question 3"
      ]
    },
    {
      "cell_type": "code",
      "metadata": {
        "id": "fu9XFSaWUlhZ",
        "colab_type": "code",
        "outputId": "e862d32e-5923-4487-9756-f7a5dec45cb0",
        "colab": {
          "base_uri": "https://localhost:8080/",
          "height": 185
        }
      },
      "source": [
        "greeting = 'Hello!'\n",
        "count = 0\n",
        "\n",
        "for letter in greeting:\n",
        "    count += 1\n",
        "    if count % 2 == 0:\n",
        "        print(letter)\n",
        "    print(letter)\n",
        "\n",
        "print('done')"
      ],
      "execution_count": 0,
      "outputs": [
        {
          "output_type": "stream",
          "text": [
            "H\n",
            "e\n",
            "e\n",
            "l\n",
            "l\n",
            "l\n",
            "o\n",
            "!\n",
            "!\n",
            "done\n"
          ],
          "name": "stdout"
        }
      ]
    },
    {
      "cell_type": "markdown",
      "metadata": {
        "id": "ogp9Exvc5LcR",
        "colab_type": "text"
      },
      "source": [
        "## Functions"
      ]
    },
    {
      "cell_type": "code",
      "metadata": {
        "id": "XvbVMnah6Gpn",
        "colab_type": "code",
        "colab": {}
      },
      "source": [
        "def fun1():\n",
        "  name = \"Rjit Navigators\"\n",
        "  print('Hello', name)"
      ],
      "execution_count": 0,
      "outputs": []
    },
    {
      "cell_type": "code",
      "metadata": {
        "id": "d8v7Ru726nRw",
        "colab_type": "code",
        "outputId": "894639cf-52de-49eb-c4de-102f85499067",
        "colab": {
          "base_uri": "https://localhost:8080/",
          "height": 35
        }
      },
      "source": [
        "fun1()"
      ],
      "execution_count": 0,
      "outputs": [
        {
          "output_type": "stream",
          "text": [
            "Hello Rjit Navigators\n"
          ],
          "name": "stdout"
        }
      ]
    },
    {
      "cell_type": "markdown",
      "metadata": {
        "id": "cOOwmBKU60aH",
        "colab_type": "text"
      },
      "source": [
        "## Passing arguments in function"
      ]
    },
    {
      "cell_type": "code",
      "metadata": {
        "id": "EO363M0-58Cl",
        "colab_type": "code",
        "outputId": "b246c3d9-df90-4896-d9ac-183a184daeee",
        "colab": {
          "base_uri": "https://localhost:8080/",
          "height": 52
        }
      },
      "source": [
        "def my_function(name):\n",
        "  print(name + \" is studying in RJIT\")\n",
        "\n",
        "my_function(\"Brajkishore\")\n",
        "my_function(\"Prajapati\")"
      ],
      "execution_count": 0,
      "outputs": [
        {
          "output_type": "stream",
          "text": [
            "Brajkishore is studying in RJIT\n",
            "Prajapati is studying in RJIT\n"
          ],
          "name": "stdout"
        }
      ]
    },
    {
      "cell_type": "code",
      "metadata": {
        "id": "PjHZ7cDa6tTw",
        "colab_type": "code",
        "outputId": "5b77acae-2469-4703-9cb7-d3c934b60bb8",
        "colab": {
          "base_uri": "https://localhost:8080/",
          "height": 67
        }
      },
      "source": [
        "def my_function(x):\n",
        "  return 5 * x\n",
        "\n",
        "print(my_function(3))\n",
        "print(my_function(5))\n",
        "print(my_function(9))"
      ],
      "execution_count": 0,
      "outputs": [
        {
          "output_type": "stream",
          "text": [
            "15\n",
            "25\n",
            "45\n"
          ],
          "name": "stdout"
        }
      ]
    },
    {
      "cell_type": "markdown",
      "metadata": {
        "id": "eQCdU2A3l1TN",
        "colab_type": "text"
      },
      "source": [
        "## Iterative function"
      ]
    },
    {
      "cell_type": "code",
      "metadata": {
        "id": "MPQVr0WPl_Af",
        "colab_type": "code",
        "colab": {}
      },
      "source": [
        "#mult_recur iterative solution\n",
        "def mult_iter(a,b):\n",
        "  result = 0\n",
        "  while b >0:\n",
        "    result += a\n",
        "    b -=1\n",
        "  return result\n",
        "print(mult_iter(3,4))"
      ],
      "execution_count": 0,
      "outputs": []
    },
    {
      "cell_type": "code",
      "metadata": {
        "id": "0DQqCvW5o8WM",
        "colab_type": "code",
        "colab": {}
      },
      "source": [
        "#Factorial by iteration\n",
        "def fact(n):\n",
        "  result = 1\n",
        "  for i in range(1, n+1):\n",
        "    result *=i\n",
        "  return result\n",
        "fact(4)"
      ],
      "execution_count": 0,
      "outputs": []
    },
    {
      "cell_type": "code",
      "metadata": {
        "id": "H4l5J2DbrJS8",
        "colab_type": "code",
        "colab": {}
      },
      "source": [
        ""
      ],
      "execution_count": 0,
      "outputs": []
    },
    {
      "cell_type": "markdown",
      "metadata": {
        "id": "roWJBDbtrJ05",
        "colab_type": "text"
      },
      "source": [
        "## Recursive function\n"
      ]
    },
    {
      "cell_type": "code",
      "metadata": {
        "id": "9de2pH8frOsH",
        "colab_type": "code",
        "outputId": "d4e0b85e-e7ef-40c8-cc1f-7ff8c2d42b0b",
        "colab": {
          "base_uri": "https://localhost:8080/",
          "height": 34
        }
      },
      "source": [
        "def mult_recur(a,b):\n",
        "  if b ==1:\n",
        "    return a\n",
        "  else:\n",
        "    return a + mult_recur(a,b-1)\n",
        "mult_recur(3,6)"
      ],
      "execution_count": 0,
      "outputs": [
        {
          "output_type": "execute_result",
          "data": {
            "text/plain": [
              "18"
            ]
          },
          "metadata": {
            "tags": []
          },
          "execution_count": 7
        }
      ]
    },
    {
      "cell_type": "code",
      "metadata": {
        "id": "FR02j4IZsNzf",
        "colab_type": "code",
        "colab": {}
      },
      "source": [
        "# fibonacci series\n",
        "def fib(x):\n",
        "  if x ==0 or x==1:\n",
        "    return 0;\n",
        "  else:\n",
        "    return fib(x-1) + fib(x-2)"
      ],
      "execution_count": 0,
      "outputs": []
    },
    {
      "cell_type": "markdown",
      "metadata": {
        "id": "wls15QEI9woB",
        "colab_type": "text"
      },
      "source": [
        "## Lambda Function"
      ]
    },
    {
      "cell_type": "code",
      "metadata": {
        "id": "HuO8afMkzOC4",
        "colab_type": "code",
        "outputId": "cbd6e108-b934-427a-b962-1ecaa699a80e",
        "colab": {
          "base_uri": "https://localhost:8080/",
          "height": 34
        }
      },
      "source": [
        "double = lambda x: x * 2\n",
        "print(double(5))"
      ],
      "execution_count": 0,
      "outputs": [
        {
          "output_type": "stream",
          "text": [
            "10\n"
          ],
          "name": "stdout"
        }
      ]
    }
  ]
}