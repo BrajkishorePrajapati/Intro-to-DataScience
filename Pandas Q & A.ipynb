{
  "nbformat": 4,
  "nbformat_minor": 0,
  "metadata": {
    "colab": {
      "name": "Week2assignment.ipynb",
      "provenance": [],
      "collapsed_sections": []
    },
    "kernelspec": {
      "name": "python3",
      "display_name": "Python 3"
    }
  },
  "cells": [
    {
      "cell_type": "markdown",
      "metadata": {
        "id": "5SZBFa5sA8ca",
        "colab_type": "text"
      },
      "source": [
        "# **Pandas Assignment**"
      ]
    },
    {
      "cell_type": "markdown",
      "metadata": {
        "id": "LkPr-l35ArCi",
        "colab_type": "text"
      },
      "source": [
        "## Assignment  - Pandas and EDA\n",
        "\n",
        "Part 1\n",
        "The following code loads the olympics dataset (olympics.csv), which was derrived from the Wikipedia entry on All Time Olympic Games Medals, and does some basic data cleaning.\n",
        "\n",
        "The columns are organized as # of Summer games, Summer medals, # of Winter games, Winter medals, total # number of games, total # of medals. Use this dataset to answer the questions below."
      ]
    },
    {
      "cell_type": "code",
      "metadata": {
        "id": "H_a082qX8Nqf",
        "colab_type": "code",
        "outputId": "6e3bcf8c-7037-48ec-eb17-320ebeaa2679",
        "colab": {
          "base_uri": "https://localhost:8080/",
          "height": 121
        }
      },
      "source": [
        "from google.colab import drive\n",
        "drive.mount('/content/gdrive')"
      ],
      "execution_count": 1,
      "outputs": [
        {
          "output_type": "stream",
          "text": [
            "Go to this URL in a browser: https://accounts.google.com/o/oauth2/auth?client_id=947318989803-6bn6qk8qdgf4n4g3pfee6491hc0brc4i.apps.googleusercontent.com&redirect_uri=urn%3aietf%3awg%3aoauth%3a2.0%3aoob&response_type=code&scope=email%20https%3a%2f%2fwww.googleapis.com%2fauth%2fdocs.test%20https%3a%2f%2fwww.googleapis.com%2fauth%2fdrive%20https%3a%2f%2fwww.googleapis.com%2fauth%2fdrive.photos.readonly%20https%3a%2f%2fwww.googleapis.com%2fauth%2fpeopleapi.readonly\n",
            "\n",
            "Enter your authorization code:\n",
            "··········\n",
            "Mounted at /content/gdrive\n"
          ],
          "name": "stdout"
        }
      ]
    },
    {
      "cell_type": "markdown",
      "metadata": {
        "id": "uPsznDxvBlN1",
        "colab_type": "text"
      },
      "source": [
        "## Loading the dataset for Part - 1"
      ]
    },
    {
      "cell_type": "code",
      "metadata": {
        "id": "3dtvxHA0-CEt",
        "colab_type": "code",
        "outputId": "4781aae1-dc48-4ae4-f0f9-11a0e50927b2",
        "colab": {
          "base_uri": "https://localhost:8080/",
          "height": 195
        }
      },
      "source": [
        "import pandas as pd\n",
        "df = pd.read_csv('/content/gdrive/My Drive/Colab Notebooks/Data science/olympics.csv', index_col = 0, skiprows=1)\n",
        "df.head()"
      ],
      "execution_count": 2,
      "outputs": [
        {
          "output_type": "execute_result",
          "data": {
            "text/html": [
              "<div>\n",
              "<style scoped>\n",
              "    .dataframe tbody tr th:only-of-type {\n",
              "        vertical-align: middle;\n",
              "    }\n",
              "\n",
              "    .dataframe tbody tr th {\n",
              "        vertical-align: top;\n",
              "    }\n",
              "\n",
              "    .dataframe thead th {\n",
              "        text-align: right;\n",
              "    }\n",
              "</style>\n",
              "<table border=\"1\" class=\"dataframe\">\n",
              "  <thead>\n",
              "    <tr style=\"text-align: right;\">\n",
              "      <th></th>\n",
              "      <th>№ Summer</th>\n",
              "      <th>01 !</th>\n",
              "      <th>02 !</th>\n",
              "      <th>03 !</th>\n",
              "      <th>Total</th>\n",
              "      <th>№ Winter</th>\n",
              "      <th>01 !.1</th>\n",
              "      <th>02 !.1</th>\n",
              "      <th>03 !.1</th>\n",
              "      <th>Total.1</th>\n",
              "      <th>№ Games</th>\n",
              "      <th>01 !.2</th>\n",
              "      <th>02 !.2</th>\n",
              "      <th>03 !.2</th>\n",
              "      <th>Combined total</th>\n",
              "    </tr>\n",
              "  </thead>\n",
              "  <tbody>\n",
              "    <tr>\n",
              "      <th>Afghanistan (AFG)</th>\n",
              "      <td>13</td>\n",
              "      <td>0</td>\n",
              "      <td>0</td>\n",
              "      <td>2</td>\n",
              "      <td>2</td>\n",
              "      <td>0</td>\n",
              "      <td>0</td>\n",
              "      <td>0</td>\n",
              "      <td>0</td>\n",
              "      <td>0</td>\n",
              "      <td>13</td>\n",
              "      <td>0</td>\n",
              "      <td>0</td>\n",
              "      <td>2</td>\n",
              "      <td>2</td>\n",
              "    </tr>\n",
              "    <tr>\n",
              "      <th>Algeria (ALG)</th>\n",
              "      <td>12</td>\n",
              "      <td>5</td>\n",
              "      <td>2</td>\n",
              "      <td>8</td>\n",
              "      <td>15</td>\n",
              "      <td>3</td>\n",
              "      <td>0</td>\n",
              "      <td>0</td>\n",
              "      <td>0</td>\n",
              "      <td>0</td>\n",
              "      <td>15</td>\n",
              "      <td>5</td>\n",
              "      <td>2</td>\n",
              "      <td>8</td>\n",
              "      <td>15</td>\n",
              "    </tr>\n",
              "    <tr>\n",
              "      <th>Argentina (ARG)</th>\n",
              "      <td>23</td>\n",
              "      <td>18</td>\n",
              "      <td>24</td>\n",
              "      <td>28</td>\n",
              "      <td>70</td>\n",
              "      <td>18</td>\n",
              "      <td>0</td>\n",
              "      <td>0</td>\n",
              "      <td>0</td>\n",
              "      <td>0</td>\n",
              "      <td>41</td>\n",
              "      <td>18</td>\n",
              "      <td>24</td>\n",
              "      <td>28</td>\n",
              "      <td>70</td>\n",
              "    </tr>\n",
              "    <tr>\n",
              "      <th>Armenia (ARM)</th>\n",
              "      <td>5</td>\n",
              "      <td>1</td>\n",
              "      <td>2</td>\n",
              "      <td>9</td>\n",
              "      <td>12</td>\n",
              "      <td>6</td>\n",
              "      <td>0</td>\n",
              "      <td>0</td>\n",
              "      <td>0</td>\n",
              "      <td>0</td>\n",
              "      <td>11</td>\n",
              "      <td>1</td>\n",
              "      <td>2</td>\n",
              "      <td>9</td>\n",
              "      <td>12</td>\n",
              "    </tr>\n",
              "    <tr>\n",
              "      <th>Australasia (ANZ) [ANZ]</th>\n",
              "      <td>2</td>\n",
              "      <td>3</td>\n",
              "      <td>4</td>\n",
              "      <td>5</td>\n",
              "      <td>12</td>\n",
              "      <td>0</td>\n",
              "      <td>0</td>\n",
              "      <td>0</td>\n",
              "      <td>0</td>\n",
              "      <td>0</td>\n",
              "      <td>2</td>\n",
              "      <td>3</td>\n",
              "      <td>4</td>\n",
              "      <td>5</td>\n",
              "      <td>12</td>\n",
              "    </tr>\n",
              "  </tbody>\n",
              "</table>\n",
              "</div>"
            ],
            "text/plain": [
              "                         № Summer  01 !  02 !  ...  02 !.2  03 !.2  Combined total\n",
              "Afghanistan (AFG)              13     0     0  ...       0       2               2\n",
              "Algeria (ALG)                  12     5     2  ...       2       8              15\n",
              "Argentina (ARG)                23    18    24  ...      24      28              70\n",
              "Armenia (ARM)                   5     1     2  ...       2       9              12\n",
              "Australasia (ANZ) [ANZ]         2     3     4  ...       4       5              12\n",
              "\n",
              "[5 rows x 15 columns]"
            ]
          },
          "metadata": {
            "tags": []
          },
          "execution_count": 2
        }
      ]
    },
    {
      "cell_type": "code",
      "metadata": {
        "id": "qJM27HPZB1nN",
        "colab_type": "code",
        "colab": {
          "base_uri": "https://localhost:8080/",
          "height": 34
        },
        "outputId": "9b6f9efc-a792-49a3-b012-fea7a1e03fce"
      },
      "source": [
        "# Shape of the dataset\n",
        "df.shape"
      ],
      "execution_count": 3,
      "outputs": [
        {
          "output_type": "execute_result",
          "data": {
            "text/plain": [
              "(147, 15)"
            ]
          },
          "metadata": {
            "tags": []
          },
          "execution_count": 3
        }
      ]
    },
    {
      "cell_type": "markdown",
      "metadata": {
        "id": "iyvb83-CB-VP",
        "colab_type": "text"
      },
      "source": [
        "**Observation:** \n",
        "* This dataset contains 147 rows and 15 columns."
      ]
    },
    {
      "cell_type": "code",
      "metadata": {
        "id": "h4qKGtvl_PMb",
        "colab_type": "code",
        "outputId": "4d005349-97eb-40b1-84da-55f70d28c895",
        "colab": {
          "base_uri": "https://localhost:8080/",
          "height": 195
        }
      },
      "source": [
        "# Lets rename the columns names.\n",
        "for col in df.columns:\n",
        "    if col[:2]=='01':\n",
        "        df.rename(columns={col:'Gold'+col[4:]}, inplace=True)\n",
        "    if col[:2]=='02':\n",
        "        df.rename(columns={col:'Silver'+col[4:]}, inplace=True)\n",
        "    if col[:2]=='03':\n",
        "        df.rename(columns={col:'Bronze'+col[4:]}, inplace=True)\n",
        "    if col[:1]=='№':\n",
        "        df.rename(columns={col:'#'+col[1:]}, inplace=True)\n",
        "\n",
        "names_ids = df.index.str.split('\\s\\(') # split the index by '('\n",
        "\n",
        "df.index = names_ids.str[0] # the [0] element is the country name (new index) \n",
        "df['ID'] = names_ids.str[1].str[:3] # the [1] element is the abbreviation or ID (take first 3 characters from that)\n",
        "\n",
        "df = df.drop('Totals')\n",
        "df.head()"
      ],
      "execution_count": 4,
      "outputs": [
        {
          "output_type": "execute_result",
          "data": {
            "text/html": [
              "<div>\n",
              "<style scoped>\n",
              "    .dataframe tbody tr th:only-of-type {\n",
              "        vertical-align: middle;\n",
              "    }\n",
              "\n",
              "    .dataframe tbody tr th {\n",
              "        vertical-align: top;\n",
              "    }\n",
              "\n",
              "    .dataframe thead th {\n",
              "        text-align: right;\n",
              "    }\n",
              "</style>\n",
              "<table border=\"1\" class=\"dataframe\">\n",
              "  <thead>\n",
              "    <tr style=\"text-align: right;\">\n",
              "      <th></th>\n",
              "      <th># Summer</th>\n",
              "      <th>Gold</th>\n",
              "      <th>Silver</th>\n",
              "      <th>Bronze</th>\n",
              "      <th>Total</th>\n",
              "      <th># Winter</th>\n",
              "      <th>Gold.1</th>\n",
              "      <th>Silver.1</th>\n",
              "      <th>Bronze.1</th>\n",
              "      <th>Total.1</th>\n",
              "      <th># Games</th>\n",
              "      <th>Gold.2</th>\n",
              "      <th>Silver.2</th>\n",
              "      <th>Bronze.2</th>\n",
              "      <th>Combined total</th>\n",
              "      <th>ID</th>\n",
              "    </tr>\n",
              "  </thead>\n",
              "  <tbody>\n",
              "    <tr>\n",
              "      <th>Afghanistan</th>\n",
              "      <td>13</td>\n",
              "      <td>0</td>\n",
              "      <td>0</td>\n",
              "      <td>2</td>\n",
              "      <td>2</td>\n",
              "      <td>0</td>\n",
              "      <td>0</td>\n",
              "      <td>0</td>\n",
              "      <td>0</td>\n",
              "      <td>0</td>\n",
              "      <td>13</td>\n",
              "      <td>0</td>\n",
              "      <td>0</td>\n",
              "      <td>2</td>\n",
              "      <td>2</td>\n",
              "      <td>AFG</td>\n",
              "    </tr>\n",
              "    <tr>\n",
              "      <th>Algeria</th>\n",
              "      <td>12</td>\n",
              "      <td>5</td>\n",
              "      <td>2</td>\n",
              "      <td>8</td>\n",
              "      <td>15</td>\n",
              "      <td>3</td>\n",
              "      <td>0</td>\n",
              "      <td>0</td>\n",
              "      <td>0</td>\n",
              "      <td>0</td>\n",
              "      <td>15</td>\n",
              "      <td>5</td>\n",
              "      <td>2</td>\n",
              "      <td>8</td>\n",
              "      <td>15</td>\n",
              "      <td>ALG</td>\n",
              "    </tr>\n",
              "    <tr>\n",
              "      <th>Argentina</th>\n",
              "      <td>23</td>\n",
              "      <td>18</td>\n",
              "      <td>24</td>\n",
              "      <td>28</td>\n",
              "      <td>70</td>\n",
              "      <td>18</td>\n",
              "      <td>0</td>\n",
              "      <td>0</td>\n",
              "      <td>0</td>\n",
              "      <td>0</td>\n",
              "      <td>41</td>\n",
              "      <td>18</td>\n",
              "      <td>24</td>\n",
              "      <td>28</td>\n",
              "      <td>70</td>\n",
              "      <td>ARG</td>\n",
              "    </tr>\n",
              "    <tr>\n",
              "      <th>Armenia</th>\n",
              "      <td>5</td>\n",
              "      <td>1</td>\n",
              "      <td>2</td>\n",
              "      <td>9</td>\n",
              "      <td>12</td>\n",
              "      <td>6</td>\n",
              "      <td>0</td>\n",
              "      <td>0</td>\n",
              "      <td>0</td>\n",
              "      <td>0</td>\n",
              "      <td>11</td>\n",
              "      <td>1</td>\n",
              "      <td>2</td>\n",
              "      <td>9</td>\n",
              "      <td>12</td>\n",
              "      <td>ARM</td>\n",
              "    </tr>\n",
              "    <tr>\n",
              "      <th>Australasia</th>\n",
              "      <td>2</td>\n",
              "      <td>3</td>\n",
              "      <td>4</td>\n",
              "      <td>5</td>\n",
              "      <td>12</td>\n",
              "      <td>0</td>\n",
              "      <td>0</td>\n",
              "      <td>0</td>\n",
              "      <td>0</td>\n",
              "      <td>0</td>\n",
              "      <td>2</td>\n",
              "      <td>3</td>\n",
              "      <td>4</td>\n",
              "      <td>5</td>\n",
              "      <td>12</td>\n",
              "      <td>ANZ</td>\n",
              "    </tr>\n",
              "  </tbody>\n",
              "</table>\n",
              "</div>"
            ],
            "text/plain": [
              "             # Summer  Gold  Silver  ...  Bronze.2  Combined total   ID\n",
              "Afghanistan        13     0       0  ...         2               2  AFG\n",
              "Algeria            12     5       2  ...         8              15  ALG\n",
              "Argentina          23    18      24  ...        28              70  ARG\n",
              "Armenia             5     1       2  ...         9              12  ARM\n",
              "Australasia         2     3       4  ...         5              12  ANZ\n",
              "\n",
              "[5 rows x 16 columns]"
            ]
          },
          "metadata": {
            "tags": []
          },
          "execution_count": 4
        }
      ]
    },
    {
      "cell_type": "markdown",
      "metadata": {
        "id": "t6NnZm5hCYa_",
        "colab_type": "text"
      },
      "source": [
        "### Question 0 (Example)\n",
        "\n",
        "What is the first country in df?\n",
        "\n",
        "*This function should return a Series.*"
      ]
    },
    {
      "cell_type": "code",
      "metadata": {
        "id": "oo5z5kTcCXgg",
        "colab_type": "code",
        "colab": {
          "base_uri": "https://localhost:8080/",
          "height": 302
        },
        "outputId": "120e2308-2d02-4134-94b5-965be07fb0ca"
      },
      "source": [
        "# You should write your whole answer within the function provided. The autograder will call\n",
        "# this function and compare the return value against the correct solution value\n",
        "def answer_zero():\n",
        "    # This function returns the row for Afghanistan, which is a Series object. The assignment\n",
        "    # question description will tell you the general format the autograder is expecting\n",
        "    return df.iloc[0]\n",
        "\n",
        "# You can examine what your function returns by calling it in the cell. If you have questions\n",
        "# about the assignment formats, check out the discussion forums for any FAQs\n",
        "answer_zero() "
      ],
      "execution_count": 5,
      "outputs": [
        {
          "output_type": "execute_result",
          "data": {
            "text/plain": [
              "# Summer           13\n",
              "Gold                0\n",
              "Silver              0\n",
              "Bronze              2\n",
              "Total               2\n",
              "# Winter            0\n",
              "Gold.1              0\n",
              "Silver.1            0\n",
              "Bronze.1            0\n",
              "Total.1             0\n",
              "# Games            13\n",
              "Gold.2              0\n",
              "Silver.2            0\n",
              "Bronze.2            2\n",
              "Combined total      2\n",
              "ID                AFG\n",
              "Name: Afghanistan, dtype: object"
            ]
          },
          "metadata": {
            "tags": []
          },
          "execution_count": 5
        }
      ]
    },
    {
      "cell_type": "markdown",
      "metadata": {
        "id": "MAntjATlDcBr",
        "colab_type": "text"
      },
      "source": [
        "### Question 1\n",
        "**1. which country has won the most gold medals in summer games**<br>\n",
        " *This function should return a single string value.*"
      ]
    },
    {
      "cell_type": "code",
      "metadata": {
        "id": "_yM4pZwC-g5c",
        "colab_type": "code",
        "outputId": "89d6e3d5-8f98-4fc7-9815-9e9cecac2f19",
        "colab": {
          "base_uri": "https://localhost:8080/",
          "height": 34
        }
      },
      "source": [
        "def answer_one():\n",
        "  return df['Gold'].idxmax()\n",
        "answer_one()"
      ],
      "execution_count": 7,
      "outputs": [
        {
          "output_type": "execute_result",
          "data": {
            "text/plain": [
              "'United States'"
            ]
          },
          "metadata": {
            "tags": []
          },
          "execution_count": 7
        }
      ]
    },
    {
      "cell_type": "markdown",
      "metadata": {
        "id": "Hr7OJloBD_OS",
        "colab_type": "text"
      },
      "source": [
        "### Question 2\n",
        "**Which country had the biggest difference between their summer and winter gold medal counts?**\n",
        "\n",
        "*This function should return a single string value.*"
      ]
    },
    {
      "cell_type": "code",
      "metadata": {
        "id": "KfYviah4D5gj",
        "colab_type": "code",
        "outputId": "a509b586-a444-4058-8943-cf472e88830d",
        "colab": {
          "base_uri": "https://localhost:8080/",
          "height": 34
        }
      },
      "source": [
        "def answer_two():\n",
        "  return (df['Gold'] - df['Gold.1']).idxmax()\n",
        "answer_two()"
      ],
      "execution_count": 8,
      "outputs": [
        {
          "output_type": "execute_result",
          "data": {
            "text/plain": [
              "'United States'"
            ]
          },
          "metadata": {
            "tags": []
          },
          "execution_count": 8
        }
      ]
    },
    {
      "cell_type": "markdown",
      "metadata": {
        "id": "MAekEzJQGYDs",
        "colab_type": "text"
      },
      "source": [
        "**3. Which country has the biggest difference between their summer gold medal counts and winter gold medal counts relative to their total gold medal count?**\n",
        "                                                     ** (Summer Gold−Winter Gold)/Total Gold**\n",
        "                                                     **Only include countries that have won at least 1 gold in both summer and winter.**"
      ]
    },
    {
      "cell_type": "markdown",
      "metadata": {
        "id": "YxcVklF7C3WT",
        "colab_type": "text"
      },
      "source": [
        "### Question 3\n",
        "**Which country has the biggest difference between their summer gold medal counts and winter gold medal counts relative to their total gold medal count? **\n",
        "\n",
        "$$\\frac{Summer~Gold - Winter~Gold}{Total~Gold}$$\n",
        "\n",
        "Only include countries that have won at least 1 gold in both summer and winter.\n",
        "\n",
        "*This function should return a single string value.*"
      ]
    },
    {
      "cell_type": "code",
      "metadata": {
        "id": "y7MzFnuwG3j6",
        "colab_type": "code",
        "outputId": "2f0e20b6-d36e-4df2-991e-d520bf3d2a4d",
        "colab": {
          "base_uri": "https://localhost:8080/",
          "height": 34
        }
      },
      "source": [
        "def answer_three():\n",
        "  return ((df['Gold'] > 0)- (df['Gold.1'] > 0)/df['Gold.2']).idxmax()\n",
        "answer_three()"
      ],
      "execution_count": 9,
      "outputs": [
        {
          "output_type": "execute_result",
          "data": {
            "text/plain": [
              "'Algeria'"
            ]
          },
          "metadata": {
            "tags": []
          },
          "execution_count": 9
        }
      ]
    },
    {
      "cell_type": "markdown",
      "metadata": {
        "id": "U0zco4aKMXr7",
        "colab_type": "text"
      },
      "source": [
        "## Question 4\n",
        "**Write a function that creates a Series called \"Points\" which is a weighted value where each gold medal (Gold.2) counts for 3 points, silver medals (Silver.2) for 2 points, and bronze medals (Bronze.2) for 1 point. The function should return only the column (a Series object) which you created, with the country names as indices.**\n",
        "*This function should return a Series named `Points` of length 146*"
      ]
    },
    {
      "cell_type": "code",
      "metadata": {
        "id": "iKSsgHk3MWiq",
        "colab_type": "code",
        "outputId": "cc927a67-76f0-4f61-a688-34c4417f8049",
        "colab": {
          "base_uri": "https://localhost:8080/",
          "height": 1119
        }
      },
      "source": [
        "def answer_four():\n",
        "  df['Points'] = df['Gold.2']*3 + df['Silver.2']*2 + df['Bronze.2']*1\n",
        "  return df['Points']\n",
        "answer_four()"
      ],
      "execution_count": 0,
      "outputs": [
        {
          "output_type": "execute_result",
          "data": {
            "text/plain": [
              "Afghanistan                            2\n",
              "Algeria                               27\n",
              "Argentina                            130\n",
              "Armenia                               16\n",
              "Australasia                           22\n",
              "Australia                            919\n",
              "Austria                              488\n",
              "Azerbaijan                            43\n",
              "Bahamas                               24\n",
              "Bahrain                                1\n",
              "Barbados                               1\n",
              "Belarus                              149\n",
              "Belgium                              273\n",
              "Bermuda                                1\n",
              "Bohemia                                5\n",
              "Botswana                               2\n",
              "Brazil                               184\n",
              "British West Indies                    2\n",
              "Bulgaria                             408\n",
              "Burundi                                3\n",
              "Cameroon                              12\n",
              "Canada                               794\n",
              "Chile                                 24\n",
              "China                               1101\n",
              "Colombia                              29\n",
              "Costa Rica                             7\n",
              "Ivory Coast                            2\n",
              "Croatia                               66\n",
              "Cuba                                 420\n",
              "Cyprus                                 2\n",
              "                                    ... \n",
              "Spain                                267\n",
              "Sri Lanka                              4\n",
              "Sudan                                  2\n",
              "Suriname                               4\n",
              "Sweden                              1163\n",
              "Switzerland                          582\n",
              "Syria                                  6\n",
              "Chinese Taipei                        32\n",
              "Tajikistan                             4\n",
              "Tanzania                               4\n",
              "Thailand                              44\n",
              "Togo                                   1\n",
              "Tonga                                  2\n",
              "Trinidad and Tobago                   27\n",
              "Tunisia                               19\n",
              "Turkey                               191\n",
              "Uganda                                14\n",
              "Ukraine                              216\n",
              "United Arab Emirates                   3\n",
              "United States                       5600\n",
              "Uruguay                               16\n",
              "Uzbekistan                            38\n",
              "Venezuela                             18\n",
              "Vietnam                                4\n",
              "Virgin Islands                         2\n",
              "Yugoslavia                           170\n",
              "Independent Olympic Participants       4\n",
              "Zambia                                 3\n",
              "Zimbabwe                              18\n",
              "Mixed team                            38\n",
              "Name: Points, Length: 146, dtype: int64"
            ]
          },
          "metadata": {
            "tags": []
          },
          "execution_count": 157
        }
      ]
    },
    {
      "cell_type": "code",
      "metadata": {
        "id": "FP4C-2CDm3dj",
        "colab_type": "code",
        "colab": {
          "base_uri": "https://localhost:8080/",
          "height": 218
        },
        "outputId": "c3ee8b66-47b9-4b17-f00e-c47652c5a935"
      },
      "source": [
        "def answer_four():\n",
        "    d = {}\n",
        "    for i in range(len(df)):\n",
        "        d[df.iloc[i].name] = df.iloc[i]['Gold.2']*3 + df.iloc[i]['Silver.2']*2 + df.iloc[i]['Bronze.2']\n",
        "    return pd.Series(d)\n",
        "answer_four()"
      ],
      "execution_count": 10,
      "outputs": [
        {
          "output_type": "execute_result",
          "data": {
            "text/plain": [
              "Afghanistan                           2\n",
              "Algeria                              27\n",
              "Argentina                           130\n",
              "Armenia                              16\n",
              "Australasia                          22\n",
              "                                   ... \n",
              "Yugoslavia                          171\n",
              "Independent Olympic Participants      4\n",
              "Zambia                                3\n",
              "Zimbabwe                             18\n",
              "Mixed team                           38\n",
              "Length: 146, dtype: int64"
            ]
          },
          "metadata": {
            "tags": []
          },
          "execution_count": 10
        }
      ]
    },
    {
      "cell_type": "markdown",
      "metadata": {
        "id": "-KcdY6qhDSvU",
        "colab_type": "text"
      },
      "source": [
        "## Part 2\n",
        "For the next set of questions, we will be using census data from the [United States Census Bureau](http://www.census.gov). Counties are political and geographic subdivisions of states in the United States. This dataset contains population data for counties and states in the US from 2010 to 2015. [See this document](https://www2.census.gov/programs-surveys/popest/technical-documentation/file-layouts/2010-2015/co-est2015-alldata.pdf) for a description of the variable names.\n",
        "\n",
        "The census dataset (census.csv) should be loaded as census_df. Answer questions using this as appropriate."
      ]
    },
    {
      "cell_type": "markdown",
      "metadata": {
        "id": "JOC1kc3HDUbk",
        "colab_type": "text"
      },
      "source": [
        ""
      ]
    },
    {
      "cell_type": "code",
      "metadata": {
        "id": "zBxgFCfMPDzj",
        "colab_type": "code",
        "outputId": "5b01cf98-6069-4920-a6bc-870df0f14d9b",
        "colab": {
          "base_uri": "https://localhost:8080/",
          "height": 311
        }
      },
      "source": [
        "import pandas as pd\n",
        "import numpy as np\n",
        "census_df = pd.read_csv('/content/gdrive/My Drive/Colab Notebooks/Data science/census.csv')\n",
        "census_df.head()"
      ],
      "execution_count": 12,
      "outputs": [
        {
          "output_type": "execute_result",
          "data": {
            "text/html": [
              "<div>\n",
              "<style scoped>\n",
              "    .dataframe tbody tr th:only-of-type {\n",
              "        vertical-align: middle;\n",
              "    }\n",
              "\n",
              "    .dataframe tbody tr th {\n",
              "        vertical-align: top;\n",
              "    }\n",
              "\n",
              "    .dataframe thead th {\n",
              "        text-align: right;\n",
              "    }\n",
              "</style>\n",
              "<table border=\"1\" class=\"dataframe\">\n",
              "  <thead>\n",
              "    <tr style=\"text-align: right;\">\n",
              "      <th></th>\n",
              "      <th>SUMLEV</th>\n",
              "      <th>REGION</th>\n",
              "      <th>DIVISION</th>\n",
              "      <th>STATE</th>\n",
              "      <th>COUNTY</th>\n",
              "      <th>STNAME</th>\n",
              "      <th>CTYNAME</th>\n",
              "      <th>CENSUS2010POP</th>\n",
              "      <th>ESTIMATESBASE2010</th>\n",
              "      <th>POPESTIMATE2010</th>\n",
              "      <th>POPESTIMATE2011</th>\n",
              "      <th>POPESTIMATE2012</th>\n",
              "      <th>POPESTIMATE2013</th>\n",
              "      <th>POPESTIMATE2014</th>\n",
              "      <th>POPESTIMATE2015</th>\n",
              "      <th>NPOPCHG_2010</th>\n",
              "      <th>NPOPCHG_2011</th>\n",
              "      <th>NPOPCHG_2012</th>\n",
              "      <th>NPOPCHG_2013</th>\n",
              "      <th>NPOPCHG_2014</th>\n",
              "      <th>NPOPCHG_2015</th>\n",
              "      <th>BIRTHS2010</th>\n",
              "      <th>BIRTHS2011</th>\n",
              "      <th>BIRTHS2012</th>\n",
              "      <th>BIRTHS2013</th>\n",
              "      <th>BIRTHS2014</th>\n",
              "      <th>BIRTHS2015</th>\n",
              "      <th>DEATHS2010</th>\n",
              "      <th>DEATHS2011</th>\n",
              "      <th>DEATHS2012</th>\n",
              "      <th>DEATHS2013</th>\n",
              "      <th>DEATHS2014</th>\n",
              "      <th>DEATHS2015</th>\n",
              "      <th>NATURALINC2010</th>\n",
              "      <th>NATURALINC2011</th>\n",
              "      <th>NATURALINC2012</th>\n",
              "      <th>NATURALINC2013</th>\n",
              "      <th>NATURALINC2014</th>\n",
              "      <th>NATURALINC2015</th>\n",
              "      <th>INTERNATIONALMIG2010</th>\n",
              "      <th>...</th>\n",
              "      <th>RESIDUAL2013</th>\n",
              "      <th>RESIDUAL2014</th>\n",
              "      <th>RESIDUAL2015</th>\n",
              "      <th>GQESTIMATESBASE2010</th>\n",
              "      <th>GQESTIMATES2010</th>\n",
              "      <th>GQESTIMATES2011</th>\n",
              "      <th>GQESTIMATES2012</th>\n",
              "      <th>GQESTIMATES2013</th>\n",
              "      <th>GQESTIMATES2014</th>\n",
              "      <th>GQESTIMATES2015</th>\n",
              "      <th>RBIRTH2011</th>\n",
              "      <th>RBIRTH2012</th>\n",
              "      <th>RBIRTH2013</th>\n",
              "      <th>RBIRTH2014</th>\n",
              "      <th>RBIRTH2015</th>\n",
              "      <th>RDEATH2011</th>\n",
              "      <th>RDEATH2012</th>\n",
              "      <th>RDEATH2013</th>\n",
              "      <th>RDEATH2014</th>\n",
              "      <th>RDEATH2015</th>\n",
              "      <th>RNATURALINC2011</th>\n",
              "      <th>RNATURALINC2012</th>\n",
              "      <th>RNATURALINC2013</th>\n",
              "      <th>RNATURALINC2014</th>\n",
              "      <th>RNATURALINC2015</th>\n",
              "      <th>RINTERNATIONALMIG2011</th>\n",
              "      <th>RINTERNATIONALMIG2012</th>\n",
              "      <th>RINTERNATIONALMIG2013</th>\n",
              "      <th>RINTERNATIONALMIG2014</th>\n",
              "      <th>RINTERNATIONALMIG2015</th>\n",
              "      <th>RDOMESTICMIG2011</th>\n",
              "      <th>RDOMESTICMIG2012</th>\n",
              "      <th>RDOMESTICMIG2013</th>\n",
              "      <th>RDOMESTICMIG2014</th>\n",
              "      <th>RDOMESTICMIG2015</th>\n",
              "      <th>RNETMIG2011</th>\n",
              "      <th>RNETMIG2012</th>\n",
              "      <th>RNETMIG2013</th>\n",
              "      <th>RNETMIG2014</th>\n",
              "      <th>RNETMIG2015</th>\n",
              "    </tr>\n",
              "  </thead>\n",
              "  <tbody>\n",
              "    <tr>\n",
              "      <th>0</th>\n",
              "      <td>40</td>\n",
              "      <td>3</td>\n",
              "      <td>6</td>\n",
              "      <td>1</td>\n",
              "      <td>0</td>\n",
              "      <td>Alabama</td>\n",
              "      <td>Alabama</td>\n",
              "      <td>4779736</td>\n",
              "      <td>4780127</td>\n",
              "      <td>4785161</td>\n",
              "      <td>4801108</td>\n",
              "      <td>4816089</td>\n",
              "      <td>4830533</td>\n",
              "      <td>4846411</td>\n",
              "      <td>4858979</td>\n",
              "      <td>5034</td>\n",
              "      <td>15947</td>\n",
              "      <td>14981</td>\n",
              "      <td>14444</td>\n",
              "      <td>15878</td>\n",
              "      <td>12568</td>\n",
              "      <td>14226</td>\n",
              "      <td>59689</td>\n",
              "      <td>59062</td>\n",
              "      <td>57938</td>\n",
              "      <td>58334</td>\n",
              "      <td>58305</td>\n",
              "      <td>11089</td>\n",
              "      <td>48811</td>\n",
              "      <td>48357</td>\n",
              "      <td>50843</td>\n",
              "      <td>50228</td>\n",
              "      <td>50330</td>\n",
              "      <td>3137</td>\n",
              "      <td>10878</td>\n",
              "      <td>10705</td>\n",
              "      <td>7095</td>\n",
              "      <td>8106</td>\n",
              "      <td>7975</td>\n",
              "      <td>1357</td>\n",
              "      <td>...</td>\n",
              "      <td>677</td>\n",
              "      <td>-573</td>\n",
              "      <td>1135</td>\n",
              "      <td>116185</td>\n",
              "      <td>116212</td>\n",
              "      <td>115560</td>\n",
              "      <td>115666</td>\n",
              "      <td>116963</td>\n",
              "      <td>119088</td>\n",
              "      <td>119599</td>\n",
              "      <td>12.453020</td>\n",
              "      <td>12.282581</td>\n",
              "      <td>12.012080</td>\n",
              "      <td>12.056286</td>\n",
              "      <td>12.014973</td>\n",
              "      <td>10.183524</td>\n",
              "      <td>10.056360</td>\n",
              "      <td>10.541099</td>\n",
              "      <td>10.380963</td>\n",
              "      <td>10.371556</td>\n",
              "      <td>2.269496</td>\n",
              "      <td>2.226220</td>\n",
              "      <td>1.470981</td>\n",
              "      <td>1.675322</td>\n",
              "      <td>1.643417</td>\n",
              "      <td>1.027720</td>\n",
              "      <td>1.019840</td>\n",
              "      <td>1.002216</td>\n",
              "      <td>1.142716</td>\n",
              "      <td>1.179963</td>\n",
              "      <td>0.002295</td>\n",
              "      <td>-0.193196</td>\n",
              "      <td>0.381066</td>\n",
              "      <td>0.582002</td>\n",
              "      <td>-0.467369</td>\n",
              "      <td>1.030015</td>\n",
              "      <td>0.826644</td>\n",
              "      <td>1.383282</td>\n",
              "      <td>1.724718</td>\n",
              "      <td>0.712594</td>\n",
              "    </tr>\n",
              "    <tr>\n",
              "      <th>1</th>\n",
              "      <td>50</td>\n",
              "      <td>3</td>\n",
              "      <td>6</td>\n",
              "      <td>1</td>\n",
              "      <td>1</td>\n",
              "      <td>Alabama</td>\n",
              "      <td>Autauga County</td>\n",
              "      <td>54571</td>\n",
              "      <td>54571</td>\n",
              "      <td>54660</td>\n",
              "      <td>55253</td>\n",
              "      <td>55175</td>\n",
              "      <td>55038</td>\n",
              "      <td>55290</td>\n",
              "      <td>55347</td>\n",
              "      <td>89</td>\n",
              "      <td>593</td>\n",
              "      <td>-78</td>\n",
              "      <td>-137</td>\n",
              "      <td>252</td>\n",
              "      <td>57</td>\n",
              "      <td>151</td>\n",
              "      <td>636</td>\n",
              "      <td>615</td>\n",
              "      <td>574</td>\n",
              "      <td>623</td>\n",
              "      <td>600</td>\n",
              "      <td>152</td>\n",
              "      <td>507</td>\n",
              "      <td>558</td>\n",
              "      <td>583</td>\n",
              "      <td>504</td>\n",
              "      <td>467</td>\n",
              "      <td>-1</td>\n",
              "      <td>129</td>\n",
              "      <td>57</td>\n",
              "      <td>-9</td>\n",
              "      <td>119</td>\n",
              "      <td>133</td>\n",
              "      <td>33</td>\n",
              "      <td>...</td>\n",
              "      <td>22</td>\n",
              "      <td>-10</td>\n",
              "      <td>45</td>\n",
              "      <td>455</td>\n",
              "      <td>455</td>\n",
              "      <td>455</td>\n",
              "      <td>455</td>\n",
              "      <td>455</td>\n",
              "      <td>455</td>\n",
              "      <td>455</td>\n",
              "      <td>11.572789</td>\n",
              "      <td>11.138479</td>\n",
              "      <td>10.416194</td>\n",
              "      <td>11.293597</td>\n",
              "      <td>10.846281</td>\n",
              "      <td>9.225478</td>\n",
              "      <td>10.106133</td>\n",
              "      <td>10.579514</td>\n",
              "      <td>9.136393</td>\n",
              "      <td>8.442022</td>\n",
              "      <td>2.347311</td>\n",
              "      <td>1.032347</td>\n",
              "      <td>-0.163320</td>\n",
              "      <td>2.157204</td>\n",
              "      <td>2.404259</td>\n",
              "      <td>0.363924</td>\n",
              "      <td>0.289782</td>\n",
              "      <td>0.290347</td>\n",
              "      <td>0.326300</td>\n",
              "      <td>0.343466</td>\n",
              "      <td>7.242091</td>\n",
              "      <td>-2.915927</td>\n",
              "      <td>-3.012349</td>\n",
              "      <td>2.265971</td>\n",
              "      <td>-2.530799</td>\n",
              "      <td>7.606016</td>\n",
              "      <td>-2.626146</td>\n",
              "      <td>-2.722002</td>\n",
              "      <td>2.592270</td>\n",
              "      <td>-2.187333</td>\n",
              "    </tr>\n",
              "    <tr>\n",
              "      <th>2</th>\n",
              "      <td>50</td>\n",
              "      <td>3</td>\n",
              "      <td>6</td>\n",
              "      <td>1</td>\n",
              "      <td>3</td>\n",
              "      <td>Alabama</td>\n",
              "      <td>Baldwin County</td>\n",
              "      <td>182265</td>\n",
              "      <td>182265</td>\n",
              "      <td>183193</td>\n",
              "      <td>186659</td>\n",
              "      <td>190396</td>\n",
              "      <td>195126</td>\n",
              "      <td>199713</td>\n",
              "      <td>203709</td>\n",
              "      <td>928</td>\n",
              "      <td>3466</td>\n",
              "      <td>3737</td>\n",
              "      <td>4730</td>\n",
              "      <td>4587</td>\n",
              "      <td>3996</td>\n",
              "      <td>517</td>\n",
              "      <td>2187</td>\n",
              "      <td>2092</td>\n",
              "      <td>2160</td>\n",
              "      <td>2186</td>\n",
              "      <td>2240</td>\n",
              "      <td>532</td>\n",
              "      <td>1825</td>\n",
              "      <td>1879</td>\n",
              "      <td>1902</td>\n",
              "      <td>2044</td>\n",
              "      <td>1992</td>\n",
              "      <td>-15</td>\n",
              "      <td>362</td>\n",
              "      <td>213</td>\n",
              "      <td>258</td>\n",
              "      <td>142</td>\n",
              "      <td>248</td>\n",
              "      <td>69</td>\n",
              "      <td>...</td>\n",
              "      <td>91</td>\n",
              "      <td>434</td>\n",
              "      <td>58</td>\n",
              "      <td>2307</td>\n",
              "      <td>2307</td>\n",
              "      <td>2307</td>\n",
              "      <td>2249</td>\n",
              "      <td>2304</td>\n",
              "      <td>2308</td>\n",
              "      <td>2309</td>\n",
              "      <td>11.826352</td>\n",
              "      <td>11.096524</td>\n",
              "      <td>11.205586</td>\n",
              "      <td>11.072868</td>\n",
              "      <td>11.104997</td>\n",
              "      <td>9.868812</td>\n",
              "      <td>9.966716</td>\n",
              "      <td>9.867141</td>\n",
              "      <td>10.353587</td>\n",
              "      <td>9.875515</td>\n",
              "      <td>1.957540</td>\n",
              "      <td>1.129809</td>\n",
              "      <td>1.338445</td>\n",
              "      <td>0.719281</td>\n",
              "      <td>1.229482</td>\n",
              "      <td>1.011215</td>\n",
              "      <td>0.912334</td>\n",
              "      <td>0.881921</td>\n",
              "      <td>1.073855</td>\n",
              "      <td>1.095627</td>\n",
              "      <td>14.832960</td>\n",
              "      <td>17.647293</td>\n",
              "      <td>21.845705</td>\n",
              "      <td>19.243287</td>\n",
              "      <td>17.197872</td>\n",
              "      <td>15.844176</td>\n",
              "      <td>18.559627</td>\n",
              "      <td>22.727626</td>\n",
              "      <td>20.317142</td>\n",
              "      <td>18.293499</td>\n",
              "    </tr>\n",
              "    <tr>\n",
              "      <th>3</th>\n",
              "      <td>50</td>\n",
              "      <td>3</td>\n",
              "      <td>6</td>\n",
              "      <td>1</td>\n",
              "      <td>5</td>\n",
              "      <td>Alabama</td>\n",
              "      <td>Barbour County</td>\n",
              "      <td>27457</td>\n",
              "      <td>27457</td>\n",
              "      <td>27341</td>\n",
              "      <td>27226</td>\n",
              "      <td>27159</td>\n",
              "      <td>26973</td>\n",
              "      <td>26815</td>\n",
              "      <td>26489</td>\n",
              "      <td>-116</td>\n",
              "      <td>-115</td>\n",
              "      <td>-67</td>\n",
              "      <td>-186</td>\n",
              "      <td>-158</td>\n",
              "      <td>-326</td>\n",
              "      <td>70</td>\n",
              "      <td>335</td>\n",
              "      <td>300</td>\n",
              "      <td>283</td>\n",
              "      <td>260</td>\n",
              "      <td>269</td>\n",
              "      <td>128</td>\n",
              "      <td>319</td>\n",
              "      <td>291</td>\n",
              "      <td>294</td>\n",
              "      <td>310</td>\n",
              "      <td>309</td>\n",
              "      <td>-58</td>\n",
              "      <td>16</td>\n",
              "      <td>9</td>\n",
              "      <td>-11</td>\n",
              "      <td>-50</td>\n",
              "      <td>-40</td>\n",
              "      <td>2</td>\n",
              "      <td>...</td>\n",
              "      <td>19</td>\n",
              "      <td>-1</td>\n",
              "      <td>-5</td>\n",
              "      <td>3193</td>\n",
              "      <td>3193</td>\n",
              "      <td>3382</td>\n",
              "      <td>3388</td>\n",
              "      <td>3389</td>\n",
              "      <td>3353</td>\n",
              "      <td>3352</td>\n",
              "      <td>12.278483</td>\n",
              "      <td>11.032454</td>\n",
              "      <td>10.455923</td>\n",
              "      <td>9.667584</td>\n",
              "      <td>10.093051</td>\n",
              "      <td>11.692048</td>\n",
              "      <td>10.701480</td>\n",
              "      <td>10.862337</td>\n",
              "      <td>11.526735</td>\n",
              "      <td>11.593877</td>\n",
              "      <td>0.586435</td>\n",
              "      <td>0.330974</td>\n",
              "      <td>-0.406414</td>\n",
              "      <td>-1.859151</td>\n",
              "      <td>-1.500825</td>\n",
              "      <td>-0.146609</td>\n",
              "      <td>-0.257424</td>\n",
              "      <td>-0.110840</td>\n",
              "      <td>-0.074366</td>\n",
              "      <td>0.000000</td>\n",
              "      <td>-4.728132</td>\n",
              "      <td>-2.500690</td>\n",
              "      <td>-7.056824</td>\n",
              "      <td>-3.904217</td>\n",
              "      <td>-10.543299</td>\n",
              "      <td>-4.874741</td>\n",
              "      <td>-2.758113</td>\n",
              "      <td>-7.167664</td>\n",
              "      <td>-3.978583</td>\n",
              "      <td>-10.543299</td>\n",
              "    </tr>\n",
              "    <tr>\n",
              "      <th>4</th>\n",
              "      <td>50</td>\n",
              "      <td>3</td>\n",
              "      <td>6</td>\n",
              "      <td>1</td>\n",
              "      <td>7</td>\n",
              "      <td>Alabama</td>\n",
              "      <td>Bibb County</td>\n",
              "      <td>22915</td>\n",
              "      <td>22919</td>\n",
              "      <td>22861</td>\n",
              "      <td>22733</td>\n",
              "      <td>22642</td>\n",
              "      <td>22512</td>\n",
              "      <td>22549</td>\n",
              "      <td>22583</td>\n",
              "      <td>-58</td>\n",
              "      <td>-128</td>\n",
              "      <td>-91</td>\n",
              "      <td>-130</td>\n",
              "      <td>37</td>\n",
              "      <td>34</td>\n",
              "      <td>44</td>\n",
              "      <td>266</td>\n",
              "      <td>245</td>\n",
              "      <td>259</td>\n",
              "      <td>247</td>\n",
              "      <td>253</td>\n",
              "      <td>34</td>\n",
              "      <td>278</td>\n",
              "      <td>237</td>\n",
              "      <td>281</td>\n",
              "      <td>211</td>\n",
              "      <td>223</td>\n",
              "      <td>10</td>\n",
              "      <td>-12</td>\n",
              "      <td>8</td>\n",
              "      <td>-22</td>\n",
              "      <td>36</td>\n",
              "      <td>30</td>\n",
              "      <td>2</td>\n",
              "      <td>...</td>\n",
              "      <td>14</td>\n",
              "      <td>-16</td>\n",
              "      <td>-21</td>\n",
              "      <td>2224</td>\n",
              "      <td>2224</td>\n",
              "      <td>2224</td>\n",
              "      <td>2224</td>\n",
              "      <td>2224</td>\n",
              "      <td>2233</td>\n",
              "      <td>2236</td>\n",
              "      <td>11.668202</td>\n",
              "      <td>10.798898</td>\n",
              "      <td>11.471852</td>\n",
              "      <td>10.962917</td>\n",
              "      <td>11.211557</td>\n",
              "      <td>12.194587</td>\n",
              "      <td>10.446281</td>\n",
              "      <td>12.446295</td>\n",
              "      <td>9.365083</td>\n",
              "      <td>9.882124</td>\n",
              "      <td>-0.526385</td>\n",
              "      <td>0.352617</td>\n",
              "      <td>-0.974443</td>\n",
              "      <td>1.597834</td>\n",
              "      <td>1.329434</td>\n",
              "      <td>0.438654</td>\n",
              "      <td>0.705234</td>\n",
              "      <td>0.797272</td>\n",
              "      <td>0.932070</td>\n",
              "      <td>0.930604</td>\n",
              "      <td>-5.527043</td>\n",
              "      <td>-5.068871</td>\n",
              "      <td>-6.201001</td>\n",
              "      <td>-0.177537</td>\n",
              "      <td>0.177258</td>\n",
              "      <td>-5.088389</td>\n",
              "      <td>-4.363636</td>\n",
              "      <td>-5.403729</td>\n",
              "      <td>0.754533</td>\n",
              "      <td>1.107861</td>\n",
              "    </tr>\n",
              "  </tbody>\n",
              "</table>\n",
              "<p>5 rows × 100 columns</p>\n",
              "</div>"
            ],
            "text/plain": [
              "   SUMLEV  REGION  DIVISION  ...  RNETMIG2013  RNETMIG2014 RNETMIG2015\n",
              "0      40       3         6  ...     1.383282     1.724718    0.712594\n",
              "1      50       3         6  ...    -2.722002     2.592270   -2.187333\n",
              "2      50       3         6  ...    22.727626    20.317142   18.293499\n",
              "3      50       3         6  ...    -7.167664    -3.978583  -10.543299\n",
              "4      50       3         6  ...    -5.403729     0.754533    1.107861\n",
              "\n",
              "[5 rows x 100 columns]"
            ]
          },
          "metadata": {
            "tags": []
          },
          "execution_count": 12
        }
      ]
    },
    {
      "cell_type": "markdown",
      "metadata": {
        "id": "X6OzYzy-DZnu",
        "colab_type": "text"
      },
      "source": [
        "### Question 5\n",
        "**Which state has the most counties in it? (hint: consider the sumlevel key carefully! You'll need this for future questions too...)**\n",
        "\n",
        "*This function should return a single string value.*"
      ]
    },
    {
      "cell_type": "code",
      "metadata": {
        "id": "rT2u6qUUO3WA",
        "colab_type": "code",
        "outputId": "49bad3f1-d3b5-4503-de5b-5728ad6bc14a",
        "colab": {
          "base_uri": "https://localhost:8080/",
          "height": 34
        }
      },
      "source": [
        "def answer_five():\n",
        "  #The .size() built-in method of DataFrameGroupBy objects actually returns a Series object with the group sizes and not a DataFrame.\n",
        "  #If you want a DataFrame whose column is the group sizes, indexed by the groups, with a custom name, you can use the .to_frame() method and use the desired column name as its argument.\n",
        "  df=census_df[census_df['SUMLEV'] == 50]\n",
        "  df = census_df.groupby( [ \"SUMLEV\", \"STNAME\"] ).size().to_frame(name = 'count').reset_index() \n",
        "  return df.loc[df['count'].idxmax()]['STNAME']\n",
        "answer_five()"
      ],
      "execution_count": 13,
      "outputs": [
        {
          "output_type": "execute_result",
          "data": {
            "text/plain": [
              "'Texas'"
            ]
          },
          "metadata": {
            "tags": []
          },
          "execution_count": 13
        }
      ]
    },
    {
      "cell_type": "markdown",
      "metadata": {
        "id": "Iqad7YsODmdG",
        "colab_type": "text"
      },
      "source": [
        "### Question 6\n",
        "**Only looking at the three most populous counties for each state**, what are the three most populous states (in order of highest population to lowest population)? Use `CENSUS2010POP`.\n",
        "\n",
        "*This function should return a list of string values.*"
      ]
    },
    {
      "cell_type": "code",
      "metadata": {
        "id": "WEhn6oQwbFR4",
        "colab_type": "code",
        "colab": {
          "base_uri": "https://localhost:8080/",
          "height": 34
        },
        "outputId": "d9b1f945-219f-4dc7-abdf-0614d40d9c42"
      },
      "source": [
        "def answer_six():\n",
        "    import numpy as np\n",
        "    df = census_df[census_df['SUMLEV']==50]\n",
        "    df1 = df.sort_values(by='CENSUS2010POP', ascending = False).groupby('STNAME').head(3).copy()\n",
        "    df1 = df1.groupby('STNAME').agg({'CENSUS2010POP':np.sum})\n",
        "    df1 = df1.sort_values(by ='CENSUS2010POP', ascending = False)\n",
        "    return list(df1.head(3).index.values)\n",
        "answer_six()"
      ],
      "execution_count": 16,
      "outputs": [
        {
          "output_type": "execute_result",
          "data": {
            "text/plain": [
              "['California', 'Texas', 'Illinois']"
            ]
          },
          "metadata": {
            "tags": []
          },
          "execution_count": 16
        }
      ]
    },
    {
      "cell_type": "code",
      "metadata": {
        "id": "vZjn6Q5AZSol",
        "colab_type": "code",
        "outputId": "8425f8ac-c6e3-417a-dc34-9d606556c7e3",
        "colab": {
          "base_uri": "https://localhost:8080/",
          "height": 34
        }
      },
      "source": [
        "# ALternative method\n",
        "def answer_six():\n",
        "    df=census_df[census_df['SUMLEV'] == 50]\n",
        "    df1=df.sort_values(by=['STNAME','POPESTIMATE2015'],ascending=False).groupby('STNAME').head(3).copy()\n",
        "    df2 = df1.reset_index().groupby(\"STNAME\").sum().sort_values(by=['POPESTIMATE2015'],ascending=False).head(3).copy()\n",
        "    return list(df2.index.values)\n",
        "answer_six()"
      ],
      "execution_count": 19,
      "outputs": [
        {
          "output_type": "execute_result",
          "data": {
            "text/plain": [
              "['California', 'Texas', 'Illinois']"
            ]
          },
          "metadata": {
            "tags": []
          },
          "execution_count": 19
        }
      ]
    },
    {
      "cell_type": "markdown",
      "metadata": {
        "id": "2iaeH95BER5E",
        "colab_type": "text"
      },
      "source": [
        "### Question 7\n",
        "**Which county has had the largest absolute change in population within the period 2010-2015? (Hint: population values are stored in columns POPESTIMATE2010 through POPESTIMATE2015, you need to consider all six columns.)**\n",
        "\n",
        "e.g. If County Population in the 5 year period is 100, 120, 80, 105, 100, 130, then its largest change in the period would be |130-80| = 50.\n",
        "\n",
        "*This function should return a single string value.*"
      ]
    },
    {
      "cell_type": "code",
      "metadata": {
        "id": "GAX9OZ1IzUTg",
        "colab_type": "code",
        "outputId": "c88182de-e8fd-40ac-844e-234772e3ba69",
        "colab": {
          "base_uri": "https://localhost:8080/",
          "height": 134
        }
      },
      "source": [
        "def answer_seven():\n",
        "  df=census_df[census_df['SUMLEV'] == 50]\n",
        "  df['BKP'] = df[['POPESTIMATE2010','POPESTIMATE2011','POPESTIMATE2012',\n",
        "                      'POPESTIMATE2013','POPESTIMATE2014','POPESTIMATE2015']].std(axis=1)\n",
        "  return df.loc[df['BKP'].idxmax()]['CTYNAME']\n",
        "answer_seven()"
      ],
      "execution_count": 21,
      "outputs": [
        {
          "output_type": "stream",
          "text": [
            "/usr/local/lib/python3.6/dist-packages/ipykernel_launcher.py:4: SettingWithCopyWarning: \n",
            "A value is trying to be set on a copy of a slice from a DataFrame.\n",
            "Try using .loc[row_indexer,col_indexer] = value instead\n",
            "\n",
            "See the caveats in the documentation: https://pandas.pydata.org/pandas-docs/stable/user_guide/indexing.html#returning-a-view-versus-a-copy\n",
            "  after removing the cwd from sys.path.\n"
          ],
          "name": "stderr"
        },
        {
          "output_type": "execute_result",
          "data": {
            "text/plain": [
              "'Harris County'"
            ]
          },
          "metadata": {
            "tags": []
          },
          "execution_count": 21
        }
      ]
    },
    {
      "cell_type": "code",
      "metadata": {
        "id": "F_xEnDtgfahu",
        "colab_type": "code",
        "colab": {
          "base_uri": "https://localhost:8080/",
          "height": 336
        },
        "outputId": "042a40a5-bf79-47dc-88eb-69529c84ad0d"
      },
      "source": [
        "# Alternative method\n",
        "def answer_seven():\n",
        "    df = census_df[census_df['SUMLEV']==50]\n",
        "    df['max'] = df[['POPESTIMATE2010','POPESTIMATE2011','POPESTIMATE2012','POPESTIMATE2013','POPESTIMATE2014','POPESTIMATE2015']].max(axis =1)\n",
        "    df['min'] = df[['POPESTIMATE2010','POPESTIMATE2011','POPESTIMATE2012','POPESTIMATE2013','POPESTIMATE2014','POPESTIMATE2015']].min(axis =1)\n",
        "    df['difference'] = abs(df['max'] - df['min'])\n",
        "    return df.loc[df['difference'].idxmax()]['CTYNAME']\n",
        "answer_seven()"
      ],
      "execution_count": 23,
      "outputs": [
        {
          "output_type": "stream",
          "text": [
            "/usr/local/lib/python3.6/dist-packages/ipykernel_launcher.py:3: SettingWithCopyWarning: \n",
            "A value is trying to be set on a copy of a slice from a DataFrame.\n",
            "Try using .loc[row_indexer,col_indexer] = value instead\n",
            "\n",
            "See the caveats in the documentation: https://pandas.pydata.org/pandas-docs/stable/user_guide/indexing.html#returning-a-view-versus-a-copy\n",
            "  This is separate from the ipykernel package so we can avoid doing imports until\n",
            "/usr/local/lib/python3.6/dist-packages/ipykernel_launcher.py:4: SettingWithCopyWarning: \n",
            "A value is trying to be set on a copy of a slice from a DataFrame.\n",
            "Try using .loc[row_indexer,col_indexer] = value instead\n",
            "\n",
            "See the caveats in the documentation: https://pandas.pydata.org/pandas-docs/stable/user_guide/indexing.html#returning-a-view-versus-a-copy\n",
            "  after removing the cwd from sys.path.\n",
            "/usr/local/lib/python3.6/dist-packages/ipykernel_launcher.py:5: SettingWithCopyWarning: \n",
            "A value is trying to be set on a copy of a slice from a DataFrame.\n",
            "Try using .loc[row_indexer,col_indexer] = value instead\n",
            "\n",
            "See the caveats in the documentation: https://pandas.pydata.org/pandas-docs/stable/user_guide/indexing.html#returning-a-view-versus-a-copy\n",
            "  \"\"\"\n"
          ],
          "name": "stderr"
        },
        {
          "output_type": "execute_result",
          "data": {
            "text/plain": [
              "'Harris County'"
            ]
          },
          "metadata": {
            "tags": []
          },
          "execution_count": 23
        }
      ]
    },
    {
      "cell_type": "markdown",
      "metadata": {
        "id": "7BI_aAJNElCs",
        "colab_type": "text"
      },
      "source": [
        "### Question 8\n",
        "In this datafile, the United States is broken up into four regions using the \"REGION\" column. \n",
        "\n",
        "**Create a query that finds the counties that belong to regions 1 or 2, whose name starts with 'Washington', and whose POPESTIMATE2015 was greater than their POPESTIMATE 2014.**\n",
        "\n",
        "*This function should return a 5x2 DataFrame with the columns = ['STNAME', 'CTYNAME'] and the same index ID as the census_df (sorted ascending by index).*"
      ]
    },
    {
      "cell_type": "code",
      "metadata": {
        "id": "ksveSgr_bR8V",
        "colab_type": "code",
        "outputId": "96bbdecf-da37-4d48-ecb1-156c717111cd",
        "colab": {
          "base_uri": "https://localhost:8080/",
          "height": 195
        }
      },
      "source": [
        "def answer_eight():\n",
        "  df=census_df[census_df['SUMLEV']==50]\n",
        "  region_1 = df['REGION']==1\n",
        "  region_2 = df['REGION']==2\n",
        "  county_name = df['CTYNAME'].str.startswith('Washington')\n",
        "  pop_estimate = df['POPESTIMATE2015'] > df['POPESTIMATE2014']\n",
        "  df = df[(region_1|region_2)&county_name&pop_estimate]\n",
        "  return df[['STNAME','CTYNAME']]\n",
        "answer_eight()\n",
        "\n"
      ],
      "execution_count": 24,
      "outputs": [
        {
          "output_type": "execute_result",
          "data": {
            "text/html": [
              "<div>\n",
              "<style scoped>\n",
              "    .dataframe tbody tr th:only-of-type {\n",
              "        vertical-align: middle;\n",
              "    }\n",
              "\n",
              "    .dataframe tbody tr th {\n",
              "        vertical-align: top;\n",
              "    }\n",
              "\n",
              "    .dataframe thead th {\n",
              "        text-align: right;\n",
              "    }\n",
              "</style>\n",
              "<table border=\"1\" class=\"dataframe\">\n",
              "  <thead>\n",
              "    <tr style=\"text-align: right;\">\n",
              "      <th></th>\n",
              "      <th>STNAME</th>\n",
              "      <th>CTYNAME</th>\n",
              "    </tr>\n",
              "  </thead>\n",
              "  <tbody>\n",
              "    <tr>\n",
              "      <th>896</th>\n",
              "      <td>Iowa</td>\n",
              "      <td>Washington County</td>\n",
              "    </tr>\n",
              "    <tr>\n",
              "      <th>1419</th>\n",
              "      <td>Minnesota</td>\n",
              "      <td>Washington County</td>\n",
              "    </tr>\n",
              "    <tr>\n",
              "      <th>2345</th>\n",
              "      <td>Pennsylvania</td>\n",
              "      <td>Washington County</td>\n",
              "    </tr>\n",
              "    <tr>\n",
              "      <th>2355</th>\n",
              "      <td>Rhode Island</td>\n",
              "      <td>Washington County</td>\n",
              "    </tr>\n",
              "    <tr>\n",
              "      <th>3163</th>\n",
              "      <td>Wisconsin</td>\n",
              "      <td>Washington County</td>\n",
              "    </tr>\n",
              "  </tbody>\n",
              "</table>\n",
              "</div>"
            ],
            "text/plain": [
              "            STNAME            CTYNAME\n",
              "896           Iowa  Washington County\n",
              "1419     Minnesota  Washington County\n",
              "2345  Pennsylvania  Washington County\n",
              "2355  Rhode Island  Washington County\n",
              "3163     Wisconsin  Washington County"
            ]
          },
          "metadata": {
            "tags": []
          },
          "execution_count": 24
        }
      ]
    }
  ]
}